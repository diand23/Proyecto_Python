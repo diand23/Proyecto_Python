{
  "cells": [
    {
      "cell_type": "markdown",
      "metadata": {
        "id": "04Qf9XJBO9lr"
      },
      "source": [
        "# Proyecto Módulo 1 sobre Python:\n",
        "En el siguiente notebook vamos a trabajar con PySpark. En él, vamos a usar las sentencias necesarias para obtener una muestra de un conjunto de datos.\n",
        "\n",
        "El primer paso que debemos dar es conectar Google Colab con nuestro Google Drive. Para ello, lanzaremos el siguiente trozo de código."
      ]
    },
    {
      "cell_type": "code",
      "execution_count": 1,
      "metadata": {
        "colab": {
          "base_uri": "https://localhost:8080/"
        },
        "id": "m-I8PEIaPka_",
        "outputId": "e9e7b62c-cbe7-4c62-879d-405948b4cec4"
      },
      "outputs": [
        {
          "name": "stdout",
          "output_type": "stream",
          "text": [
            "Mounted at /content/drive\n"
          ]
        }
      ],
      "source": [
        "from google.colab import drive\n",
        "drive.mount('/content/drive')"
      ]
    },
    {
      "cell_type": "code",
      "execution_count": 2,
      "metadata": {
        "colab": {
          "base_uri": "https://localhost:8080/"
        },
        "id": "adO-ZrkjP2UB",
        "outputId": "d934893f-6b7b-4306-9eb5-437712c4f998"
      },
      "outputs": [
        {
          "name": "stdout",
          "output_type": "stream",
          "text": [
            "drive  sample_data\n"
          ]
        }
      ],
      "source": [
        "!ls"
      ]
    },
    {
      "cell_type": "markdown",
      "metadata": {
        "id": "XjeQ_x6gRupG"
      },
      "source": [
        "Una vez hemos conectado Google Drive, pasamos a instalar Apache Spark en nuestro notebook. En concreto, vamos a trabajar con la versión 3.4.4."
      ]
    },
    {
      "cell_type": "code",
      "execution_count": 3,
      "metadata": {
        "id": "hTwMce99PF7f"
      },
      "outputs": [],
      "source": [
        "!apt-get install openjdk-8-jdk-headless -qq > /dev/null"
      ]
    },
    {
      "cell_type": "code",
      "execution_count": 4,
      "metadata": {
        "colab": {
          "base_uri": "https://localhost:8080/"
        },
        "id": "31EeEgyzPPWu",
        "outputId": "9cddd5d6-2573-4419-dfe9-e9521233647f"
      },
      "outputs": [
        {
          "name": "stdout",
          "output_type": "stream",
          "text": [
            "spark-3.5.5-bin-had 100%[===================>] 382.16M   224MB/s    in 1.7s    \n"
          ]
        }
      ],
      "source": [
        "!wget -q --show-progress https://dlcdn.apache.org/spark/spark-3.5.5/spark-3.5.5-bin-hadoop3.tgz"
      ]
    },
    {
      "cell_type": "code",
      "execution_count": 5,
      "metadata": {
        "colab": {
          "base_uri": "https://localhost:8080/"
        },
        "id": "j8a4Ey_cPx42",
        "outputId": "3d833968-3443-4e91-fd1e-7ef53c290727"
      },
      "outputs": [
        {
          "name": "stdout",
          "output_type": "stream",
          "text": [
            "drive  sample_data  spark-3.5.5-bin-hadoop3.tgz\n"
          ]
        }
      ],
      "source": [
        "!ls\n"
      ]
    },
    {
      "cell_type": "code",
      "execution_count": 6,
      "metadata": {
        "id": "9ynU6UiKPTUj"
      },
      "outputs": [],
      "source": [
        "!tar xf  spark-3.5.5-bin-hadoop3.tgz"
      ]
    },
    {
      "cell_type": "markdown",
      "metadata": {
        "id": "XDn17mDTSCJH"
      },
      "source": [
        "Además de la instalación habitual, hay un paso más que debemos dar, y es la instalación de la librería *findspark*. Esta librería nos permitirá encontrar la instalación de Apache Spark en nuestro sistema.\n",
        "\n",
        "Establecemos también un par de variables de entorno."
      ]
    },
    {
      "cell_type": "code",
      "execution_count": 7,
      "metadata": {
        "colab": {
          "base_uri": "https://localhost:8080/"
        },
        "id": "Xv3SGzUEPVYo",
        "outputId": "f1783080-7079-4504-c0f2-23ebc9beada2"
      },
      "outputs": [
        {
          "name": "stdout",
          "output_type": "stream",
          "text": [
            "Name: findspark\n",
            "Version: 2.0.1\n",
            "Summary: Find pyspark to make it importable.\n",
            "Home-page: https://github.com/minrk/findspark\n",
            "Author: Min RK\n",
            "Author-email: benjaminrk@gmail.com\n",
            "License: BSD (3-clause)\n",
            "Location: /usr/local/lib/python3.11/dist-packages\n",
            "Requires: \n",
            "Required-by: \n"
          ]
        }
      ],
      "source": [
        "!pip install -q findspark\n",
        "!pip show findspark"
      ]
    },
    {
      "cell_type": "code",
      "execution_count": 8,
      "metadata": {
        "id": "XMT8urIfPXc-"
      },
      "outputs": [],
      "source": [
        "import os\n",
        "os.environ[\"JAVA_HOME\"] = \"/usr/lib/jvm/java-8-openjdk-amd64\"\n",
        "os.environ[\"SPARK_HOME\"] = \"/content/spark-3.5.5-bin-hadoop3\""
      ]
    },
    {
      "cell_type": "code",
      "execution_count": 9,
      "metadata": {
        "id": "Psffd2cCPZ1o"
      },
      "outputs": [],
      "source": [
        "import findspark\n",
        "findspark.init()"
      ]
    },
    {
      "cell_type": "code",
      "execution_count": 10,
      "metadata": {
        "colab": {
          "base_uri": "https://localhost:8080/",
          "height": 36
        },
        "id": "1SHQdaHcPbsp",
        "outputId": "3c9128b0-63e3-490e-bf57-48788fef7cdd"
      },
      "outputs": [
        {
          "data": {
            "application/vnd.google.colaboratory.intrinsic+json": {
              "type": "string"
            },
            "text/plain": [
              "'/content/spark-3.5.5-bin-hadoop3'"
            ]
          },
          "execution_count": 10,
          "metadata": {},
          "output_type": "execute_result"
        }
      ],
      "source": [
        "findspark.find()"
      ]
    },
    {
      "cell_type": "markdown",
      "metadata": {
        "id": "so50jP8OSfcK"
      },
      "source": [
        "Una vez tenemos instalado nuestro framework, es momento de crear nuestra variable SparkSession, de la cual parten la mayoría de funcionalidades de SparkSQL"
      ]
    },
    {
      "cell_type": "code",
      "execution_count": 11,
      "metadata": {
        "id": "HUP_YOo_Q0oJ"
      },
      "outputs": [],
      "source": [
        "from pyspark.sql import SparkSession\n",
        "\n",
        "spark = SparkSession.builder\\\n",
        "        .master(\"local\")\\\n",
        "        .appName(\"Pyspark_SQL\")\\\n",
        "        .config('spark.ui.port', '4050')\\\n",
        "        .getOrCreate()"
      ]
    },
    {
      "cell_type": "code",
      "execution_count": 12,
      "metadata": {
        "colab": {
          "base_uri": "https://localhost:8080/",
          "height": 219
        },
        "id": "RM4OjouAQuo3",
        "outputId": "e58ce0c2-4809-4d3e-b94f-958fe71e2ceb"
      },
      "outputs": [
        {
          "data": {
            "text/html": [
              "\n",
              "            <div>\n",
              "                <p><b>SparkSession - in-memory</b></p>\n",
              "                \n",
              "        <div>\n",
              "            <p><b>SparkContext</b></p>\n",
              "\n",
              "            <p><a href=\"http://4c653256bcea:4050\">Spark UI</a></p>\n",
              "\n",
              "            <dl>\n",
              "              <dt>Version</dt>\n",
              "                <dd><code>v3.5.5</code></dd>\n",
              "              <dt>Master</dt>\n",
              "                <dd><code>local</code></dd>\n",
              "              <dt>AppName</dt>\n",
              "                <dd><code>Pyspark_SQL</code></dd>\n",
              "            </dl>\n",
              "        </div>\n",
              "        \n",
              "            </div>\n",
              "        "
            ],
            "text/plain": [
              "<pyspark.sql.session.SparkSession at 0x7d68844beed0>"
            ]
          },
          "execution_count": 12,
          "metadata": {},
          "output_type": "execute_result"
        }
      ],
      "source": [
        "spark"
      ]
    },
    {
      "cell_type": "markdown",
      "metadata": {
        "id": "0ChBZ-lvGlgW"
      },
      "source": [
        "Además de la instalación habitual, hay un paso más que debemos dar, y es la instalación de la librería *findspark*. Esta librería nos permitirá encontrar la instalación de Apache Spark en nuestro sistema.\n",
        "\n",
        "Establecemos también un par de variables de entorno."
      ]
    },
    {
      "cell_type": "markdown",
      "metadata": {
        "id": "x8blXqMBGlgX"
      },
      "source": [
        "Una vez tenemos instalado nuestro framework, es momento de crear nuestra variable SparkSession, de la cual parten la mayoría de funcionalidades de SparkSQL"
      ]
    },
    {
      "cell_type": "markdown",
      "metadata": {
        "id": "kjpR1WzrUQFy"
      },
      "source": [
        "### Lectura de datos"
      ]
    },
    {
      "cell_type": "markdown",
      "metadata": {
        "id": "sQQ0T_fLUAak"
      },
      "source": [
        "Ahora sí, podemos comenzar a trabajar con SparkSQL. Comenzaremos leyendo nuestro conjunto de datos, el cual contiene información de las calificaciones de alumnos en algunas materias."
      ]
    },
    {
      "cell_type": "code",
      "execution_count": 13,
      "metadata": {
        "colab": {
          "base_uri": "https://localhost:8080/"
        },
        "id": "F_cUH4Dl1aMN",
        "outputId": "910d3b42-eb8c-41c4-fe5e-ec282952ca04"
      },
      "outputs": [
        {
          "name": "stdout",
          "output_type": "stream",
          "text": [
            "/content\n"
          ]
        }
      ],
      "source": [
        "!pwd"
      ]
    },
    {
      "cell_type": "code",
      "execution_count": 14,
      "metadata": {
        "colab": {
          "base_uri": "https://localhost:8080/"
        },
        "id": "bCEJ_StYgX0a",
        "outputId": "7c41aed3-dbfc-4eec-eb5b-49cf78a1fd15"
      },
      "outputs": [
        {
          "name": "stdout",
          "output_type": "stream",
          "text": [
            "/content\n"
          ]
        }
      ],
      "source": [
        "import os\n",
        "print(os.getcwd())"
      ]
    },
    {
      "cell_type": "code",
      "execution_count": 15,
      "metadata": {
        "colab": {
          "base_uri": "https://localhost:8080/"
        },
        "id": "xjF_x60RXWAo",
        "outputId": "9c113931-dba7-4615-dd53-f5e1d9bd9e7d"
      },
      "outputs": [
        {
          "name": "stdout",
          "output_type": "stream",
          "text": [
            "Tipos de datos antes de la conversión:\n",
            "Student_ID                        int64\n",
            "Age                               int64\n",
            "Gender                           object\n",
            "Academic_Level                   object\n",
            "Country                          object\n",
            "Avg_Daily_Usage_Hours           float64\n",
            "Most_Used_Platform               object\n",
            "Affects_Academic_Performance     object\n",
            "Sleep_Hours_Per_Night           float64\n",
            "Mental_Health_Score               int64\n",
            "Relationship_Status              object\n",
            "Conflicts_Over_Social_Media       int64\n",
            "Addicted_Score                    int64\n",
            "dtype: object\n",
            "Tipos de datos después de la conversión:\n",
            "Student_ID                        int16\n",
            "Age                                int8\n",
            "Gender                           object\n",
            "Academic_Level                   object\n",
            "Country                          object\n",
            "Avg_Daily_Usage_Hours           float64\n",
            "Most_Used_Platform               object\n",
            "Affects_Academic_Performance     object\n",
            "Sleep_Hours_Per_Night           float64\n",
            "Mental_Health_Score                int8\n",
            "Relationship_Status              object\n",
            "Conflicts_Over_Social_Media        int8\n",
            "Addicted_Score                     int8\n",
            "dtype: object\n",
            "root\n",
            " |-- Student_ID: long (nullable = true)\n",
            " |-- Age: long (nullable = true)\n",
            " |-- Gender: string (nullable = true)\n",
            " |-- Academic_Level: string (nullable = true)\n",
            " |-- Country: string (nullable = true)\n",
            " |-- Avg_Daily_Usage_Hours: double (nullable = true)\n",
            " |-- Most_Used_Platform: string (nullable = true)\n",
            " |-- Affects_Academic_Performance: string (nullable = true)\n",
            " |-- Sleep_Hours_Per_Night: double (nullable = true)\n",
            " |-- Mental_Health_Score: long (nullable = true)\n",
            " |-- Relationship_Status: string (nullable = true)\n",
            " |-- Conflicts_Over_Social_Media: long (nullable = true)\n",
            " |-- Addicted_Score: long (nullable = true)\n",
            "\n",
            "+----------+---+------+--------------+-----------+---------------------+------------------+----------------------------+---------------------+-------------------+-------------------+---------------------------+--------------+\n",
            "|Student_ID|Age|Gender|Academic_Level|    Country|Avg_Daily_Usage_Hours|Most_Used_Platform|Affects_Academic_Performance|Sleep_Hours_Per_Night|Mental_Health_Score|Relationship_Status|Conflicts_Over_Social_Media|Addicted_Score|\n",
            "+----------+---+------+--------------+-----------+---------------------+------------------+----------------------------+---------------------+-------------------+-------------------+---------------------------+--------------+\n",
            "|         1| 19|Female| Undergraduate| Bangladesh|                  5.2|         Instagram|                         Yes|                  6.5|                  6|    In Relationship|                          3|             8|\n",
            "|         2| 22|  Male|      Graduate|      India|                  2.1|           Twitter|                          No|                  7.5|                  8|             Single|                          0|             3|\n",
            "|         3| 20|Female| Undergraduate|        Usa|                  6.0|            Tiktok|                         Yes|                  5.0|                  5|        Complicated|                          4|             9|\n",
            "|         4| 18|  Male|   High school|         Uk|                  3.0|           Youtube|                          No|                  7.0|                  7|             Single|                          1|             4|\n",
            "|         5| 21|  Male|      Graduate|     Canada|                  4.5|          Facebook|                         Yes|                  6.0|                  6|    In Relationship|                          2|             7|\n",
            "|         6| 19|Female| Undergraduate|  Australia|                  7.2|         Instagram|                         Yes|                  4.5|                  4|        Complicated|                          5|             9|\n",
            "|         7| 23|  Male|      Graduate|    Germany|                  1.5|          Linkedin|                          No|                  8.0|                  9|             Single|                          0|             2|\n",
            "|         8| 20|Female| Undergraduate|     Brazil|                  5.8|          Snapchat|                         Yes|                  6.0|                  6|    In Relationship|                          2|             8|\n",
            "|         9| 18|  Male|   High school|      Japan|                  4.0|            Tiktok|                          No|                  6.5|                  7|             Single|                          1|             5|\n",
            "|        10| 21|Female|      Graduate|South korea|                  3.3|         Instagram|                          No|                  7.0|                  7|    In Relationship|                          1|             4|\n",
            "|        11| 19|  Male| Undergraduate|     France|                  4.8|          Snapchat|                         Yes|                  6.2|                  5|        Complicated|                          3|             7|\n",
            "|        12| 20|Female| Undergraduate|      Spain|                  5.5|            Tiktok|                         Yes|                  5.8|                  6|    In Relationship|                          2|             8|\n",
            "|        13| 22|  Male|      Graduate|      Italy|                  2.8|          Linkedin|                          No|                  7.2|                  8|             Single|                          1|             4|\n",
            "|        14| 18|Female|   High school|     Mexico|                  6.5|         Instagram|                         Yes|                  5.5|                  5|             Single|                          4|             9|\n",
            "|        15| 21|  Male| Undergraduate|     Russia|                  3.7|           Youtube|                          No|                  6.8|                  7|    In Relationship|                          2|             5|\n",
            "|        16| 20|Female| Undergraduate|      China|                  4.2|            Tiktok|                         Yes|                  6.0|                  6|        Complicated|                          3|             7|\n",
            "|        17| 24|  Male|      Graduate|     Sweden|                  2.0|          Linkedin|                          No|                  7.8|                  8|             Single|                          0|             3|\n",
            "|        18| 19|Female|   High school|     Norway|                  5.0|         Instagram|                         Yes|                  5.7|                  5|    In Relationship|                          3|             8|\n",
            "|        19| 21|  Male| Undergraduate|    Denmark|                  3.5|          Facebook|                          No|                  6.7|                  7|             Single|                          1|             5|\n",
            "|        20| 20|Female| Undergraduate|Netherlands|                  4.7|          Snapchat|                         Yes|                  5.9|                  6|        Complicated|                          3|             7|\n",
            "+----------+---+------+--------------+-----------+---------------------+------------------+----------------------------+---------------------+-------------------+-------------------+---------------------------+--------------+\n",
            "only showing top 20 rows\n",
            "\n"
          ]
        }
      ],
      "source": [
        "# Importar las librerías necesarias\n",
        "from google.colab import files\n",
        "import pandas as pd\n",
        "import numpy as np\n",
        "\n",
        "data_path = '/content/sample_data/StudentsSocialMediaAddiction_Clean.csv'\n",
        "\n",
        "# Cargar el archivo Excel\n",
        "excel_df = pd.read_csv(data_path)\n",
        "\n",
        "# 3. Revisar los tipos de datos en el DataFrame de pandas\n",
        "print(\"Tipos de datos antes de la conversión:\")\n",
        "print(excel_df.dtypes)\n",
        "\n",
        "# 4. Uniformizar los tipos de datos\n",
        "# Supongamos que quieres que todas las columnas numéricas sean del tipo 'int'\n",
        "# También puedes optar por 'float' si es necesario\n",
        "\n",
        "# Cambiar tipos de datos a int, si son numéricos\n",
        "for column in excel_df.columns:\n",
        "    if pd.api.types.is_numeric_dtype(excel_df[column]):\n",
        "        excel_df[column] = pd.to_numeric(excel_df[column], downcast='integer', errors='coerce')\n",
        "\n",
        "# Verificar los tipos de datos después de la conversión\n",
        "print(\"Tipos de datos después de la conversión:\")\n",
        "print(excel_df.dtypes)\n",
        "\n",
        "# 5. Convertir el DataFrame de pandas a un DataFrame de PySpark\n",
        "df = spark.createDataFrame(excel_df)\n",
        "\n",
        "# Verificar la estructura del DataFrame de PySpark\n",
        "df.printSchema()\n",
        "df.show()"
      ]
    },
    {
      "cell_type": "markdown",
      "metadata": {
        "id": "rYMlD7nw2QA4"
      },
      "source": [
        "\n",
        "\n",
        "\n",
        "\n",
        "### Cálculos"
      ]
    },
    {
      "cell_type": "code",
      "execution_count": 16,
      "metadata": {
        "colab": {
          "base_uri": "https://localhost:8080/"
        },
        "id": "8yODBRVO-qPP",
        "outputId": "c8c1f653-70cb-4500-df58-1167072eb45d"
      },
      "outputs": [
        {
          "name": "stdout",
          "output_type": "stream",
          "text": [
            "root\n",
            " |-- Student_ID: long (nullable = true)\n",
            " |-- Age: long (nullable = true)\n",
            " |-- Gender: string (nullable = true)\n",
            " |-- Academic_Level: string (nullable = true)\n",
            " |-- Country: string (nullable = true)\n",
            " |-- Avg_Daily_Usage_Hours: float (nullable = true)\n",
            " |-- Most_Used_Platform: string (nullable = true)\n",
            " |-- Affects_Academic_Performance: string (nullable = true)\n",
            " |-- Sleep_Hours_Per_Night: float (nullable = true)\n",
            " |-- Mental_Health_Score: float (nullable = true)\n",
            " |-- Relationship_Status: string (nullable = true)\n",
            " |-- Conflicts_Over_Social_Media: float (nullable = true)\n",
            " |-- Addicted_Score: float (nullable = true)\n",
            "\n",
            "+----------+---+------+--------------+-----------+---------------------+------------------+----------------------------+---------------------+-------------------+-------------------+---------------------------+--------------+\n",
            "|Student_ID|Age|Gender|Academic_Level|    Country|Avg_Daily_Usage_Hours|Most_Used_Platform|Affects_Academic_Performance|Sleep_Hours_Per_Night|Mental_Health_Score|Relationship_Status|Conflicts_Over_Social_Media|Addicted_Score|\n",
            "+----------+---+------+--------------+-----------+---------------------+------------------+----------------------------+---------------------+-------------------+-------------------+---------------------------+--------------+\n",
            "|         1| 19|Female| Undergraduate| Bangladesh|                  5.2|         Instagram|                         Yes|                  6.5|                6.0|    In Relationship|                        3.0|           8.0|\n",
            "|         2| 22|  Male|      Graduate|      India|                  2.1|           Twitter|                          No|                  7.5|                8.0|             Single|                        0.0|           3.0|\n",
            "|         3| 20|Female| Undergraduate|        Usa|                  6.0|            Tiktok|                         Yes|                  5.0|                5.0|        Complicated|                        4.0|           9.0|\n",
            "|         4| 18|  Male|   High school|         Uk|                  3.0|           Youtube|                          No|                  7.0|                7.0|             Single|                        1.0|           4.0|\n",
            "|         5| 21|  Male|      Graduate|     Canada|                  4.5|          Facebook|                         Yes|                  6.0|                6.0|    In Relationship|                        2.0|           7.0|\n",
            "|         6| 19|Female| Undergraduate|  Australia|                  7.2|         Instagram|                         Yes|                  4.5|                4.0|        Complicated|                        5.0|           9.0|\n",
            "|         7| 23|  Male|      Graduate|    Germany|                  1.5|          Linkedin|                          No|                  8.0|                9.0|             Single|                        0.0|           2.0|\n",
            "|         8| 20|Female| Undergraduate|     Brazil|                  5.8|          Snapchat|                         Yes|                  6.0|                6.0|    In Relationship|                        2.0|           8.0|\n",
            "|         9| 18|  Male|   High school|      Japan|                  4.0|            Tiktok|                          No|                  6.5|                7.0|             Single|                        1.0|           5.0|\n",
            "|        10| 21|Female|      Graduate|South korea|                  3.3|         Instagram|                          No|                  7.0|                7.0|    In Relationship|                        1.0|           4.0|\n",
            "|        11| 19|  Male| Undergraduate|     France|                  4.8|          Snapchat|                         Yes|                  6.2|                5.0|        Complicated|                        3.0|           7.0|\n",
            "|        12| 20|Female| Undergraduate|      Spain|                  5.5|            Tiktok|                         Yes|                  5.8|                6.0|    In Relationship|                        2.0|           8.0|\n",
            "|        13| 22|  Male|      Graduate|      Italy|                  2.8|          Linkedin|                          No|                  7.2|                8.0|             Single|                        1.0|           4.0|\n",
            "|        14| 18|Female|   High school|     Mexico|                  6.5|         Instagram|                         Yes|                  5.5|                5.0|             Single|                        4.0|           9.0|\n",
            "|        15| 21|  Male| Undergraduate|     Russia|                  3.7|           Youtube|                          No|                  6.8|                7.0|    In Relationship|                        2.0|           5.0|\n",
            "|        16| 20|Female| Undergraduate|      China|                  4.2|            Tiktok|                         Yes|                  6.0|                6.0|        Complicated|                        3.0|           7.0|\n",
            "|        17| 24|  Male|      Graduate|     Sweden|                  2.0|          Linkedin|                          No|                  7.8|                8.0|             Single|                        0.0|           3.0|\n",
            "|        18| 19|Female|   High school|     Norway|                  5.0|         Instagram|                         Yes|                  5.7|                5.0|    In Relationship|                        3.0|           8.0|\n",
            "|        19| 21|  Male| Undergraduate|    Denmark|                  3.5|          Facebook|                          No|                  6.7|                7.0|             Single|                        1.0|           5.0|\n",
            "|        20| 20|Female| Undergraduate|Netherlands|                  4.7|          Snapchat|                         Yes|                  5.9|                6.0|        Complicated|                        3.0|           7.0|\n",
            "+----------+---+------+--------------+-----------+---------------------+------------------+----------------------------+---------------------+-------------------+-------------------+---------------------------+--------------+\n",
            "only showing top 20 rows\n",
            "\n"
          ]
        }
      ],
      "source": [
        "#Importamos las librerías necesarias\n",
        "from pyspark.ml.classification import DecisionTreeClassifier\n",
        "from pyspark.ml.feature import VectorAssembler, StringIndexer, IndexToString\n",
        "from pyspark.ml.evaluation import MulticlassClassificationEvaluator\n",
        "from pyspark.sql.functions import col\n",
        "\n",
        "#Modificación del tipo de dato a float\n",
        "df = df.withColumn('Avg_Daily_Usage_Hours', col('Avg_Daily_Usage_Hours').cast(\"float\"))\n",
        "df = df.withColumn('Sleep_Hours_Per_Night', col('Sleep_Hours_Per_Night').cast(\"float\"))\n",
        "df = df.withColumn('Mental_Health_Score', col('Mental_Health_Score').cast(\"float\"))\n",
        "df = df.withColumn('Conflicts_Over_Social_Media', col('Conflicts_Over_Social_Media').cast(\"float\"))\n",
        "df = df.withColumn('Addicted_Score', col('Addicted_Score').cast(\"float\"))\n",
        "\n",
        "# Mostrar el esquema para verificar los tipos de datos\n",
        "df.printSchema()\n",
        "df.show()"
      ]
    },
    {
      "cell_type": "code",
      "execution_count": 17,
      "metadata": {
        "id": "zGm7I6kEU4xd"
      },
      "outputs": [],
      "source": [
        "#Creación de la columna 'features'\n",
        "feat = VectorAssembler(inputCols=[\"Avg_Daily_Usage_Hours\", \"Sleep_Hours_Per_Night\",\"Conflicts_Over_Social_Media\",\"Addicted_Score\"], outputCol=\"features\")\n",
        "feat_df = feat.transform(df)"
      ]
    },
    {
      "cell_type": "code",
      "execution_count": 18,
      "metadata": {
        "colab": {
          "base_uri": "https://localhost:8080/"
        },
        "id": "yBFPbJ7T46Ww",
        "outputId": "e72e4d4d-6158-4fa7-935d-10d7c56bc0c8"
      },
      "outputs": [
        {
          "name": "stdout",
          "output_type": "stream",
          "text": [
            "+----------+---+------+--------------+-----------+---------------------+------------------+----------------------------+---------------------+-------------------+-------------------+---------------------------+--------------+--------------------+\n",
            "|Student_ID|Age|Gender|Academic_Level|    Country|Avg_Daily_Usage_Hours|Most_Used_Platform|Affects_Academic_Performance|Sleep_Hours_Per_Night|Mental_Health_Score|Relationship_Status|Conflicts_Over_Social_Media|Addicted_Score|            features|\n",
            "+----------+---+------+--------------+-----------+---------------------+------------------+----------------------------+---------------------+-------------------+-------------------+---------------------------+--------------+--------------------+\n",
            "|         1| 19|Female| Undergraduate| Bangladesh|                  5.2|         Instagram|                         Yes|                  6.5|                6.0|    In Relationship|                        3.0|           8.0|[5.19999980926513...|\n",
            "|         2| 22|  Male|      Graduate|      India|                  2.1|           Twitter|                          No|                  7.5|                8.0|             Single|                        0.0|           3.0|[2.09999990463256...|\n",
            "|         3| 20|Female| Undergraduate|        Usa|                  6.0|            Tiktok|                         Yes|                  5.0|                5.0|        Complicated|                        4.0|           9.0|   [6.0,5.0,4.0,9.0]|\n",
            "|         4| 18|  Male|   High school|         Uk|                  3.0|           Youtube|                          No|                  7.0|                7.0|             Single|                        1.0|           4.0|   [3.0,7.0,1.0,4.0]|\n",
            "|         5| 21|  Male|      Graduate|     Canada|                  4.5|          Facebook|                         Yes|                  6.0|                6.0|    In Relationship|                        2.0|           7.0|   [4.5,6.0,2.0,7.0]|\n",
            "|         6| 19|Female| Undergraduate|  Australia|                  7.2|         Instagram|                         Yes|                  4.5|                4.0|        Complicated|                        5.0|           9.0|[7.19999980926513...|\n",
            "|         7| 23|  Male|      Graduate|    Germany|                  1.5|          Linkedin|                          No|                  8.0|                9.0|             Single|                        0.0|           2.0|   [1.5,8.0,0.0,2.0]|\n",
            "|         8| 20|Female| Undergraduate|     Brazil|                  5.8|          Snapchat|                         Yes|                  6.0|                6.0|    In Relationship|                        2.0|           8.0|[5.80000019073486...|\n",
            "|         9| 18|  Male|   High school|      Japan|                  4.0|            Tiktok|                          No|                  6.5|                7.0|             Single|                        1.0|           5.0|   [4.0,6.5,1.0,5.0]|\n",
            "|        10| 21|Female|      Graduate|South korea|                  3.3|         Instagram|                          No|                  7.0|                7.0|    In Relationship|                        1.0|           4.0|[3.29999995231628...|\n",
            "|        11| 19|  Male| Undergraduate|     France|                  4.8|          Snapchat|                         Yes|                  6.2|                5.0|        Complicated|                        3.0|           7.0|[4.80000019073486...|\n",
            "|        12| 20|Female| Undergraduate|      Spain|                  5.5|            Tiktok|                         Yes|                  5.8|                6.0|    In Relationship|                        2.0|           8.0|[5.5,5.8000001907...|\n",
            "|        13| 22|  Male|      Graduate|      Italy|                  2.8|          Linkedin|                          No|                  7.2|                8.0|             Single|                        1.0|           4.0|[2.79999995231628...|\n",
            "|        14| 18|Female|   High school|     Mexico|                  6.5|         Instagram|                         Yes|                  5.5|                5.0|             Single|                        4.0|           9.0|   [6.5,5.5,4.0,9.0]|\n",
            "|        15| 21|  Male| Undergraduate|     Russia|                  3.7|           Youtube|                          No|                  6.8|                7.0|    In Relationship|                        2.0|           5.0|[3.70000004768371...|\n",
            "|        16| 20|Female| Undergraduate|      China|                  4.2|            Tiktok|                         Yes|                  6.0|                6.0|        Complicated|                        3.0|           7.0|[4.19999980926513...|\n",
            "|        17| 24|  Male|      Graduate|     Sweden|                  2.0|          Linkedin|                          No|                  7.8|                8.0|             Single|                        0.0|           3.0|[2.0,7.8000001907...|\n",
            "|        18| 19|Female|   High school|     Norway|                  5.0|         Instagram|                         Yes|                  5.7|                5.0|    In Relationship|                        3.0|           8.0|[5.0,5.6999998092...|\n",
            "|        19| 21|  Male| Undergraduate|    Denmark|                  3.5|          Facebook|                          No|                  6.7|                7.0|             Single|                        1.0|           5.0|[3.5,6.6999998092...|\n",
            "|        20| 20|Female| Undergraduate|Netherlands|                  4.7|          Snapchat|                         Yes|                  5.9|                6.0|        Complicated|                        3.0|           7.0|[4.69999980926513...|\n",
            "+----------+---+------+--------------+-----------+---------------------+------------------+----------------------------+---------------------+-------------------+-------------------+---------------------------+--------------+--------------------+\n",
            "only showing top 20 rows\n",
            "\n"
          ]
        }
      ],
      "source": [
        "#Mostramos como se ha creado correctamente la columna 'features'\n",
        "feat_df.show()"
      ]
    },
    {
      "cell_type": "code",
      "execution_count": 19,
      "metadata": {
        "id": "HodSCLKlYKKM"
      },
      "outputs": [],
      "source": [
        "#Importamos las librerías\n",
        "from pyspark.ml.clustering import BisectingKMeans\n",
        "\n",
        "#Definimos el número de clusters que vamos a crear (5 en este caso)\n",
        "bkm = BisectingKMeans().setK(5).setSeed(1)"
      ]
    },
    {
      "cell_type": "code",
      "execution_count": 20,
      "metadata": {
        "colab": {
          "base_uri": "https://localhost:8080/"
        },
        "id": "Z_rj6x5bYR41",
        "outputId": "2fadbe2a-4a45-490d-cc34-88a3744916dd"
      },
      "outputs": [
        {
          "name": "stdout",
          "output_type": "stream",
          "text": [
            "+----------+---+------+--------------+---------------+---------------------+------------------+----------------------------+---------------------+-------------------+-------------------+---------------------------+--------------+--------------------+----------+\n",
            "|Student_ID|Age|Gender|Academic_Level|        Country|Avg_Daily_Usage_Hours|Most_Used_Platform|Affects_Academic_Performance|Sleep_Hours_Per_Night|Mental_Health_Score|Relationship_Status|Conflicts_Over_Social_Media|Addicted_Score|            features|prediction|\n",
            "+----------+---+------+--------------+---------------+---------------------+------------------+----------------------------+---------------------+-------------------+-------------------+---------------------------+--------------+--------------------+----------+\n",
            "|         1| 19|Female| Undergraduate|     Bangladesh|                  5.2|         Instagram|                         Yes|                  6.5|                6.0|    In Relationship|                        3.0|           8.0|[5.19999980926513...|         3|\n",
            "|         2| 22|  Male|      Graduate|          India|                  2.1|           Twitter|                          No|                  7.5|                8.0|             Single|                        0.0|           3.0|[2.09999990463256...|         0|\n",
            "|         3| 20|Female| Undergraduate|            Usa|                  6.0|            Tiktok|                         Yes|                  5.0|                5.0|        Complicated|                        4.0|           9.0|   [6.0,5.0,4.0,9.0]|         4|\n",
            "|         4| 18|  Male|   High school|             Uk|                  3.0|           Youtube|                          No|                  7.0|                7.0|             Single|                        1.0|           4.0|   [3.0,7.0,1.0,4.0]|         0|\n",
            "|         5| 21|  Male|      Graduate|         Canada|                  4.5|          Facebook|                         Yes|                  6.0|                6.0|    In Relationship|                        2.0|           7.0|   [4.5,6.0,2.0,7.0]|         3|\n",
            "|         6| 19|Female| Undergraduate|      Australia|                  7.2|         Instagram|                         Yes|                  4.5|                4.0|        Complicated|                        5.0|           9.0|[7.19999980926513...|         4|\n",
            "|         7| 23|  Male|      Graduate|        Germany|                  1.5|          Linkedin|                          No|                  8.0|                9.0|             Single|                        0.0|           2.0|   [1.5,8.0,0.0,2.0]|         0|\n",
            "|         8| 20|Female| Undergraduate|         Brazil|                  5.8|          Snapchat|                         Yes|                  6.0|                6.0|    In Relationship|                        2.0|           8.0|[5.80000019073486...|         3|\n",
            "|         9| 18|  Male|   High school|          Japan|                  4.0|            Tiktok|                          No|                  6.5|                7.0|             Single|                        1.0|           5.0|   [4.0,6.5,1.0,5.0]|         1|\n",
            "|        10| 21|Female|      Graduate|    South korea|                  3.3|         Instagram|                          No|                  7.0|                7.0|    In Relationship|                        1.0|           4.0|[3.29999995231628...|         0|\n",
            "|        11| 19|  Male| Undergraduate|         France|                  4.8|          Snapchat|                         Yes|                  6.2|                5.0|        Complicated|                        3.0|           7.0|[4.80000019073486...|         3|\n",
            "|        12| 20|Female| Undergraduate|          Spain|                  5.5|            Tiktok|                         Yes|                  5.8|                6.0|    In Relationship|                        2.0|           8.0|[5.5,5.8000001907...|         3|\n",
            "|        13| 22|  Male|      Graduate|          Italy|                  2.8|          Linkedin|                          No|                  7.2|                8.0|             Single|                        1.0|           4.0|[2.79999995231628...|         0|\n",
            "|        14| 18|Female|   High school|         Mexico|                  6.5|         Instagram|                         Yes|                  5.5|                5.0|             Single|                        4.0|           9.0|   [6.5,5.5,4.0,9.0]|         4|\n",
            "|        15| 21|  Male| Undergraduate|         Russia|                  3.7|           Youtube|                          No|                  6.8|                7.0|    In Relationship|                        2.0|           5.0|[3.70000004768371...|         1|\n",
            "|        16| 20|Female| Undergraduate|          China|                  4.2|            Tiktok|                         Yes|                  6.0|                6.0|        Complicated|                        3.0|           7.0|[4.19999980926513...|         3|\n",
            "|        17| 24|  Male|      Graduate|         Sweden|                  2.0|          Linkedin|                          No|                  7.8|                8.0|             Single|                        0.0|           3.0|[2.0,7.8000001907...|         0|\n",
            "|        18| 19|Female|   High school|         Norway|                  5.0|         Instagram|                         Yes|                  5.7|                5.0|    In Relationship|                        3.0|           8.0|[5.0,5.6999998092...|         3|\n",
            "|        19| 21|  Male| Undergraduate|        Denmark|                  3.5|          Facebook|                          No|                  6.7|                7.0|             Single|                        1.0|           5.0|[3.5,6.6999998092...|         0|\n",
            "|        20| 20|Female| Undergraduate|    Netherlands|                  4.7|          Snapchat|                         Yes|                  5.9|                6.0|        Complicated|                        3.0|           7.0|[4.69999980926513...|         3|\n",
            "|        21| 18|  Male|   High school|        Belgium|                  5.3|            Tiktok|                         Yes|                  5.5|                5.0|             Single|                        4.0|           8.0|[5.30000019073486...|         4|\n",
            "|        22| 23|Female|      Graduate|    Switzerland|                  2.5|          Linkedin|                          No|                  7.3|                8.0|    In Relationship|                        1.0|           4.0|[2.5,7.3000001907...|         0|\n",
            "|        23| 19|  Male| Undergraduate|        Austria|                  4.9|         Instagram|                         Yes|                  5.8|                6.0|        Complicated|                        3.0|           7.0|[4.90000009536743...|         3|\n",
            "|        24| 20|Female| Undergraduate|       Portugal|                  5.7|            Tiktok|                         Yes|                  5.4|                5.0|             Single|                        4.0|           8.0|[5.69999980926513...|         4|\n",
            "|        25| 22|  Male|      Graduate|         Greece|                  3.2|          Facebook|                          No|                  6.9|                7.0|    In Relationship|                        2.0|           5.0|[3.20000004768371...|         1|\n",
            "|        26| 19|Female|   High school|        Ireland|                  6.1|         Instagram|                         Yes|                  5.2|                5.0|        Complicated|                        4.0|           9.0|[6.09999990463256...|         4|\n",
            "|        27| 21|  Male| Undergraduate|    New zealand|                  3.8|           Youtube|                          No|                  6.6|                7.0|             Single|                        1.0|           5.0|[3.79999995231628...|         1|\n",
            "|        28| 20|Female| Undergraduate|      Singapore|                  4.4|            Tiktok|                         Yes|                  5.9|                6.0|    In Relationship|                        3.0|           7.0|[4.40000009536743...|         3|\n",
            "|        29| 24|  Male|      Graduate|       Malaysia|                  2.2|          Linkedin|                          No|                  7.4|                8.0|             Single|                        0.0|           3.0|[2.20000004768371...|         0|\n",
            "|        30| 19|Female|   High school|       Thailand|                  5.9|         Instagram|                         Yes|                  5.3|                5.0|        Complicated|                        4.0|           8.0|[5.90000009536743...|         4|\n",
            "|        31| 21|  Male| Undergraduate|        Vietnam|                  3.6|          Facebook|                          No|                  6.7|                7.0|             Single|                        1.0|           5.0|[3.59999990463256...|         0|\n",
            "|        32| 20|Female| Undergraduate|    Philippines|                  4.8|          Snapchat|                         Yes|                  5.7|                6.0|    In Relationship|                        3.0|           7.0|[4.80000019073486...|         3|\n",
            "|        33| 18|  Male|   High school|      Indonesia|                  5.4|            Tiktok|                         Yes|                  5.4|                5.0|        Complicated|                        4.0|           8.0|[5.40000009536743...|         4|\n",
            "|        34| 23|Female|      Graduate|         Taiwan|                  2.6|          Linkedin|                          No|                  7.2|                8.0|             Single|                        1.0|           4.0|[2.59999990463256...|         0|\n",
            "|        35| 19|  Male| Undergraduate|      Hong kong|                  4.7|         Instagram|                         Yes|                  5.8|                6.0|    In Relationship|                        3.0|           7.0|[4.69999980926513...|         3|\n",
            "|        36| 20|Female| Undergraduate|         Turkey|                  5.6|            Tiktok|                         Yes|                  5.5|                5.0|        Complicated|                        4.0|           8.0|[5.59999990463256...|         4|\n",
            "|        37| 22|  Male|      Graduate|         Israel|                  3.1|          Facebook|                          No|                  6.8|                7.0|             Single|                        1.0|           5.0|[3.09999990463256...|         0|\n",
            "|        38| 19|Female|   High school|            Uae|                  6.2|         Instagram|                         Yes|                  5.1|                5.0|    In Relationship|                        4.0|           9.0|[6.19999980926513...|         4|\n",
            "|        39| 21|  Male| Undergraduate|          Egypt|                  3.9|           Youtube|                          No|                  6.5|                7.0|        Complicated|                        2.0|           6.0|[3.90000009536743...|         1|\n",
            "|        40| 20|Female| Undergraduate|        Morocco|                  4.5|            Tiktok|                         Yes|                  5.8|                6.0|             Single|                        3.0|           7.0|[4.5,5.8000001907...|         3|\n",
            "|        41| 24|  Male|      Graduate|   South africa|                  2.3|          Linkedin|                          No|                  7.3|                8.0|    In Relationship|                        1.0|           4.0|[2.29999995231628...|         0|\n",
            "|        42| 19|Female|   High school|        Nigeria|                  5.8|         Instagram|                         Yes|                  5.4|                5.0|        Complicated|                        4.0|           8.0|[5.80000019073486...|         4|\n",
            "|        43| 21|  Male| Undergraduate|          Kenya|                  3.7|          Facebook|                          No|                  6.6|                7.0|             Single|                        2.0|           5.0|[3.70000004768371...|         1|\n",
            "|        44| 20|Female| Undergraduate|          Ghana|                  4.6|          Snapchat|                         Yes|                  5.7|                6.0|    In Relationship|                        3.0|           7.0|[4.59999990463256...|         3|\n",
            "|        45| 18|  Male|   High school|      Argentina|                  5.5|            Tiktok|                         Yes|                  5.3|                5.0|             Single|                        4.0|           8.0|[5.5,5.3000001907...|         4|\n",
            "|        46| 23|Female|      Graduate|          Chile|                  2.7|          Linkedin|                          No|                  7.1|                8.0|        Complicated|                        1.0|           4.0|[2.70000004768371...|         0|\n",
            "|        47| 19|  Male| Undergraduate|       Colombia|                  4.8|         Instagram|                         Yes|                  5.9|                6.0|    In Relationship|                        3.0|           7.0|[4.80000019073486...|         3|\n",
            "|        48| 20|Female| Undergraduate|           Peru|                  5.5|            Tiktok|                         Yes|                  5.6|                5.0|             Single|                        4.0|           8.0|[5.5,5.5999999046...|         4|\n",
            "|        49| 22|  Male|      Graduate|      Venezuela|                  3.3|          Facebook|                          No|                  6.7|                7.0|    In Relationship|                        2.0|           5.0|[3.29999995231628...|         1|\n",
            "|        50| 19|Female|   High school|        Ecuador|                  6.3|         Instagram|                         Yes|                  5.2|                5.0|        Complicated|                        4.0|           9.0|[6.30000019073486...|         4|\n",
            "|        51| 21|  Male| Undergraduate|        Uruguay|                  3.8|           Youtube|                          No|                  6.4|                7.0|             Single|                        2.0|           6.0|[3.79999995231628...|         1|\n",
            "|        52| 20|Female| Undergraduate|       Paraguay|                  4.7|            Tiktok|                         Yes|                  5.8|                6.0|    In Relationship|                        3.0|           7.0|[4.69999980926513...|         3|\n",
            "|        53| 24|  Male|      Graduate|        Bolivia|                  2.4|          Linkedin|                          No|                  7.2|                8.0|        Complicated|                        1.0|           4.0|[2.40000009536743...|         0|\n",
            "|        54| 19|Female|   High school|     Costa rica|                  5.7|         Instagram|                         Yes|                  5.5|                5.0|             Single|                        4.0|           8.0|[5.69999980926513...|         4|\n",
            "|        55| 21|  Male| Undergraduate|         Panama|                  3.6|          Facebook|                          No|                  6.5|                7.0|    In Relationship|                        2.0|           5.0|[3.59999990463256...|         1|\n",
            "|        56| 20|Female| Undergraduate|        Jamaica|                  4.9|          Snapchat|                         Yes|                  5.6|                6.0|        Complicated|                        3.0|           7.0|[4.90000009536743...|         3|\n",
            "|        57| 18|  Male|   High school|       Trinidad|                  5.6|            Tiktok|                         Yes|                  5.2|                5.0|             Single|                        4.0|           8.0|[5.59999990463256...|         4|\n",
            "|        58| 23|Female|      Graduate|        Bahamas|                  2.8|          Linkedin|                          No|                  7.0|                8.0|    In Relationship|                        1.0|           4.0|[2.79999995231628...|         0|\n",
            "|        59| 19|  Male| Undergraduate|        Iceland|                  4.6|         Instagram|                         Yes|                  5.9|                6.0|        Complicated|                        3.0|           7.0|[4.59999990463256...|         3|\n",
            "|        60| 20|Female| Undergraduate|        Finland|                  5.4|            Tiktok|                         Yes|                  5.7|                5.0|             Single|                        4.0|           8.0|[5.40000009536743...|         4|\n",
            "|        61| 22|  Male|      Graduate|         Poland|                  3.1|          Facebook|                          No|                  7.1|                7.0|             Single|                        1.0|           5.0|[3.09999990463256...|         0|\n",
            "|        62| 19|Female| Undergraduate|        Romania|                  5.6|         Instagram|                         Yes|                  5.6|                5.0|    In Relationship|                        3.0|           8.0|[5.59999990463256...|         3|\n",
            "|        63| 20|  Male| Undergraduate|        Hungary|                  4.2|            Tiktok|                         Yes|                  6.0|                6.0|        Complicated|                        3.0|           7.0|[4.19999980926513...|         3|\n",
            "|        64| 18|Female|   High school| Czech republic|                  6.1|          Snapchat|                         Yes|                  5.2|                4.0|             Single|                        4.0|           9.0|[6.09999990463256...|         4|\n",
            "|        65| 23|  Male|      Graduate|       Slovakia|                  2.3|          Linkedin|                          No|                  7.4|                8.0|    In Relationship|                        1.0|           3.0|[2.29999995231628...|         0|\n",
            "|        66| 21|Female| Undergraduate|        Croatia|                  4.8|         Instagram|                         Yes|                  5.8|                6.0|             Single|                        3.0|           7.0|[4.80000019073486...|         3|\n",
            "|        67| 20|  Male| Undergraduate|         Serbia|                  3.9|           Youtube|                          No|                  6.5|                7.0|        Complicated|                        2.0|           6.0|[3.90000009536743...|         1|\n",
            "|        68| 19|Female|   High school|       Slovenia|                  5.7|            Tiktok|                         Yes|                  5.4|                5.0|    In Relationship|                        4.0|           8.0|[5.69999980926513...|         4|\n",
            "|        69| 22|  Male|      Graduate|       Bulgaria|                  2.8|          Linkedin|                          No|                  7.2|                8.0|             Single|                        1.0|           4.0|[2.79999995231628...|         0|\n",
            "|        70| 20|Female| Undergraduate|        Estonia|                  4.5|         Instagram|                         Yes|                  5.9|                6.0|        Complicated|                        3.0|           7.0|[4.5,5.9000000953...|         3|\n",
            "|        71| 18|  Male|   High school|         Latvia|                  5.4|          Snapchat|                         Yes|                  5.5|                5.0|             Single|                        4.0|           8.0|[5.40000009536743...|         4|\n",
            "|        72| 21|Female|      Graduate|      Lithuania|                  3.2|          Facebook|                          No|                  6.8|                7.0|    In Relationship|                        2.0|           5.0|[3.20000004768371...|         1|\n",
            "|        73| 19|  Male| Undergraduate|        Ukraine|                  4.9|            Tiktok|                         Yes|                  5.7|                6.0|        Complicated|                        3.0|           7.0|[4.90000009536743...|         3|\n",
            "|        74| 20|Female| Undergraduate|        Moldova|                  5.8|         Instagram|                         Yes|                  5.3|                5.0|             Single|                        4.0|           8.0|[5.80000019073486...|         4|\n",
            "|        75| 23|  Male|      Graduate|        Belarus|                  2.5|          Linkedin|                          No|                  7.3|                8.0|    In Relationship|                        1.0|           4.0|[2.5,7.3000001907...|         0|\n",
            "|        76| 21|Female| Undergraduate|     Kazakhstan|                  4.6|          Snapchat|                         Yes|                  5.8|                6.0|             Single|                        3.0|           7.0|[4.59999990463256...|         3|\n",
            "|        77| 19|  Male|   High school|     Uzbekistan|                  5.5|            Tiktok|                         Yes|                  5.4|                5.0|        Complicated|                        4.0|           8.0|[5.5,5.4000000953...|         4|\n",
            "|        78| 22|Female|      Graduate|     Kyrgyzstan|                  2.9|          Facebook|                          No|                  7.0|                7.0|    In Relationship|                        2.0|           5.0|[2.90000009536743...|         0|\n",
            "|        79| 20|  Male| Undergraduate|     Tajikistan|                  4.7|           Youtube|                         Yes|                  5.9|                6.0|             Single|                        3.0|           7.0|[4.69999980926513...|         3|\n",
            "|        80| 18|Female|   High school|        Armenia|                  5.9|         Instagram|                         Yes|                  5.2|                5.0|        Complicated|                        4.0|           9.0|[5.90000009536743...|         4|\n",
            "|        81| 21|  Male|      Graduate|        Georgia|                  3.0|          Linkedin|                          No|                  7.1|                8.0|    In Relationship|                        1.0|           4.0|[3.0,7.0999999046...|         0|\n",
            "|        82| 19|Female| Undergraduate|     Azerbaijan|                  4.8|            Tiktok|                         Yes|                  5.7|                6.0|             Single|                        3.0|           7.0|[4.80000019073486...|         3|\n",
            "|        83| 20|  Male| Undergraduate|         Cyprus|                  3.8|          Facebook|                          No|                  6.6|                7.0|        Complicated|                        2.0|           6.0|[3.79999995231628...|         1|\n",
            "|        84| 22|Female|      Graduate|          Malta|                  2.7|          Linkedin|                          No|                  7.2|                8.0|    In Relationship|                        1.0|           4.0|[2.70000004768371...|         0|\n",
            "|        85| 18|  Male|   High school|     Luxembourg|                  5.6|          Snapchat|                         Yes|                  5.3|                5.0|             Single|                        4.0|           8.0|[5.59999990463256...|         4|\n",
            "|        86| 21|Female| Undergraduate|         Monaco|                  4.5|         Instagram|                         Yes|                  5.8|                6.0|        Complicated|                        3.0|           7.0|[4.5,5.8000001907...|         3|\n",
            "|        87| 19|  Male|   High school|        Andorra|                  5.3|            Tiktok|                         Yes|                  5.5|                5.0|    In Relationship|                        4.0|           8.0|[5.30000019073486...|         4|\n",
            "|        88| 23|Female|      Graduate|     San marino|                  2.6|          Linkedin|                          No|                  7.3|                8.0|             Single|                        1.0|           4.0|[2.59999990463256...|         0|\n",
            "|        89| 20|  Male| Undergraduate|   Vatican city|                  4.4|           Youtube|                         Yes|                  6.0|                6.0|        Complicated|                        3.0|           7.0|[4.40000009536743...|         3|\n",
            "|        90| 18|Female|   High school|  Liechtenstein|                  5.8|         Instagram|                         Yes|                  5.2|                5.0|             Single|                        4.0|           9.0|[5.80000019073486...|         4|\n",
            "|        91| 22|  Male|      Graduate|     Montenegro|                  2.9|          Facebook|                          No|                  7.0|                7.0|    In Relationship|                        2.0|           5.0|[2.90000009536743...|         0|\n",
            "|        92| 19|Female| Undergraduate|        Albania|                  4.7|            Tiktok|                         Yes|                  5.8|                6.0|        Complicated|                        3.0|           7.0|[4.69999980926513...|         3|\n",
            "|        93| 21|  Male| Undergraduate|North macedonia|                  3.7|          Snapchat|                          No|                  6.5|                7.0|             Single|                        2.0|           6.0|[3.70000004768371...|         1|\n",
            "|        94| 20|Female|   High school|         Kosovo|                  5.5|         Instagram|                         Yes|                  5.4|                5.0|    In Relationship|                        4.0|           8.0|[5.5,5.4000000953...|         4|\n",
            "|        95| 23|  Male|      Graduate|         Bosnia|                  2.4|          Linkedin|                          No|                  7.4|                8.0|        Complicated|                        1.0|           4.0|[2.40000009536743...|         0|\n",
            "|        96| 19|Female| Undergraduate|          Qatar|                  4.9|            Tiktok|                         Yes|                  5.7|                6.0|             Single|                        3.0|           7.0|[4.90000009536743...|         3|\n",
            "|        97| 18|  Male|   High school|         Kuwait|                  5.7|          Snapchat|                         Yes|                  5.3|                5.0|    In Relationship|                        4.0|           8.0|[5.69999980926513...|         4|\n",
            "|        98| 22|Female|      Graduate|        Bahrain|                  2.8|          Linkedin|                          No|                  7.1|                8.0|        Complicated|                        1.0|           4.0|[2.79999995231628...|         0|\n",
            "|        99| 20|  Male| Undergraduate|           Oman|                  4.6|         Instagram|                         Yes|                  5.9|                6.0|             Single|                        3.0|           7.0|[4.59999990463256...|         3|\n",
            "|       100| 21|Female| Undergraduate|         Jordan|                  5.4|            Tiktok|                         Yes|                  5.5|                5.0|    In Relationship|                        4.0|           8.0|[5.40000009536743...|         4|\n",
            "+----------+---+------+--------------+---------------+---------------------+------------------+----------------------------+---------------------+-------------------+-------------------+---------------------------+--------------+--------------------+----------+\n",
            "only showing top 100 rows\n",
            "\n"
          ]
        }
      ],
      "source": [
        "#Entrenamos el modelo\n",
        "model = bkm.fit(feat_df)\n",
        "\n",
        "#Asignamos un custer a cada una de las filas de nuestro dataset\n",
        "predictions = model.transform(feat_df)\n",
        "\n",
        "#Mostramos las predicciones\n",
        "predictions.show(100)"
      ]
    },
    {
      "cell_type": "code",
      "execution_count": 21,
      "metadata": {
        "id": "lWai5q27ZLlK"
      },
      "outputs": [],
      "source": [
        "# Eliminar la columna 'features' y seleccionar columnas necesarias\n",
        "result_df = predictions.select(\"Student_Id\",\"Avg_Daily_Usage_Hours\", \"Sleep_Hours_Per_Night\",\"Conflicts_Over_Social_Media\",\"Addicted_Score\",\"prediction\")\n",
        "\n",
        "# Descargar tabla\n",
        "output_path = '/content/sample_data/predicciones_Adiction_Students_kmeans.csv'\n",
        "\n",
        "# Guardar las predicciones como CSV\n",
        "result_df.write.mode(\"overwrite\").csv(output_path, header=True)"
      ]
    },
    {
      "cell_type": "code",
      "execution_count": 22,
      "metadata": {
        "id": "u_AxjDT2i_jw"
      },
      "outputs": [],
      "source": [
        "# Representación gráfica\n",
        "from pyspark.sql import functions as F\n",
        "\n",
        "# Agrupar por el número de clúster y calcular las medias de cada variable\n",
        "cluster_stats = predictions.groupBy(\"prediction\").agg(\n",
        "    F.mean(\"Avg_Daily_Usage_Hours\").alias(\"mean_horas_uso_diario\"),\n",
        "    F.mean(\"Sleep_Hours_Per_Night\").alias(\"mean_horas_dormidas_por_noche\"),\n",
        "    F.mean(\"Mental_Health_Score\").alias(\"mean_puntuación_salud_mental\"),\n",
        "    F.mean(\"Conflicts_Over_Social_Media\").alias(\"mean_conflictos_redes_sociales\"),\n",
        "    F.mean(\"Addicted_Score\").alias(\"mean_puntuación_de_adiccion\")\n",
        ")"
      ]
    },
    {
      "cell_type": "code",
      "execution_count": 23,
      "metadata": {
        "id": "Gqbg_kQxkFlp"
      },
      "outputs": [],
      "source": [
        "# Convertir el resultado a pandas debido a que las representaciones con PySpark son\n",
        "# muy limitadas y con pandas podemos utilizar librerías como seaborn, squarify o mantplotlib.\n",
        "cluster_stats_pd = cluster_stats.orderBy(\"prediction\").toPandas()"
      ]
    },
    {
      "cell_type": "code",
      "execution_count": 24,
      "metadata": {
        "colab": {
          "base_uri": "https://localhost:8080/",
          "height": 313
        },
        "id": "OW_y5klFl2gH",
        "outputId": "07e90afa-93e4-4fd0-cd7d-3cf22a3a67ef"
      },
      "outputs": [
        {
          "data": {
            "application/vnd.google.colaboratory.intrinsic+json": {
              "summary": "{\n  \"name\": \"cluster_stats_pd1\",\n  \"rows\": 5,\n  \"fields\": [\n    {\n      \"column\": \"prediction\",\n      \"properties\": {\n        \"dtype\": \"int32\",\n        \"num_unique_values\": 5,\n        \"samples\": [\n          1,\n          4,\n          2\n        ],\n        \"semantic_type\": \"\",\n        \"description\": \"\"\n      }\n    },\n    {\n      \"column\": \"mean_horas_uso_diario\",\n      \"properties\": {\n        \"dtype\": \"number\",\n        \"std\": 1.218207699860742,\n        \"min\": 3.21,\n        \"max\": 6.46,\n        \"num_unique_values\": 5,\n        \"samples\": [\n          4.34,\n          6.46,\n          4.21\n        ],\n        \"semantic_type\": \"\",\n        \"description\": \"\"\n      }\n    },\n    {\n      \"column\": \"mean_horas_dormidas_por_noche\",\n      \"properties\": {\n        \"dtype\": \"number\",\n        \"std\": 1.0536840133550471,\n        \"min\": 5.58,\n        \"max\": 8.11,\n        \"num_unique_values\": 5,\n        \"samples\": [\n          7.52,\n          5.58,\n          7.85\n        ],\n        \"semantic_type\": \"\",\n        \"description\": \"\"\n      }\n    },\n    {\n      \"column\": \"mean_puntuaci\\u00f3n_salud_mental\",\n      \"properties\": {\n        \"dtype\": \"number\",\n        \"std\": 1.098872149069217,\n        \"min\": 4.99,\n        \"max\": 7.83,\n        \"num_unique_values\": 5,\n        \"samples\": [\n          7.05,\n          4.99,\n          6.35\n        ],\n        \"semantic_type\": \"\",\n        \"description\": \"\"\n      }\n    },\n    {\n      \"column\": \"mean_conflictos_redes_sociales\",\n      \"properties\": {\n        \"dtype\": \"number\",\n        \"std\": 0.9758073580374356,\n        \"min\": 1.56,\n        \"max\": 4.04,\n        \"num_unique_values\": 5,\n        \"samples\": [\n          1.98,\n          4.04,\n          2.96\n        ],\n        \"semantic_type\": \"\",\n        \"description\": \"\"\n      }\n    },\n    {\n      \"column\": \"mean_puntuaci\\u00f3n_de_adiccion\",\n      \"properties\": {\n        \"dtype\": \"number\",\n        \"std\": 1.6647612441428352,\n        \"min\": 4.02,\n        \"max\": 8.26,\n        \"num_unique_values\": 5,\n        \"samples\": [\n          5.1,\n          8.26,\n          6.43\n        ],\n        \"semantic_type\": \"\",\n        \"description\": \"\"\n      }\n    },\n    {\n      \"column\": \"riesgo\",\n      \"properties\": {\n        \"dtype\": \"string\",\n        \"num_unique_values\": 5,\n        \"samples\": [\n          \"Vigilancia preventiva\",\n          \"Adicci\\u00f3n severa\",\n          \"Riesgo de dependencia\"\n        ],\n        \"semantic_type\": \"\",\n        \"description\": \"\"\n      }\n    }\n  ]\n}",
              "type": "dataframe",
              "variable_name": "cluster_stats_pd1"
            },
            "text/html": [
              "\n",
              "  <div id=\"df-f9dff089-bef5-402b-9093-2b1c7d8a3b48\" class=\"colab-df-container\">\n",
              "    <div>\n",
              "<style scoped>\n",
              "    .dataframe tbody tr th:only-of-type {\n",
              "        vertical-align: middle;\n",
              "    }\n",
              "\n",
              "    .dataframe tbody tr th {\n",
              "        vertical-align: top;\n",
              "    }\n",
              "\n",
              "    .dataframe thead th {\n",
              "        text-align: right;\n",
              "    }\n",
              "</style>\n",
              "<table border=\"1\" class=\"dataframe\">\n",
              "  <thead>\n",
              "    <tr style=\"text-align: right;\">\n",
              "      <th></th>\n",
              "      <th>prediction</th>\n",
              "      <th>mean_horas_uso_diario</th>\n",
              "      <th>mean_horas_dormidas_por_noche</th>\n",
              "      <th>mean_puntuación_salud_mental</th>\n",
              "      <th>mean_conflictos_redes_sociales</th>\n",
              "      <th>mean_puntuación_de_adiccion</th>\n",
              "      <th>riesgo</th>\n",
              "    </tr>\n",
              "  </thead>\n",
              "  <tbody>\n",
              "    <tr>\n",
              "      <th>0</th>\n",
              "      <td>0</td>\n",
              "      <td>3.21</td>\n",
              "      <td>8.11</td>\n",
              "      <td>7.83</td>\n",
              "      <td>1.56</td>\n",
              "      <td>4.02</td>\n",
              "      <td>Usuarios equilibrados</td>\n",
              "    </tr>\n",
              "    <tr>\n",
              "      <th>1</th>\n",
              "      <td>1</td>\n",
              "      <td>4.34</td>\n",
              "      <td>7.52</td>\n",
              "      <td>7.05</td>\n",
              "      <td>1.98</td>\n",
              "      <td>5.10</td>\n",
              "      <td>Vigilancia preventiva</td>\n",
              "    </tr>\n",
              "    <tr>\n",
              "      <th>2</th>\n",
              "      <td>2</td>\n",
              "      <td>4.21</td>\n",
              "      <td>7.85</td>\n",
              "      <td>6.35</td>\n",
              "      <td>2.96</td>\n",
              "      <td>6.43</td>\n",
              "      <td>Riesgo de dependencia</td>\n",
              "    </tr>\n",
              "    <tr>\n",
              "      <th>3</th>\n",
              "      <td>3</td>\n",
              "      <td>5.20</td>\n",
              "      <td>6.49</td>\n",
              "      <td>5.79</td>\n",
              "      <td>3.06</td>\n",
              "      <td>7.11</td>\n",
              "      <td>Riesgo alto de adicción</td>\n",
              "    </tr>\n",
              "    <tr>\n",
              "      <th>4</th>\n",
              "      <td>4</td>\n",
              "      <td>6.46</td>\n",
              "      <td>5.58</td>\n",
              "      <td>4.99</td>\n",
              "      <td>4.04</td>\n",
              "      <td>8.26</td>\n",
              "      <td>Adicción severa</td>\n",
              "    </tr>\n",
              "  </tbody>\n",
              "</table>\n",
              "</div>\n",
              "    <div class=\"colab-df-buttons\">\n",
              "\n",
              "  <div class=\"colab-df-container\">\n",
              "    <button class=\"colab-df-convert\" onclick=\"convertToInteractive('df-f9dff089-bef5-402b-9093-2b1c7d8a3b48')\"\n",
              "            title=\"Convert this dataframe to an interactive table.\"\n",
              "            style=\"display:none;\">\n",
              "\n",
              "  <svg xmlns=\"http://www.w3.org/2000/svg\" height=\"24px\" viewBox=\"0 -960 960 960\">\n",
              "    <path d=\"M120-120v-720h720v720H120Zm60-500h600v-160H180v160Zm220 220h160v-160H400v160Zm0 220h160v-160H400v160ZM180-400h160v-160H180v160Zm440 0h160v-160H620v160ZM180-180h160v-160H180v160Zm440 0h160v-160H620v160Z\"/>\n",
              "  </svg>\n",
              "    </button>\n",
              "\n",
              "  <style>\n",
              "    .colab-df-container {\n",
              "      display:flex;\n",
              "      gap: 12px;\n",
              "    }\n",
              "\n",
              "    .colab-df-convert {\n",
              "      background-color: #E8F0FE;\n",
              "      border: none;\n",
              "      border-radius: 50%;\n",
              "      cursor: pointer;\n",
              "      display: none;\n",
              "      fill: #1967D2;\n",
              "      height: 32px;\n",
              "      padding: 0 0 0 0;\n",
              "      width: 32px;\n",
              "    }\n",
              "\n",
              "    .colab-df-convert:hover {\n",
              "      background-color: #E2EBFA;\n",
              "      box-shadow: 0px 1px 2px rgba(60, 64, 67, 0.3), 0px 1px 3px 1px rgba(60, 64, 67, 0.15);\n",
              "      fill: #174EA6;\n",
              "    }\n",
              "\n",
              "    .colab-df-buttons div {\n",
              "      margin-bottom: 4px;\n",
              "    }\n",
              "\n",
              "    [theme=dark] .colab-df-convert {\n",
              "      background-color: #3B4455;\n",
              "      fill: #D2E3FC;\n",
              "    }\n",
              "\n",
              "    [theme=dark] .colab-df-convert:hover {\n",
              "      background-color: #434B5C;\n",
              "      box-shadow: 0px 1px 3px 1px rgba(0, 0, 0, 0.15);\n",
              "      filter: drop-shadow(0px 1px 2px rgba(0, 0, 0, 0.3));\n",
              "      fill: #FFFFFF;\n",
              "    }\n",
              "  </style>\n",
              "\n",
              "    <script>\n",
              "      const buttonEl =\n",
              "        document.querySelector('#df-f9dff089-bef5-402b-9093-2b1c7d8a3b48 button.colab-df-convert');\n",
              "      buttonEl.style.display =\n",
              "        google.colab.kernel.accessAllowed ? 'block' : 'none';\n",
              "\n",
              "      async function convertToInteractive(key) {\n",
              "        const element = document.querySelector('#df-f9dff089-bef5-402b-9093-2b1c7d8a3b48');\n",
              "        const dataTable =\n",
              "          await google.colab.kernel.invokeFunction('convertToInteractive',\n",
              "                                                    [key], {});\n",
              "        if (!dataTable) return;\n",
              "\n",
              "        const docLinkHtml = 'Like what you see? Visit the ' +\n",
              "          '<a target=\"_blank\" href=https://colab.research.google.com/notebooks/data_table.ipynb>data table notebook</a>'\n",
              "          + ' to learn more about interactive tables.';\n",
              "        element.innerHTML = '';\n",
              "        dataTable['output_type'] = 'display_data';\n",
              "        await google.colab.output.renderOutput(dataTable, element);\n",
              "        const docLink = document.createElement('div');\n",
              "        docLink.innerHTML = docLinkHtml;\n",
              "        element.appendChild(docLink);\n",
              "      }\n",
              "    </script>\n",
              "  </div>\n",
              "\n",
              "\n",
              "    <div id=\"df-1e0da5cf-fb61-470f-be72-7444e0219f26\">\n",
              "      <button class=\"colab-df-quickchart\" onclick=\"quickchart('df-1e0da5cf-fb61-470f-be72-7444e0219f26')\"\n",
              "                title=\"Suggest charts\"\n",
              "                style=\"display:none;\">\n",
              "\n",
              "<svg xmlns=\"http://www.w3.org/2000/svg\" height=\"24px\"viewBox=\"0 0 24 24\"\n",
              "     width=\"24px\">\n",
              "    <g>\n",
              "        <path d=\"M19 3H5c-1.1 0-2 .9-2 2v14c0 1.1.9 2 2 2h14c1.1 0 2-.9 2-2V5c0-1.1-.9-2-2-2zM9 17H7v-7h2v7zm4 0h-2V7h2v10zm4 0h-2v-4h2v4z\"/>\n",
              "    </g>\n",
              "</svg>\n",
              "      </button>\n",
              "\n",
              "<style>\n",
              "  .colab-df-quickchart {\n",
              "      --bg-color: #E8F0FE;\n",
              "      --fill-color: #1967D2;\n",
              "      --hover-bg-color: #E2EBFA;\n",
              "      --hover-fill-color: #174EA6;\n",
              "      --disabled-fill-color: #AAA;\n",
              "      --disabled-bg-color: #DDD;\n",
              "  }\n",
              "\n",
              "  [theme=dark] .colab-df-quickchart {\n",
              "      --bg-color: #3B4455;\n",
              "      --fill-color: #D2E3FC;\n",
              "      --hover-bg-color: #434B5C;\n",
              "      --hover-fill-color: #FFFFFF;\n",
              "      --disabled-bg-color: #3B4455;\n",
              "      --disabled-fill-color: #666;\n",
              "  }\n",
              "\n",
              "  .colab-df-quickchart {\n",
              "    background-color: var(--bg-color);\n",
              "    border: none;\n",
              "    border-radius: 50%;\n",
              "    cursor: pointer;\n",
              "    display: none;\n",
              "    fill: var(--fill-color);\n",
              "    height: 32px;\n",
              "    padding: 0;\n",
              "    width: 32px;\n",
              "  }\n",
              "\n",
              "  .colab-df-quickchart:hover {\n",
              "    background-color: var(--hover-bg-color);\n",
              "    box-shadow: 0 1px 2px rgba(60, 64, 67, 0.3), 0 1px 3px 1px rgba(60, 64, 67, 0.15);\n",
              "    fill: var(--button-hover-fill-color);\n",
              "  }\n",
              "\n",
              "  .colab-df-quickchart-complete:disabled,\n",
              "  .colab-df-quickchart-complete:disabled:hover {\n",
              "    background-color: var(--disabled-bg-color);\n",
              "    fill: var(--disabled-fill-color);\n",
              "    box-shadow: none;\n",
              "  }\n",
              "\n",
              "  .colab-df-spinner {\n",
              "    border: 2px solid var(--fill-color);\n",
              "    border-color: transparent;\n",
              "    border-bottom-color: var(--fill-color);\n",
              "    animation:\n",
              "      spin 1s steps(1) infinite;\n",
              "  }\n",
              "\n",
              "  @keyframes spin {\n",
              "    0% {\n",
              "      border-color: transparent;\n",
              "      border-bottom-color: var(--fill-color);\n",
              "      border-left-color: var(--fill-color);\n",
              "    }\n",
              "    20% {\n",
              "      border-color: transparent;\n",
              "      border-left-color: var(--fill-color);\n",
              "      border-top-color: var(--fill-color);\n",
              "    }\n",
              "    30% {\n",
              "      border-color: transparent;\n",
              "      border-left-color: var(--fill-color);\n",
              "      border-top-color: var(--fill-color);\n",
              "      border-right-color: var(--fill-color);\n",
              "    }\n",
              "    40% {\n",
              "      border-color: transparent;\n",
              "      border-right-color: var(--fill-color);\n",
              "      border-top-color: var(--fill-color);\n",
              "    }\n",
              "    60% {\n",
              "      border-color: transparent;\n",
              "      border-right-color: var(--fill-color);\n",
              "    }\n",
              "    80% {\n",
              "      border-color: transparent;\n",
              "      border-right-color: var(--fill-color);\n",
              "      border-bottom-color: var(--fill-color);\n",
              "    }\n",
              "    90% {\n",
              "      border-color: transparent;\n",
              "      border-bottom-color: var(--fill-color);\n",
              "    }\n",
              "  }\n",
              "</style>\n",
              "\n",
              "      <script>\n",
              "        async function quickchart(key) {\n",
              "          const quickchartButtonEl =\n",
              "            document.querySelector('#' + key + ' button');\n",
              "          quickchartButtonEl.disabled = true;  // To prevent multiple clicks.\n",
              "          quickchartButtonEl.classList.add('colab-df-spinner');\n",
              "          try {\n",
              "            const charts = await google.colab.kernel.invokeFunction(\n",
              "                'suggestCharts', [key], {});\n",
              "          } catch (error) {\n",
              "            console.error('Error during call to suggestCharts:', error);\n",
              "          }\n",
              "          quickchartButtonEl.classList.remove('colab-df-spinner');\n",
              "          quickchartButtonEl.classList.add('colab-df-quickchart-complete');\n",
              "        }\n",
              "        (() => {\n",
              "          let quickchartButtonEl =\n",
              "            document.querySelector('#df-1e0da5cf-fb61-470f-be72-7444e0219f26 button');\n",
              "          quickchartButtonEl.style.display =\n",
              "            google.colab.kernel.accessAllowed ? 'block' : 'none';\n",
              "        })();\n",
              "      </script>\n",
              "    </div>\n",
              "\n",
              "  <div id=\"id_2d79848b-fe49-47ed-8658-2c10a55f5378\">\n",
              "    <style>\n",
              "      .colab-df-generate {\n",
              "        background-color: #E8F0FE;\n",
              "        border: none;\n",
              "        border-radius: 50%;\n",
              "        cursor: pointer;\n",
              "        display: none;\n",
              "        fill: #1967D2;\n",
              "        height: 32px;\n",
              "        padding: 0 0 0 0;\n",
              "        width: 32px;\n",
              "      }\n",
              "\n",
              "      .colab-df-generate:hover {\n",
              "        background-color: #E2EBFA;\n",
              "        box-shadow: 0px 1px 2px rgba(60, 64, 67, 0.3), 0px 1px 3px 1px rgba(60, 64, 67, 0.15);\n",
              "        fill: #174EA6;\n",
              "      }\n",
              "\n",
              "      [theme=dark] .colab-df-generate {\n",
              "        background-color: #3B4455;\n",
              "        fill: #D2E3FC;\n",
              "      }\n",
              "\n",
              "      [theme=dark] .colab-df-generate:hover {\n",
              "        background-color: #434B5C;\n",
              "        box-shadow: 0px 1px 3px 1px rgba(0, 0, 0, 0.15);\n",
              "        filter: drop-shadow(0px 1px 2px rgba(0, 0, 0, 0.3));\n",
              "        fill: #FFFFFF;\n",
              "      }\n",
              "    </style>\n",
              "    <button class=\"colab-df-generate\" onclick=\"generateWithVariable('cluster_stats_pd1')\"\n",
              "            title=\"Generate code using this dataframe.\"\n",
              "            style=\"display:none;\">\n",
              "\n",
              "  <svg xmlns=\"http://www.w3.org/2000/svg\" height=\"24px\"viewBox=\"0 0 24 24\"\n",
              "       width=\"24px\">\n",
              "    <path d=\"M7,19H8.4L18.45,9,17,7.55,7,17.6ZM5,21V16.75L18.45,3.32a2,2,0,0,1,2.83,0l1.4,1.43a1.91,1.91,0,0,1,.58,1.4,1.91,1.91,0,0,1-.58,1.4L9.25,21ZM18.45,9,17,7.55Zm-12,3A5.31,5.31,0,0,0,4.9,8.1,5.31,5.31,0,0,0,1,6.5,5.31,5.31,0,0,0,4.9,4.9,5.31,5.31,0,0,0,6.5,1,5.31,5.31,0,0,0,8.1,4.9,5.31,5.31,0,0,0,12,6.5,5.46,5.46,0,0,0,6.5,12Z\"/>\n",
              "  </svg>\n",
              "    </button>\n",
              "    <script>\n",
              "      (() => {\n",
              "      const buttonEl =\n",
              "        document.querySelector('#id_2d79848b-fe49-47ed-8658-2c10a55f5378 button.colab-df-generate');\n",
              "      buttonEl.style.display =\n",
              "        google.colab.kernel.accessAllowed ? 'block' : 'none';\n",
              "\n",
              "      buttonEl.onclick = () => {\n",
              "        google.colab.notebook.generateWithVariable('cluster_stats_pd1');\n",
              "      }\n",
              "      })();\n",
              "    </script>\n",
              "  </div>\n",
              "\n",
              "    </div>\n",
              "  </div>\n"
            ],
            "text/plain": [
              "   prediction  mean_horas_uso_diario  mean_horas_dormidas_por_noche  \\\n",
              "0           0                   3.21                           8.11   \n",
              "1           1                   4.34                           7.52   \n",
              "2           2                   4.21                           7.85   \n",
              "3           3                   5.20                           6.49   \n",
              "4           4                   6.46                           5.58   \n",
              "\n",
              "   mean_puntuación_salud_mental  mean_conflictos_redes_sociales  \\\n",
              "0                          7.83                            1.56   \n",
              "1                          7.05                            1.98   \n",
              "2                          6.35                            2.96   \n",
              "3                          5.79                            3.06   \n",
              "4                          4.99                            4.04   \n",
              "\n",
              "   mean_puntuación_de_adiccion                   riesgo  \n",
              "0                         4.02    Usuarios equilibrados  \n",
              "1                         5.10    Vigilancia preventiva  \n",
              "2                         6.43    Riesgo de dependencia  \n",
              "3                         7.11  Riesgo alto de adicción  \n",
              "4                         8.26          Adicción severa  "
            ]
          },
          "metadata": {},
          "output_type": "display_data"
        }
      ],
      "source": [
        "# Mostrar como tabla\n",
        "import pandas as pd\n",
        "from IPython.display import display\n",
        "\n",
        "# Opcional: redondear los valores\n",
        "cluster_stats_pd1 = cluster_stats_pd.round(2)\n",
        "\n",
        "# Agregar etiquetas personalizadas al DataFrame\n",
        "cluster_stats_pd1[\"riesgo\"] = cluster_stats_pd[\"prediction\"].map({\n",
        "    0: \"Usuarios equilibrados\",\n",
        "    1: \"Vigilancia preventiva\",\n",
        "    2: \"Riesgo de dependencia\",\n",
        "    3: \"Riesgo alto de adicción\",\n",
        "    4: \"Adicción severa\"\n",
        "})\n",
        "\n",
        "# Mostrar tabla en el notebook\n",
        "display(cluster_stats_pd1)"
      ]
    },
    {
      "cell_type": "markdown",
      "metadata": {
        "id": "cC_5agMQpAr8"
      },
      "source": [
        "Como podemos observar en la tabla, los clusters representan el nivel de adicción de los estudiantes a las redes sociales:\n",
        "- **Grupo 0:** Indica un bajo riesgo de adicción.\n",
        "- **Grupo 1:** Indica un uso moderado y estable.\n",
        "- **Grupo 2:** Indica un comienzo de riesgo de adicción.\n",
        "- **Grupo 3:** Indica un riesgo alto de adicción.\n",
        "- **Grupo 4:** Indica a los más adicto y vulnerables."
      ]
    },
    {
      "cell_type": "code",
      "execution_count": 25,
      "metadata": {
        "colab": {
          "base_uri": "https://localhost:8080/"
        },
        "id": "glkZSV9Ispp-",
        "outputId": "d4d16207-1747-41a0-a7e8-00f0a716fea4"
      },
      "outputs": [
        {
          "name": "stdout",
          "output_type": "stream",
          "text": [
            "Collecting squarify\n",
            "  Downloading squarify-0.4.4-py3-none-any.whl.metadata (600 bytes)\n",
            "Downloading squarify-0.4.4-py3-none-any.whl (4.1 kB)\n",
            "Installing collected packages: squarify\n",
            "Successfully installed squarify-0.4.4\n",
            "Requirement already satisfied: squarify in /usr/local/lib/python3.11/dist-packages (0.4.4)\n"
          ]
        }
      ],
      "source": [
        "# Instalar la librería squarify\n",
        "!pip install squarify\n",
        "!pip install squarify"
      ]
    },
    {
      "cell_type": "code",
      "execution_count": 27,
      "metadata": {
        "colab": {
          "base_uri": "https://localhost:8080/",
          "height": 523
        },
        "id": "ZFCkE7mKdrhb",
        "outputId": "42e23d84-60e6-4999-bfda-ff16bf052ed9"
      },
      "outputs": [
        {
          "data": {
            "image/png": "[encoded data removed]",
            "text/plain": [
              "<Figure size 1000x600 with 1 Axes>"
            ]
          },
          "metadata": {},
          "output_type": "display_data"
        }
      ],
      "source": [
        "# Lectura del archivo extraido con la columna de predicciones\n",
        "data_path_predicciones = '/content/sample_data/predicciones_Adiction_Students_kmeans.csv/part-00000-270a0c48-5003-4d6a-bbff-86fd9c8d32ac-c000.csv'\n",
        "\n",
        "# Cargar el archivo Excel\n",
        "excel_df_predicciones = pd.read_csv(data_path_predicciones)\n",
        "\n",
        "import pandas as pd\n",
        "import matplotlib.pyplot as plt\n",
        "import squarify\n",
        "\n",
        "# Contar cuántos estudiantes hay por cluster\n",
        "counts = excel_df_predicciones[\"prediction\"].value_counts().sort_index()\n",
        "\n",
        "# Definir etiquetas descriptivas\n",
        "labels = [\n",
        "    f\"0\\nBajo riesgo de adicción\\n{counts[0]} estudiantes\",\n",
        "    f\"1\\nUso moderado y estable\\n{counts[1]} estudiantes\",\n",
        "    f\"2\\nComienzo de riesgo de adicción\\n{counts[2]} estudiantes\",\n",
        "    f\"3\\nRiesgo alto de adicción\\n{counts[3]} estudiantes\",\n",
        "    f\"4\\nMás adictos y vulnerables\\n{counts[4]} estudiantes\"\n",
        "]\n",
        "\n",
        "# Colores personalizados (puedes ajustarlos)\n",
        "colors = ['#d4f7dc', '#a3d9a5', '#ffe066', '#ff924c', '#ff595e']\n",
        "\n",
        "# Crear el treemap\n",
        "plt.figure(figsize=(10, 6))\n",
        "squarify.plot(sizes=counts.values, label=labels, color=colors, alpha=0.9, text_kwargs={'fontsize':11})\n",
        "plt.axis('off')\n",
        "plt.title(\"Distribución de estudiantes por grupo de adicción\", fontsize=14)\n",
        "plt.show()"
      ]
    }
  ],
  "metadata": {
    "colab": {
      "provenance": []
    },
    "kernelspec": {
      "display_name": "Python 3",
      "name": "python3"
    },
    "language_info": {
      "name": "python"
    }
  },
  "nbformat": 4,
  "nbformat_minor": 0
}
