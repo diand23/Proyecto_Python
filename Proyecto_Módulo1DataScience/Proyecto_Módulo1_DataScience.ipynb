{
  "cells": [
    {
      "cell_type": "markdown",
      "metadata": {
        "id": "04Qf9XJBO9lr"
      },
      "source": [
        "# Proyecto Final Módulo 1:\n",
        "\n",
        "## Descripción general:\n",
        "Este notebook trata sobre un análisis realizado en función a la adicción de redes sociales por parte de los estudiantes. Este conjunto de datos contiene registros anónimos de los comportamientos de los estudiantes social‐media y resultados de vida relacionados. Abarca varios países y niveles académicos, centrándose en dimensiones clave como la intensidad de uso, las preferencias de plataforma y la dinámica de las relaciones. Cada fila representa la respuesta a la encuesta de un estudiante y ofrece una instantánea transversal adecuada para análisis estadístico y aplicaciones de aprendizaje automático.\n",
        "\n",
        "## Alcance y cobertura:\n",
        "- Población: Los estudiantes de 16–25 años se matricularon en programas de escuela secundaria, pregrado o posgrado.\n",
        "- Geografía: Cobertura multi‐país (e.g., Bangladesh, India, EE. UU., Reino Unido, Canadá, Australia, Alemania, Brasil, Japón, Corea del Sur).\n",
        "- Plazo: Datos recopilados a través de una encuesta en línea única administrada en el primer trimestre de 2025.\n",
        "- Volumen: Tamaños de muestra configurables (e.g., 100, 500, 1000 registros) según las necesidades de investigación.\n",
        "\n",
        "## Metodología y recopilación de datos:\n",
        "Se ha realizado un cuestionario con preguntas adaptadas de escalas validadas sobre adicción a las redes sociales. Estos participantes han sido reclutados a través de listas de correo universitarias y plataformas de redes sociales, garantizando la diversidad a nivel académico y nacional.\n",
        "\n",
        "## Controles de calidad de datos:\n",
        "\n",
        "- Validación: Campos obligatorios y comprobaciones de alcance (e.g., horas de uso entre 0–24).\n",
        "- De‐duplicación: Eliminación de entradas duplicadas mediante comprobaciones únicas de ID_estudiante.\n",
        "- Anonimización: No se recopiló información de identificación personal.\n",
        "## Variables clave Tabla\n",
        "\n",
        "A continuación se describen las variables que contiene el archivo **StudentsSocialMediaAddiction_Bruto.csv**.\n",
        "\n",
        "| Variable                            | Tipo       | Descripción                                                                 |\n",
        "|-------------------------------------|------------|------------------------------------------------------------------------------|\n",
        "| ID_estudiante                       | Entero     | Identificador único del encuestado                                          |\n",
        "| Edad                                | Entero     | Edad en años                                                                |\n",
        "| Género                              | Categórico | “Male” o “Female”                                                           |\n",
        "| Nivel_académico                     | Categórico | Escuela Secundaria / Pregrado / Grado                                      |\n",
        "| País                                | Categórico | País de residencia                                                          |\n",
        "| Promedio_Horas_de_uso_diario       | Flotador   | Promedio de horas diarias en las redes sociales                            |\n",
        "| Plataforma_más_usada                | Categórico | Instagram, Facebook, TikTok, etc.                                          |\n",
        "| Afecta_el_desempeño_académico      | Categórico | Auto‐impacto informado en los académicos (Yes/No)                          |\n",
        "| Dormir_horas_por_noche             | Flotador   | Horas medias de sueño nocturno                                             |\n",
        "| Puntuación_de_salud_mental         | Entero     | Salud mental auto‐rata (1 = pobre a 10 = excelente)                        |\n",
        "| Relación_Estado                     | Categórico | Soltero / En Relación / Complicado                                         |\n",
        "| Conflictos_Sobre_Social_Media      | Entero     | Número de conflictos de relaciones debido a las redes sociales             |\n",
        "| Puntuación_adicta                  | Entero     | Puntuación de adicción a redes sociales (1 = bajo a 10 = alto)            |\n",
        "\n"
      ]
    },
    {
      "cell_type": "markdown",
      "metadata": {},
      "source": [
        "## Instalación de librerías necesarias"
      ]
    },
    {
      "cell_type": "code",
      "execution_count": 1,
      "metadata": {},
      "outputs": [
        {
          "name": "stdout",
          "output_type": "stream",
          "text": [
            "Requirement already satisfied: pandas in c:\\users\\merlo\\appdata\\local\\programs\\python\\python312\\lib\\site-packages (2.2.3)\n",
            "Requirement already satisfied: openpyxl in c:\\users\\merlo\\appdata\\local\\programs\\python\\python312\\lib\\site-packages (3.1.5)\n",
            "Requirement already satisfied: xlrd in c:\\users\\merlo\\appdata\\local\\programs\\python\\python312\\lib\\site-packages (2.0.1)\n",
            "Requirement already satisfied: numpy>=1.26.0 in c:\\users\\merlo\\appdata\\local\\programs\\python\\python312\\lib\\site-packages (from pandas) (2.2.5)\n",
            "Requirement already satisfied: python-dateutil>=2.8.2 in c:\\users\\merlo\\appdata\\local\\programs\\python\\python312\\lib\\site-packages (from pandas) (2.9.0.post0)\n",
            "Requirement already satisfied: pytz>=2020.1 in c:\\users\\merlo\\appdata\\local\\programs\\python\\python312\\lib\\site-packages (from pandas) (2025.2)\n",
            "Requirement already satisfied: tzdata>=2022.7 in c:\\users\\merlo\\appdata\\local\\programs\\python\\python312\\lib\\site-packages (from pandas) (2025.2)\n",
            "Requirement already satisfied: et-xmlfile in c:\\users\\merlo\\appdata\\local\\programs\\python\\python312\\lib\\site-packages (from openpyxl) (2.0.0)\n",
            "Requirement already satisfied: six>=1.5 in c:\\users\\merlo\\appdata\\local\\programs\\python\\python312\\lib\\site-packages (from python-dateutil>=2.8.2->pandas) (1.17.0)\n",
            "Note: you may need to restart the kernel to use updated packages.\n"
          ]
        },
        {
          "name": "stderr",
          "output_type": "stream",
          "text": [
            "\n",
            "[notice] A new release of pip is available: 24.3.1 -> 25.1.1\n",
            "[notice] To update, run: python.exe -m pip install --upgrade pip\n"
          ]
        }
      ],
      "source": [
        "pip install pandas openpyxl xlrd"
      ]
    },
    {
      "cell_type": "code",
      "execution_count": 2,
      "metadata": {},
      "outputs": [
        {
          "name": "stdout",
          "output_type": "stream",
          "text": [
            "Collecting numpy==1.24.4\n",
            "  Using cached numpy-1.24.4.tar.gz (10.9 MB)\n",
            "  Installing build dependencies: started\n",
            "  Installing build dependencies: finished with status 'done'\n",
            "  Getting requirements to build wheel: started\n",
            "  Getting requirements to build wheel: finished with status 'done'\n",
            "Note: you may need to restart the kernel to use updated packages.\n"
          ]
        },
        {
          "name": "stderr",
          "output_type": "stream",
          "text": [
            "\n",
            "[notice] A new release of pip is available: 24.3.1 -> 25.1.1\n",
            "[notice] To update, run: python.exe -m pip install --upgrade pip\n",
            "ERROR: Exception:\n",
            "Traceback (most recent call last):\n",
            "  File \"c:\\Users\\merlo\\AppData\\Local\\Programs\\Python\\Python312\\Lib\\site-packages\\pip\\_internal\\cli\\base_command.py\", line 105, in _run_wrapper\n",
            "    status = _inner_run()\n",
            "             ^^^^^^^^^^^^\n",
            "  File \"c:\\Users\\merlo\\AppData\\Local\\Programs\\Python\\Python312\\Lib\\site-packages\\pip\\_internal\\cli\\base_command.py\", line 96, in _inner_run\n",
            "    return self.run(options, args)\n",
            "           ^^^^^^^^^^^^^^^^^^^^^^^\n",
            "  File \"c:\\Users\\merlo\\AppData\\Local\\Programs\\Python\\Python312\\Lib\\site-packages\\pip\\_internal\\cli\\req_command.py\", line 67, in wrapper\n",
            "    return func(self, options, args)\n",
            "           ^^^^^^^^^^^^^^^^^^^^^^^^^\n",
            "  File \"c:\\Users\\merlo\\AppData\\Local\\Programs\\Python\\Python312\\Lib\\site-packages\\pip\\_internal\\commands\\install.py\", line 379, in run\n",
            "    requirement_set = resolver.resolve(\n",
            "                      ^^^^^^^^^^^^^^^^^\n",
            "  File \"c:\\Users\\merlo\\AppData\\Local\\Programs\\Python\\Python312\\Lib\\site-packages\\pip\\_internal\\resolution\\resolvelib\\resolver.py\", line 95, in resolve\n",
            "    result = self._result = resolver.resolve(\n",
            "                            ^^^^^^^^^^^^^^^^^\n",
            "  File \"c:\\Users\\merlo\\AppData\\Local\\Programs\\Python\\Python312\\Lib\\site-packages\\pip\\_vendor\\resolvelib\\resolvers.py\", line 546, in resolve\n",
            "    state = resolution.resolve(requirements, max_rounds=max_rounds)\n",
            "            ^^^^^^^^^^^^^^^^^^^^^^^^^^^^^^^^^^^^^^^^^^^^^^^^^^^^^^^\n",
            "  File \"c:\\Users\\merlo\\AppData\\Local\\Programs\\Python\\Python312\\Lib\\site-packages\\pip\\_vendor\\resolvelib\\resolvers.py\", line 397, in resolve\n",
            "    self._add_to_criteria(self.state.criteria, r, parent=None)\n",
            "  File \"c:\\Users\\merlo\\AppData\\Local\\Programs\\Python\\Python312\\Lib\\site-packages\\pip\\_vendor\\resolvelib\\resolvers.py\", line 173, in _add_to_criteria\n",
            "    if not criterion.candidates:\n",
            "           ^^^^^^^^^^^^^^^^^^^^\n",
            "  File \"c:\\Users\\merlo\\AppData\\Local\\Programs\\Python\\Python312\\Lib\\site-packages\\pip\\_vendor\\resolvelib\\structs.py\", line 156, in __bool__\n",
            "    return bool(self._sequence)\n",
            "           ^^^^^^^^^^^^^^^^^^^^\n",
            "  File \"c:\\Users\\merlo\\AppData\\Local\\Programs\\Python\\Python312\\Lib\\site-packages\\pip\\_internal\\resolution\\resolvelib\\found_candidates.py\", line 174, in __bool__\n",
            "    return any(self)\n",
            "           ^^^^^^^^^\n",
            "  File \"c:\\Users\\merlo\\AppData\\Local\\Programs\\Python\\Python312\\Lib\\site-packages\\pip\\_internal\\resolution\\resolvelib\\found_candidates.py\", line 162, in <genexpr>\n",
            "    return (c for c in iterator if id(c) not in self._incompatible_ids)\n",
            "                       ^^^^^^^^\n",
            "  File \"c:\\Users\\merlo\\AppData\\Local\\Programs\\Python\\Python312\\Lib\\site-packages\\pip\\_internal\\resolution\\resolvelib\\found_candidates.py\", line 53, in _iter_built\n",
            "    candidate = func()\n",
            "                ^^^^^^\n",
            "  File \"c:\\Users\\merlo\\AppData\\Local\\Programs\\Python\\Python312\\Lib\\site-packages\\pip\\_internal\\resolution\\resolvelib\\factory.py\", line 187, in _make_candidate_from_link\n",
            "    base: Optional[BaseCandidate] = self._make_base_candidate_from_link(\n",
            "                                    ^^^^^^^^^^^^^^^^^^^^^^^^^^^^^^^^^^^^\n",
            "  File \"c:\\Users\\merlo\\AppData\\Local\\Programs\\Python\\Python312\\Lib\\site-packages\\pip\\_internal\\resolution\\resolvelib\\factory.py\", line 233, in _make_base_candidate_from_link\n",
            "    self._link_candidate_cache[link] = LinkCandidate(\n",
            "                                       ^^^^^^^^^^^^^^\n",
            "  File \"c:\\Users\\merlo\\AppData\\Local\\Programs\\Python\\Python312\\Lib\\site-packages\\pip\\_internal\\resolution\\resolvelib\\candidates.py\", line 304, in __init__\n",
            "    super().__init__(\n",
            "  File \"c:\\Users\\merlo\\AppData\\Local\\Programs\\Python\\Python312\\Lib\\site-packages\\pip\\_internal\\resolution\\resolvelib\\candidates.py\", line 159, in __init__\n",
            "    self.dist = self._prepare()\n",
            "                ^^^^^^^^^^^^^^^\n",
            "  File \"c:\\Users\\merlo\\AppData\\Local\\Programs\\Python\\Python312\\Lib\\site-packages\\pip\\_internal\\resolution\\resolvelib\\candidates.py\", line 236, in _prepare\n",
            "    dist = self._prepare_distribution()\n",
            "           ^^^^^^^^^^^^^^^^^^^^^^^^^^^^\n",
            "  File \"c:\\Users\\merlo\\AppData\\Local\\Programs\\Python\\Python312\\Lib\\site-packages\\pip\\_internal\\resolution\\resolvelib\\candidates.py\", line 315, in _prepare_distribution\n",
            "    return preparer.prepare_linked_requirement(self._ireq, parallel_builds=True)\n",
            "           ^^^^^^^^^^^^^^^^^^^^^^^^^^^^^^^^^^^^^^^^^^^^^^^^^^^^^^^^^^^^^^^^^^^^^\n",
            "  File \"c:\\Users\\merlo\\AppData\\Local\\Programs\\Python\\Python312\\Lib\\site-packages\\pip\\_internal\\operations\\prepare.py\", line 527, in prepare_linked_requirement\n",
            "    return self._prepare_linked_requirement(req, parallel_builds)\n",
            "           ^^^^^^^^^^^^^^^^^^^^^^^^^^^^^^^^^^^^^^^^^^^^^^^^^^^^^^\n",
            "  File \"c:\\Users\\merlo\\AppData\\Local\\Programs\\Python\\Python312\\Lib\\site-packages\\pip\\_internal\\operations\\prepare.py\", line 642, in _prepare_linked_requirement\n",
            "    dist = _get_prepared_distribution(\n",
            "           ^^^^^^^^^^^^^^^^^^^^^^^^^^^\n",
            "  File \"c:\\Users\\merlo\\AppData\\Local\\Programs\\Python\\Python312\\Lib\\site-packages\\pip\\_internal\\operations\\prepare.py\", line 72, in _get_prepared_distribution\n",
            "    abstract_dist.prepare_distribution_metadata(\n",
            "  File \"c:\\Users\\merlo\\AppData\\Local\\Programs\\Python\\Python312\\Lib\\site-packages\\pip\\_internal\\distributions\\sdist.py\", line 56, in prepare_distribution_metadata\n",
            "    self._install_build_reqs(finder)\n",
            "  File \"c:\\Users\\merlo\\AppData\\Local\\Programs\\Python\\Python312\\Lib\\site-packages\\pip\\_internal\\distributions\\sdist.py\", line 126, in _install_build_reqs\n",
            "    build_reqs = self._get_build_requires_wheel()\n",
            "                 ^^^^^^^^^^^^^^^^^^^^^^^^^^^^^^^^\n",
            "  File \"c:\\Users\\merlo\\AppData\\Local\\Programs\\Python\\Python312\\Lib\\site-packages\\pip\\_internal\\distributions\\sdist.py\", line 103, in _get_build_requires_wheel\n",
            "    return backend.get_requires_for_build_wheel()\n",
            "           ^^^^^^^^^^^^^^^^^^^^^^^^^^^^^^^^^^^^^^\n",
            "  File \"c:\\Users\\merlo\\AppData\\Local\\Programs\\Python\\Python312\\Lib\\site-packages\\pip\\_internal\\utils\\misc.py\", line 701, in get_requires_for_build_wheel\n",
            "    return super().get_requires_for_build_wheel(config_settings=cs)\n",
            "           ^^^^^^^^^^^^^^^^^^^^^^^^^^^^^^^^^^^^^^^^^^^^^^^^^^^^^^^^\n",
            "  File \"c:\\Users\\merlo\\AppData\\Local\\Programs\\Python\\Python312\\Lib\\site-packages\\pip\\_vendor\\pyproject_hooks\\_impl.py\", line 166, in get_requires_for_build_wheel\n",
            "    return self._call_hook('get_requires_for_build_wheel', {\n",
            "           ^^^^^^^^^^^^^^^^^^^^^^^^^^^^^^^^^^^^^^^^^^^^^^^^^\n",
            "  File \"c:\\Users\\merlo\\AppData\\Local\\Programs\\Python\\Python312\\Lib\\site-packages\\pip\\_vendor\\pyproject_hooks\\_impl.py\", line 321, in _call_hook\n",
            "    raise BackendUnavailable(data.get('traceback', ''))\n",
            "pip._vendor.pyproject_hooks._impl.BackendUnavailable: Traceback (most recent call last):\n",
            "  File \"c:\\Users\\merlo\\AppData\\Local\\Programs\\Python\\Python312\\Lib\\site-packages\\pip\\_vendor\\pyproject_hooks\\_in_process\\_in_process.py\", line 77, in _build_backend\n",
            "    obj = import_module(mod_path)\n",
            "          ^^^^^^^^^^^^^^^^^^^^^^^\n",
            "  File \"c:\\Users\\merlo\\AppData\\Local\\Programs\\Python\\Python312\\Lib\\importlib\\__init__.py\", line 90, in import_module\n",
            "    return _bootstrap._gcd_import(name[level:], package, level)\n",
            "           ^^^^^^^^^^^^^^^^^^^^^^^^^^^^^^^^^^^^^^^^^^^^^^^^^^^^\n",
            "  File \"<frozen importlib._bootstrap>\", line 1387, in _gcd_import\n",
            "  File \"<frozen importlib._bootstrap>\", line 1360, in _find_and_load\n",
            "  File \"<frozen importlib._bootstrap>\", line 1310, in _find_and_load_unlocked\n",
            "  File \"<frozen importlib._bootstrap>\", line 488, in _call_with_frames_removed\n",
            "  File \"<frozen importlib._bootstrap>\", line 1387, in _gcd_import\n",
            "  File \"<frozen importlib._bootstrap>\", line 1360, in _find_and_load\n",
            "  File \"<frozen importlib._bootstrap>\", line 1331, in _find_and_load_unlocked\n",
            "  File \"<frozen importlib._bootstrap>\", line 935, in _load_unlocked\n",
            "  File \"<frozen importlib._bootstrap_external>\", line 999, in exec_module\n",
            "  File \"<frozen importlib._bootstrap>\", line 488, in _call_with_frames_removed\n",
            "  File \"C:\\Users\\merlo\\AppData\\Local\\Temp\\pip-build-env-61521_h1\\overlay\\Lib\\site-packages\\setuptools\\__init__.py\", line 10, in <module>\n",
            "    import distutils.core\n",
            "ModuleNotFoundError: No module named 'distutils'\n",
            "\n"
          ]
        }
      ],
      "source": [
        "%pip install numpy==1.24.4 scipy==1.11.4 seaborn==0.12.2 matplotlib==3.7.1 pandas==1.5.3\n"
      ]
    },
    {
      "cell_type": "code",
      "execution_count": 3,
      "metadata": {},
      "outputs": [
        {
          "name": "stdout",
          "output_type": "stream",
          "text": [
            "Requirement already satisfied: seaborn in c:\\users\\merlo\\appdata\\local\\programs\\python\\python312\\lib\\site-packages (0.13.2)\n",
            "Requirement already satisfied: numpy!=1.24.0,>=1.20 in c:\\users\\merlo\\appdata\\local\\programs\\python\\python312\\lib\\site-packages (from seaborn) (2.2.5)\n",
            "Requirement already satisfied: pandas>=1.2 in c:\\users\\merlo\\appdata\\local\\programs\\python\\python312\\lib\\site-packages (from seaborn) (2.2.3)\n",
            "Requirement already satisfied: matplotlib!=3.6.1,>=3.4 in c:\\users\\merlo\\appdata\\local\\programs\\python\\python312\\lib\\site-packages (from seaborn) (3.10.3)\n",
            "Requirement already satisfied: contourpy>=1.0.1 in c:\\users\\merlo\\appdata\\local\\programs\\python\\python312\\lib\\site-packages (from matplotlib!=3.6.1,>=3.4->seaborn) (1.3.2)\n",
            "Requirement already satisfied: cycler>=0.10 in c:\\users\\merlo\\appdata\\local\\programs\\python\\python312\\lib\\site-packages (from matplotlib!=3.6.1,>=3.4->seaborn) (0.12.1)\n",
            "Requirement already satisfied: fonttools>=4.22.0 in c:\\users\\merlo\\appdata\\local\\programs\\python\\python312\\lib\\site-packages (from matplotlib!=3.6.1,>=3.4->seaborn) (4.58.0)\n",
            "Requirement already satisfied: kiwisolver>=1.3.1 in c:\\users\\merlo\\appdata\\local\\programs\\python\\python312\\lib\\site-packages (from matplotlib!=3.6.1,>=3.4->seaborn) (1.4.8)\n",
            "Requirement already satisfied: packaging>=20.0 in c:\\users\\merlo\\appdata\\roaming\\python\\python312\\site-packages (from matplotlib!=3.6.1,>=3.4->seaborn) (25.0)\n",
            "Requirement already satisfied: pillow>=8 in c:\\users\\merlo\\appdata\\local\\programs\\python\\python312\\lib\\site-packages (from matplotlib!=3.6.1,>=3.4->seaborn) (11.2.1)\n",
            "Requirement already satisfied: pyparsing>=2.3.1 in c:\\users\\merlo\\appdata\\local\\programs\\python\\python312\\lib\\site-packages (from matplotlib!=3.6.1,>=3.4->seaborn) (3.2.3)\n",
            "Requirement already satisfied: python-dateutil>=2.7 in c:\\users\\merlo\\appdata\\local\\programs\\python\\python312\\lib\\site-packages (from matplotlib!=3.6.1,>=3.4->seaborn) (2.9.0.post0)\n",
            "Requirement already satisfied: pytz>=2020.1 in c:\\users\\merlo\\appdata\\local\\programs\\python\\python312\\lib\\site-packages (from pandas>=1.2->seaborn) (2025.2)\n",
            "Requirement already satisfied: tzdata>=2022.7 in c:\\users\\merlo\\appdata\\local\\programs\\python\\python312\\lib\\site-packages (from pandas>=1.2->seaborn) (2025.2)\n",
            "Requirement already satisfied: six>=1.5 in c:\\users\\merlo\\appdata\\local\\programs\\python\\python312\\lib\\site-packages (from python-dateutil>=2.7->matplotlib!=3.6.1,>=3.4->seaborn) (1.17.0)\n",
            "Note: you may need to restart the kernel to use updated packages.\n"
          ]
        },
        {
          "name": "stderr",
          "output_type": "stream",
          "text": [
            "\n",
            "[notice] A new release of pip is available: 24.3.1 -> 25.1.1\n",
            "[notice] To update, run: python.exe -m pip install --upgrade pip\n"
          ]
        }
      ],
      "source": [
        "%pip install seaborn"
      ]
    },
    {
      "cell_type": "markdown",
      "metadata": {},
      "source": [
        "### Lectura de datos"
      ]
    },
    {
      "cell_type": "markdown",
      "metadata": {},
      "source": [
        "Ahora sí, podemos comenzar a trabajar. Comenzaremos leyendo nuestro conjunto de datos, el cual contiene información sobre el uso que tienen los estudiantes de las redes sociales. \n",
        "\n",
        "Antes de su lectura, voy a comprobar la ruta del archivo con el siguiente código:"
      ]
    },
    {
      "cell_type": "code",
      "execution_count": 4,
      "metadata": {},
      "outputs": [
        {
          "name": "stdout",
          "output_type": "stream",
          "text": [
            "c:\\Users\\merlo\\OneDrive\\Desktop\\Master_DS_Modulo_1_Alumnos-master\\Proyecto_Módulo1DataScience\n"
          ]
        }
      ],
      "source": [
        "import os\n",
        "print(os.getcwd())"
      ]
    },
    {
      "cell_type": "markdown",
      "metadata": {},
      "source": [
        "A continuación, realizamos la lectura de los datos y comprobamos que tipo de datos contiene cada columna."
      ]
    },
    {
      "cell_type": "code",
      "execution_count": 5,
      "metadata": {},
      "outputs": [
        {
          "data": {
            "text/html": [
              "<div>\n",
              "<style scoped>\n",
              "    .dataframe tbody tr th:only-of-type {\n",
              "        vertical-align: middle;\n",
              "    }\n",
              "\n",
              "    .dataframe tbody tr th {\n",
              "        vertical-align: top;\n",
              "    }\n",
              "\n",
              "    .dataframe thead th {\n",
              "        text-align: right;\n",
              "    }\n",
              "</style>\n",
              "<table border=\"1\" class=\"dataframe\">\n",
              "  <thead>\n",
              "    <tr style=\"text-align: right;\">\n",
              "      <th></th>\n",
              "      <th>Student_ID</th>\n",
              "      <th>Age</th>\n",
              "      <th>Gender</th>\n",
              "      <th>Academic_Level</th>\n",
              "      <th>Country</th>\n",
              "      <th>Avg_Daily_Usage_Hours</th>\n",
              "      <th>Most_Used_Platform</th>\n",
              "      <th>Affects_Academic_Performance</th>\n",
              "      <th>Sleep_Hours_Per_Night</th>\n",
              "      <th>Mental_Health_Score</th>\n",
              "      <th>Relationship_Status</th>\n",
              "      <th>Conflicts_Over_Social_Media</th>\n",
              "      <th>Addicted_Score</th>\n",
              "    </tr>\n",
              "  </thead>\n",
              "  <tbody>\n",
              "    <tr>\n",
              "      <th>0</th>\n",
              "      <td>1</td>\n",
              "      <td>diecinueve</td>\n",
              "      <td>fEMale</td>\n",
              "      <td>Undergraduate</td>\n",
              "      <td>Bangladesh</td>\n",
              "      <td>5.2</td>\n",
              "      <td>Instagram</td>\n",
              "      <td>Yes</td>\n",
              "      <td>6.5</td>\n",
              "      <td>6</td>\n",
              "      <td>In Relationship</td>\n",
              "      <td>3</td>\n",
              "      <td>8</td>\n",
              "    </tr>\n",
              "    <tr>\n",
              "      <th>1</th>\n",
              "      <td>2</td>\n",
              "      <td>22</td>\n",
              "      <td>male</td>\n",
              "      <td>Graduate</td>\n",
              "      <td>India</td>\n",
              "      <td>2.1</td>\n",
              "      <td>Twitter</td>\n",
              "      <td>No</td>\n",
              "      <td>7.5</td>\n",
              "      <td>8</td>\n",
              "      <td>Single</td>\n",
              "      <td>0</td>\n",
              "      <td>3</td>\n",
              "    </tr>\n",
              "    <tr>\n",
              "      <th>2</th>\n",
              "      <td>3</td>\n",
              "      <td>20</td>\n",
              "      <td>Female</td>\n",
              "      <td>Undergraduate</td>\n",
              "      <td>USA</td>\n",
              "      <td>6.0</td>\n",
              "      <td>TikTok</td>\n",
              "      <td>Yes</td>\n",
              "      <td>5.0</td>\n",
              "      <td>5</td>\n",
              "      <td>Complicated</td>\n",
              "      <td>4</td>\n",
              "      <td>9</td>\n",
              "    </tr>\n",
              "    <tr>\n",
              "      <th>3</th>\n",
              "      <td>4</td>\n",
              "      <td>18</td>\n",
              "      <td>mAle</td>\n",
              "      <td>High School</td>\n",
              "      <td>UK</td>\n",
              "      <td>3.0</td>\n",
              "      <td>YouTube</td>\n",
              "      <td>No</td>\n",
              "      <td>7.0</td>\n",
              "      <td>7</td>\n",
              "      <td>Single</td>\n",
              "      <td>1</td>\n",
              "      <td>4</td>\n",
              "    </tr>\n",
              "    <tr>\n",
              "      <th>4</th>\n",
              "      <td>5</td>\n",
              "      <td>21</td>\n",
              "      <td>Male</td>\n",
              "      <td>Graduate</td>\n",
              "      <td>Canada</td>\n",
              "      <td>4.5</td>\n",
              "      <td>Facebook</td>\n",
              "      <td>Yes</td>\n",
              "      <td>6.0</td>\n",
              "      <td>6</td>\n",
              "      <td>In Relationship</td>\n",
              "      <td>2</td>\n",
              "      <td>7</td>\n",
              "    </tr>\n",
              "  </tbody>\n",
              "</table>\n",
              "</div>"
            ],
            "text/plain": [
              "   Student_ID         Age  Gender Academic_Level     Country  \\\n",
              "0           1  diecinueve  fEMale  Undergraduate  Bangladesh   \n",
              "1           2          22    male       Graduate       India   \n",
              "2           3          20  Female  Undergraduate         USA   \n",
              "3           4          18    mAle    High School          UK   \n",
              "4           5          21    Male       Graduate      Canada   \n",
              "\n",
              "  Avg_Daily_Usage_Hours Most_Used_Platform Affects_Academic_Performance  \\\n",
              "0                   5.2          Instagram                          Yes   \n",
              "1                   2.1            Twitter                           No   \n",
              "2                   6.0             TikTok                          Yes   \n",
              "3                   3.0            YouTube                           No   \n",
              "4                   4.5           Facebook                          Yes   \n",
              "\n",
              "  Sleep_Hours_Per_Night  Mental_Health_Score Relationship_Status  \\\n",
              "0                   6.5                    6     In Relationship   \n",
              "1                   7.5                    8              Single   \n",
              "2                   5.0                    5         Complicated   \n",
              "3                   7.0                    7              Single   \n",
              "4                   6.0                    6     In Relationship   \n",
              "\n",
              "   Conflicts_Over_Social_Media  Addicted_Score  \n",
              "0                            3               8  \n",
              "1                            0               3  \n",
              "2                            4               9  \n",
              "3                            1               4  \n",
              "4                            2               7  "
            ]
          },
          "execution_count": 5,
          "metadata": {},
          "output_type": "execute_result"
        }
      ],
      "source": [
        "# Importar las librerías necesarias\n",
        "import pandas as pd\n",
        "import numpy as np \n",
        "\n",
        "# Cargar el archivo Excel\n",
        "\n",
        "df_excel = pd.read_csv('StudentsSocialMediaAddiction_Bruto.csv')  # si existiera\n",
        "df_excel.head()  # Mostrar las primeras filas del DataFrame\n"
      ]
    },
    {
      "cell_type": "code",
      "execution_count": 6,
      "metadata": {},
      "outputs": [
        {
          "data": {
            "text/plain": [
              "Student_ID                       int64\n",
              "Age                             object\n",
              "Gender                          object\n",
              "Academic_Level                  object\n",
              "Country                         object\n",
              "Avg_Daily_Usage_Hours           object\n",
              "Most_Used_Platform              object\n",
              "Affects_Academic_Performance    object\n",
              "Sleep_Hours_Per_Night           object\n",
              "Mental_Health_Score              int64\n",
              "Relationship_Status             object\n",
              "Conflicts_Over_Social_Media      int64\n",
              "Addicted_Score                   int64\n",
              "dtype: object"
            ]
          },
          "execution_count": 6,
          "metadata": {},
          "output_type": "execute_result"
        }
      ],
      "source": [
        "# Para ver el tipo de variable que es cada columna\n",
        "df_excel.dtypes"
      ]
    },
    {
      "cell_type": "markdown",
      "metadata": {},
      "source": [
        "Como podemos observar en los primeros registros, hay algunos datos mal escritos, es decir tenemos que realizar una limpieza antes de realizar cualquier tipo de análisis."
      ]
    },
    {
      "cell_type": "markdown",
      "metadata": {},
      "source": [
        "## Limpieza y depuración de datos.\n",
        "En esta sección, realizaremos la limpieza de nuestros datos para que todos los datos tengan el mismo formato. Esto evitará posibles errores en el análisis. \n",
        "\n",
        "El orden se va a realizar de izquierda a derecha, siendo la primera columna que contiene datos erróneos \"Age\"."
      ]
    },
    {
      "cell_type": "markdown",
      "metadata": {},
      "source": [
        "1. Columna **Age**:"
      ]
    },
    {
      "cell_type": "code",
      "execution_count": 7,
      "metadata": {},
      "outputs": [
        {
          "data": {
            "text/html": [
              "<div>\n",
              "<style scoped>\n",
              "    .dataframe tbody tr th:only-of-type {\n",
              "        vertical-align: middle;\n",
              "    }\n",
              "\n",
              "    .dataframe tbody tr th {\n",
              "        vertical-align: top;\n",
              "    }\n",
              "\n",
              "    .dataframe thead th {\n",
              "        text-align: right;\n",
              "    }\n",
              "</style>\n",
              "<table border=\"1\" class=\"dataframe\">\n",
              "  <thead>\n",
              "    <tr style=\"text-align: right;\">\n",
              "      <th></th>\n",
              "      <th>Student_ID</th>\n",
              "      <th>Age</th>\n",
              "      <th>Gender</th>\n",
              "      <th>Academic_Level</th>\n",
              "      <th>Country</th>\n",
              "      <th>Avg_Daily_Usage_Hours</th>\n",
              "      <th>Most_Used_Platform</th>\n",
              "      <th>Affects_Academic_Performance</th>\n",
              "      <th>Sleep_Hours_Per_Night</th>\n",
              "      <th>Mental_Health_Score</th>\n",
              "      <th>Relationship_Status</th>\n",
              "      <th>Conflicts_Over_Social_Media</th>\n",
              "      <th>Addicted_Score</th>\n",
              "    </tr>\n",
              "  </thead>\n",
              "  <tbody>\n",
              "    <tr>\n",
              "      <th>0</th>\n",
              "      <td>1</td>\n",
              "      <td>19</td>\n",
              "      <td>fEMale</td>\n",
              "      <td>Undergraduate</td>\n",
              "      <td>Bangladesh</td>\n",
              "      <td>5.2</td>\n",
              "      <td>Instagram</td>\n",
              "      <td>Yes</td>\n",
              "      <td>6.5</td>\n",
              "      <td>6</td>\n",
              "      <td>In Relationship</td>\n",
              "      <td>3</td>\n",
              "      <td>8</td>\n",
              "    </tr>\n",
              "    <tr>\n",
              "      <th>1</th>\n",
              "      <td>2</td>\n",
              "      <td>22</td>\n",
              "      <td>male</td>\n",
              "      <td>Graduate</td>\n",
              "      <td>India</td>\n",
              "      <td>2.1</td>\n",
              "      <td>Twitter</td>\n",
              "      <td>No</td>\n",
              "      <td>7.5</td>\n",
              "      <td>8</td>\n",
              "      <td>Single</td>\n",
              "      <td>0</td>\n",
              "      <td>3</td>\n",
              "    </tr>\n",
              "    <tr>\n",
              "      <th>2</th>\n",
              "      <td>3</td>\n",
              "      <td>20</td>\n",
              "      <td>Female</td>\n",
              "      <td>Undergraduate</td>\n",
              "      <td>USA</td>\n",
              "      <td>6.0</td>\n",
              "      <td>TikTok</td>\n",
              "      <td>Yes</td>\n",
              "      <td>5.0</td>\n",
              "      <td>5</td>\n",
              "      <td>Complicated</td>\n",
              "      <td>4</td>\n",
              "      <td>9</td>\n",
              "    </tr>\n",
              "    <tr>\n",
              "      <th>3</th>\n",
              "      <td>4</td>\n",
              "      <td>18</td>\n",
              "      <td>mAle</td>\n",
              "      <td>High School</td>\n",
              "      <td>UK</td>\n",
              "      <td>3.0</td>\n",
              "      <td>YouTube</td>\n",
              "      <td>No</td>\n",
              "      <td>7.0</td>\n",
              "      <td>7</td>\n",
              "      <td>Single</td>\n",
              "      <td>1</td>\n",
              "      <td>4</td>\n",
              "    </tr>\n",
              "    <tr>\n",
              "      <th>4</th>\n",
              "      <td>5</td>\n",
              "      <td>21</td>\n",
              "      <td>Male</td>\n",
              "      <td>Graduate</td>\n",
              "      <td>Canada</td>\n",
              "      <td>4.5</td>\n",
              "      <td>Facebook</td>\n",
              "      <td>Yes</td>\n",
              "      <td>6.0</td>\n",
              "      <td>6</td>\n",
              "      <td>In Relationship</td>\n",
              "      <td>2</td>\n",
              "      <td>7</td>\n",
              "    </tr>\n",
              "  </tbody>\n",
              "</table>\n",
              "</div>"
            ],
            "text/plain": [
              "   Student_ID  Age  Gender Academic_Level     Country Avg_Daily_Usage_Hours  \\\n",
              "0           1   19  fEMale  Undergraduate  Bangladesh                   5.2   \n",
              "1           2   22    male       Graduate       India                   2.1   \n",
              "2           3   20  Female  Undergraduate         USA                   6.0   \n",
              "3           4   18    mAle    High School          UK                   3.0   \n",
              "4           5   21    Male       Graduate      Canada                   4.5   \n",
              "\n",
              "  Most_Used_Platform Affects_Academic_Performance Sleep_Hours_Per_Night  \\\n",
              "0          Instagram                          Yes                   6.5   \n",
              "1            Twitter                           No                   7.5   \n",
              "2             TikTok                          Yes                   5.0   \n",
              "3            YouTube                           No                   7.0   \n",
              "4           Facebook                          Yes                   6.0   \n",
              "\n",
              "   Mental_Health_Score Relationship_Status  Conflicts_Over_Social_Media  \\\n",
              "0                    6     In Relationship                            3   \n",
              "1                    8              Single                            0   \n",
              "2                    5         Complicated                            4   \n",
              "3                    7              Single                            1   \n",
              "4                    6     In Relationship                            2   \n",
              "\n",
              "   Addicted_Score  \n",
              "0               8  \n",
              "1               3  \n",
              "2               9  \n",
              "3               4  \n",
              "4               7  "
            ]
          },
          "execution_count": 7,
          "metadata": {},
          "output_type": "execute_result"
        }
      ],
      "source": [
        "import numpy as np \n",
        "\n",
        "# 1. Limpieza de la columna Age: \n",
        "df_excel[\"Age\"] = df_excel[\"Age\"].astype(str)\n",
        "# strip() elimina los espacios en blanco al principio y al final de la cadena\n",
        "# lower() convierte la cadena a minúsculas\n",
        "for i in range(len(df_excel)):\n",
        "    valor = df_excel.loc[i, \"Age\"].strip().lower() \n",
        "    #.loc es un acceso basado en etiquetas para seleccionar \n",
        "    # #y modificar datos en un DataFrame de pandas.\n",
        "\n",
        "    if valor == \"diecinueve\":\n",
        "                df_excel.loc[i, \"Age\"] = 19\n",
        "    if valor == \"veinte\":\n",
        "                 df_excel.loc[i, \"Age\"] = 20\n",
        "    if valor == \"veintidos\":\n",
        "        df_excel.loc[i, \"Age\"] = 22\n",
        "    if \",\" in valor:\n",
        "        valor = valor.replace(\",\",\".\")\n",
        "        try:\n",
        "            df_excel.loc[i, \"Age\"] = int(float(valor))\n",
        "        except:\n",
        "            df_excel.loc[i, \"Age\"] = None\n",
        "\n",
        "#Para esta columna que contiene errores más complejos, combierto el formato de str a int aquí\n",
        "df_excel[\"Age\"] = pd.to_numeric(df_excel[\"Age\"], errors=\"raise\")  # Convierte str → números\n",
        "df_excel[\"Age\"] = df_excel[\"Age\"].astype(\"Int64\")                 # Convierte float → Int64\n",
        "\n",
        "df_excel.head()  # Mostrar las primeras filas del DataFrame"
      ]
    },
    {
      "cell_type": "code",
      "execution_count": 8,
      "metadata": {},
      "outputs": [
        {
          "data": {
            "text/plain": [
              "Student_ID                                355\n",
              "Age                                        20\n",
              "Gender                                  mujer\n",
              "Academic_Level                  Undergraduate\n",
              "Country                           Switzerland\n",
              "Avg_Daily_Usage_Hours                     3.6\n",
              "Most_Used_Platform                  Instagram\n",
              "Affects_Academic_Performance               No\n",
              "Sleep_Hours_Per_Night                     8.2\n",
              "Mental_Health_Score                         8\n",
              "Relationship_Status                    Single\n",
              "Conflicts_Over_Social_Media                 2\n",
              "Addicted_Score                              4\n",
              "Name: 354, dtype: object"
            ]
          },
          "execution_count": 8,
          "metadata": {},
          "output_type": "execute_result"
        }
      ],
      "source": [
        "#Para comprobar que en casos donde aparece por ejemplo 20,5 obtenemos 20\n",
        "df_excel.loc[354]     # Muestra la fila con índice 5 (según etiqueta) \n"
      ]
    },
    {
      "cell_type": "markdown",
      "metadata": {},
      "source": [
        "2. Columna **Gender**:"
      ]
    },
    {
      "cell_type": "code",
      "execution_count": 9,
      "metadata": {},
      "outputs": [
        {
          "data": {
            "text/html": [
              "<div>\n",
              "<style scoped>\n",
              "    .dataframe tbody tr th:only-of-type {\n",
              "        vertical-align: middle;\n",
              "    }\n",
              "\n",
              "    .dataframe tbody tr th {\n",
              "        vertical-align: top;\n",
              "    }\n",
              "\n",
              "    .dataframe thead th {\n",
              "        text-align: right;\n",
              "    }\n",
              "</style>\n",
              "<table border=\"1\" class=\"dataframe\">\n",
              "  <thead>\n",
              "    <tr style=\"text-align: right;\">\n",
              "      <th></th>\n",
              "      <th>Student_ID</th>\n",
              "      <th>Age</th>\n",
              "      <th>Gender</th>\n",
              "      <th>Academic_Level</th>\n",
              "      <th>Country</th>\n",
              "      <th>Avg_Daily_Usage_Hours</th>\n",
              "      <th>Most_Used_Platform</th>\n",
              "      <th>Affects_Academic_Performance</th>\n",
              "      <th>Sleep_Hours_Per_Night</th>\n",
              "      <th>Mental_Health_Score</th>\n",
              "      <th>Relationship_Status</th>\n",
              "      <th>Conflicts_Over_Social_Media</th>\n",
              "      <th>Addicted_Score</th>\n",
              "    </tr>\n",
              "  </thead>\n",
              "  <tbody>\n",
              "    <tr>\n",
              "      <th>0</th>\n",
              "      <td>1</td>\n",
              "      <td>19</td>\n",
              "      <td>Female</td>\n",
              "      <td>Undergraduate</td>\n",
              "      <td>Bangladesh</td>\n",
              "      <td>5.2</td>\n",
              "      <td>Instagram</td>\n",
              "      <td>Yes</td>\n",
              "      <td>6.5</td>\n",
              "      <td>6</td>\n",
              "      <td>In Relationship</td>\n",
              "      <td>3</td>\n",
              "      <td>8</td>\n",
              "    </tr>\n",
              "    <tr>\n",
              "      <th>1</th>\n",
              "      <td>2</td>\n",
              "      <td>22</td>\n",
              "      <td>Male</td>\n",
              "      <td>Graduate</td>\n",
              "      <td>India</td>\n",
              "      <td>2.1</td>\n",
              "      <td>Twitter</td>\n",
              "      <td>No</td>\n",
              "      <td>7.5</td>\n",
              "      <td>8</td>\n",
              "      <td>Single</td>\n",
              "      <td>0</td>\n",
              "      <td>3</td>\n",
              "    </tr>\n",
              "    <tr>\n",
              "      <th>2</th>\n",
              "      <td>3</td>\n",
              "      <td>20</td>\n",
              "      <td>Female</td>\n",
              "      <td>Undergraduate</td>\n",
              "      <td>USA</td>\n",
              "      <td>6.0</td>\n",
              "      <td>TikTok</td>\n",
              "      <td>Yes</td>\n",
              "      <td>5.0</td>\n",
              "      <td>5</td>\n",
              "      <td>Complicated</td>\n",
              "      <td>4</td>\n",
              "      <td>9</td>\n",
              "    </tr>\n",
              "    <tr>\n",
              "      <th>3</th>\n",
              "      <td>4</td>\n",
              "      <td>18</td>\n",
              "      <td>Male</td>\n",
              "      <td>High School</td>\n",
              "      <td>UK</td>\n",
              "      <td>3.0</td>\n",
              "      <td>YouTube</td>\n",
              "      <td>No</td>\n",
              "      <td>7.0</td>\n",
              "      <td>7</td>\n",
              "      <td>Single</td>\n",
              "      <td>1</td>\n",
              "      <td>4</td>\n",
              "    </tr>\n",
              "    <tr>\n",
              "      <th>4</th>\n",
              "      <td>5</td>\n",
              "      <td>21</td>\n",
              "      <td>Male</td>\n",
              "      <td>Graduate</td>\n",
              "      <td>Canada</td>\n",
              "      <td>4.5</td>\n",
              "      <td>Facebook</td>\n",
              "      <td>Yes</td>\n",
              "      <td>6.0</td>\n",
              "      <td>6</td>\n",
              "      <td>In Relationship</td>\n",
              "      <td>2</td>\n",
              "      <td>7</td>\n",
              "    </tr>\n",
              "  </tbody>\n",
              "</table>\n",
              "</div>"
            ],
            "text/plain": [
              "   Student_ID  Age  Gender Academic_Level     Country Avg_Daily_Usage_Hours  \\\n",
              "0           1   19  Female  Undergraduate  Bangladesh                   5.2   \n",
              "1           2   22    Male       Graduate       India                   2.1   \n",
              "2           3   20  Female  Undergraduate         USA                   6.0   \n",
              "3           4   18    Male    High School          UK                   3.0   \n",
              "4           5   21    Male       Graduate      Canada                   4.5   \n",
              "\n",
              "  Most_Used_Platform Affects_Academic_Performance Sleep_Hours_Per_Night  \\\n",
              "0          Instagram                          Yes                   6.5   \n",
              "1            Twitter                           No                   7.5   \n",
              "2             TikTok                          Yes                   5.0   \n",
              "3            YouTube                           No                   7.0   \n",
              "4           Facebook                          Yes                   6.0   \n",
              "\n",
              "   Mental_Health_Score Relationship_Status  Conflicts_Over_Social_Media  \\\n",
              "0                    6     In Relationship                            3   \n",
              "1                    8              Single                            0   \n",
              "2                    5         Complicated                            4   \n",
              "3                    7              Single                            1   \n",
              "4                    6     In Relationship                            2   \n",
              "\n",
              "   Addicted_Score  \n",
              "0               8  \n",
              "1               3  \n",
              "2               9  \n",
              "3               4  \n",
              "4               7  "
            ]
          },
          "execution_count": 9,
          "metadata": {},
          "output_type": "execute_result"
        }
      ],
      "source": [
        "# 2. Limpieza de la columna Gender:\n",
        "# Poner todas las palabras con la primera letra en mayúscula\n",
        "# y cambiar las que tengan un valor mujer o hombre.\n",
        "df_excel[\"Gender\"] = df_excel[\"Gender\"].astype(str)\n",
        "# strip() elimina los espacios en blanco al principio y al final de la cadena\n",
        "# lower() convierte la cadena a minúsculas\n",
        "for i in range(len(df_excel)):\n",
        "    valor = df_excel.loc[i, \"Gender\"].strip().lower()\n",
        "    \n",
        "    if valor == 'female' or valor == 'male':\n",
        "        df_excel.loc[i, \"Gender\"] = valor.capitalize()\n",
        "    elif valor == 'mujer':\n",
        "        df_excel.loc[i, \"Gender\"] = \"Female\"\n",
        "    elif valor == 'hombre':\n",
        "        df_excel.loc[i, \"Gender\"] = \"Male\"\n",
        "\n",
        "df_excel.head()  # Verificar el tipo de datos después de la conversión"
      ]
    },
    {
      "cell_type": "markdown",
      "metadata": {},
      "source": [
        "3. Columna **Academic_Level**:"
      ]
    },
    {
      "cell_type": "code",
      "execution_count": 10,
      "metadata": {},
      "outputs": [
        {
          "data": {
            "text/html": [
              "<div>\n",
              "<style scoped>\n",
              "    .dataframe tbody tr th:only-of-type {\n",
              "        vertical-align: middle;\n",
              "    }\n",
              "\n",
              "    .dataframe tbody tr th {\n",
              "        vertical-align: top;\n",
              "    }\n",
              "\n",
              "    .dataframe thead th {\n",
              "        text-align: right;\n",
              "    }\n",
              "</style>\n",
              "<table border=\"1\" class=\"dataframe\">\n",
              "  <thead>\n",
              "    <tr style=\"text-align: right;\">\n",
              "      <th></th>\n",
              "      <th>Student_ID</th>\n",
              "      <th>Age</th>\n",
              "      <th>Gender</th>\n",
              "      <th>Academic_Level</th>\n",
              "      <th>Country</th>\n",
              "      <th>Avg_Daily_Usage_Hours</th>\n",
              "      <th>Most_Used_Platform</th>\n",
              "      <th>Affects_Academic_Performance</th>\n",
              "      <th>Sleep_Hours_Per_Night</th>\n",
              "      <th>Mental_Health_Score</th>\n",
              "      <th>Relationship_Status</th>\n",
              "      <th>Conflicts_Over_Social_Media</th>\n",
              "      <th>Addicted_Score</th>\n",
              "    </tr>\n",
              "  </thead>\n",
              "  <tbody>\n",
              "    <tr>\n",
              "      <th>0</th>\n",
              "      <td>1</td>\n",
              "      <td>19</td>\n",
              "      <td>Female</td>\n",
              "      <td>Undergraduate</td>\n",
              "      <td>Bangladesh</td>\n",
              "      <td>5.2</td>\n",
              "      <td>Instagram</td>\n",
              "      <td>Yes</td>\n",
              "      <td>6.5</td>\n",
              "      <td>6</td>\n",
              "      <td>In Relationship</td>\n",
              "      <td>3</td>\n",
              "      <td>8</td>\n",
              "    </tr>\n",
              "    <tr>\n",
              "      <th>1</th>\n",
              "      <td>2</td>\n",
              "      <td>22</td>\n",
              "      <td>Male</td>\n",
              "      <td>Graduate</td>\n",
              "      <td>India</td>\n",
              "      <td>2.1</td>\n",
              "      <td>Twitter</td>\n",
              "      <td>No</td>\n",
              "      <td>7.5</td>\n",
              "      <td>8</td>\n",
              "      <td>Single</td>\n",
              "      <td>0</td>\n",
              "      <td>3</td>\n",
              "    </tr>\n",
              "    <tr>\n",
              "      <th>2</th>\n",
              "      <td>3</td>\n",
              "      <td>20</td>\n",
              "      <td>Female</td>\n",
              "      <td>Undergraduate</td>\n",
              "      <td>USA</td>\n",
              "      <td>6.0</td>\n",
              "      <td>TikTok</td>\n",
              "      <td>Yes</td>\n",
              "      <td>5.0</td>\n",
              "      <td>5</td>\n",
              "      <td>Complicated</td>\n",
              "      <td>4</td>\n",
              "      <td>9</td>\n",
              "    </tr>\n",
              "    <tr>\n",
              "      <th>3</th>\n",
              "      <td>4</td>\n",
              "      <td>18</td>\n",
              "      <td>Male</td>\n",
              "      <td>High school</td>\n",
              "      <td>UK</td>\n",
              "      <td>3.0</td>\n",
              "      <td>YouTube</td>\n",
              "      <td>No</td>\n",
              "      <td>7.0</td>\n",
              "      <td>7</td>\n",
              "      <td>Single</td>\n",
              "      <td>1</td>\n",
              "      <td>4</td>\n",
              "    </tr>\n",
              "    <tr>\n",
              "      <th>4</th>\n",
              "      <td>5</td>\n",
              "      <td>21</td>\n",
              "      <td>Male</td>\n",
              "      <td>Graduate</td>\n",
              "      <td>Canada</td>\n",
              "      <td>4.5</td>\n",
              "      <td>Facebook</td>\n",
              "      <td>Yes</td>\n",
              "      <td>6.0</td>\n",
              "      <td>6</td>\n",
              "      <td>In Relationship</td>\n",
              "      <td>2</td>\n",
              "      <td>7</td>\n",
              "    </tr>\n",
              "  </tbody>\n",
              "</table>\n",
              "</div>"
            ],
            "text/plain": [
              "   Student_ID  Age  Gender Academic_Level     Country Avg_Daily_Usage_Hours  \\\n",
              "0           1   19  Female  Undergraduate  Bangladesh                   5.2   \n",
              "1           2   22    Male       Graduate       India                   2.1   \n",
              "2           3   20  Female  Undergraduate         USA                   6.0   \n",
              "3           4   18    Male    High school          UK                   3.0   \n",
              "4           5   21    Male       Graduate      Canada                   4.5   \n",
              "\n",
              "  Most_Used_Platform Affects_Academic_Performance Sleep_Hours_Per_Night  \\\n",
              "0          Instagram                          Yes                   6.5   \n",
              "1            Twitter                           No                   7.5   \n",
              "2             TikTok                          Yes                   5.0   \n",
              "3            YouTube                           No                   7.0   \n",
              "4           Facebook                          Yes                   6.0   \n",
              "\n",
              "   Mental_Health_Score Relationship_Status  Conflicts_Over_Social_Media  \\\n",
              "0                    6     In Relationship                            3   \n",
              "1                    8              Single                            0   \n",
              "2                    5         Complicated                            4   \n",
              "3                    7              Single                            1   \n",
              "4                    6     In Relationship                            2   \n",
              "\n",
              "   Addicted_Score  \n",
              "0               8  \n",
              "1               3  \n",
              "2               9  \n",
              "3               4  \n",
              "4               7  "
            ]
          },
          "execution_count": 10,
          "metadata": {},
          "output_type": "execute_result"
        }
      ],
      "source": [
        "# 3. Limpieza de la columna Academic_Level:\n",
        "# Poner todas las palabras con la primera letra en mayúscula\n",
        "df_excel[\"Academic_Level\"] = df_excel[\"Academic_Level\"].astype(str)\n",
        "# strip() elimina los espacios en blanco al principio y al final de la cadena\n",
        "# lower() convierte la cadena a minúsculas\n",
        "for i in range(len(df_excel)):\n",
        "    valor = df_excel.loc[i, \"Academic_Level\"].strip().lower()\n",
        "    df_excel.loc[i, \"Academic_Level\"] = valor.capitalize()\n",
        "\n",
        "df_excel.head()  # Verificar el tipo de datos después de la conversión"
      ]
    },
    {
      "cell_type": "markdown",
      "metadata": {},
      "source": [
        "4. Columna **Country**:"
      ]
    },
    {
      "cell_type": "code",
      "execution_count": 11,
      "metadata": {},
      "outputs": [
        {
          "data": {
            "text/html": [
              "<div>\n",
              "<style scoped>\n",
              "    .dataframe tbody tr th:only-of-type {\n",
              "        vertical-align: middle;\n",
              "    }\n",
              "\n",
              "    .dataframe tbody tr th {\n",
              "        vertical-align: top;\n",
              "    }\n",
              "\n",
              "    .dataframe thead th {\n",
              "        text-align: right;\n",
              "    }\n",
              "</style>\n",
              "<table border=\"1\" class=\"dataframe\">\n",
              "  <thead>\n",
              "    <tr style=\"text-align: right;\">\n",
              "      <th></th>\n",
              "      <th>Student_ID</th>\n",
              "      <th>Age</th>\n",
              "      <th>Gender</th>\n",
              "      <th>Academic_Level</th>\n",
              "      <th>Country</th>\n",
              "      <th>Avg_Daily_Usage_Hours</th>\n",
              "      <th>Most_Used_Platform</th>\n",
              "      <th>Affects_Academic_Performance</th>\n",
              "      <th>Sleep_Hours_Per_Night</th>\n",
              "      <th>Mental_Health_Score</th>\n",
              "      <th>Relationship_Status</th>\n",
              "      <th>Conflicts_Over_Social_Media</th>\n",
              "      <th>Addicted_Score</th>\n",
              "    </tr>\n",
              "  </thead>\n",
              "  <tbody>\n",
              "    <tr>\n",
              "      <th>0</th>\n",
              "      <td>1</td>\n",
              "      <td>19</td>\n",
              "      <td>Female</td>\n",
              "      <td>Undergraduate</td>\n",
              "      <td>Bangladesh</td>\n",
              "      <td>5.2</td>\n",
              "      <td>Instagram</td>\n",
              "      <td>Yes</td>\n",
              "      <td>6.5</td>\n",
              "      <td>6</td>\n",
              "      <td>In Relationship</td>\n",
              "      <td>3</td>\n",
              "      <td>8</td>\n",
              "    </tr>\n",
              "    <tr>\n",
              "      <th>1</th>\n",
              "      <td>2</td>\n",
              "      <td>22</td>\n",
              "      <td>Male</td>\n",
              "      <td>Graduate</td>\n",
              "      <td>India</td>\n",
              "      <td>2.1</td>\n",
              "      <td>Twitter</td>\n",
              "      <td>No</td>\n",
              "      <td>7.5</td>\n",
              "      <td>8</td>\n",
              "      <td>Single</td>\n",
              "      <td>0</td>\n",
              "      <td>3</td>\n",
              "    </tr>\n",
              "    <tr>\n",
              "      <th>2</th>\n",
              "      <td>3</td>\n",
              "      <td>20</td>\n",
              "      <td>Female</td>\n",
              "      <td>Undergraduate</td>\n",
              "      <td>Usa</td>\n",
              "      <td>6.0</td>\n",
              "      <td>TikTok</td>\n",
              "      <td>Yes</td>\n",
              "      <td>5.0</td>\n",
              "      <td>5</td>\n",
              "      <td>Complicated</td>\n",
              "      <td>4</td>\n",
              "      <td>9</td>\n",
              "    </tr>\n",
              "    <tr>\n",
              "      <th>3</th>\n",
              "      <td>4</td>\n",
              "      <td>18</td>\n",
              "      <td>Male</td>\n",
              "      <td>High school</td>\n",
              "      <td>Uk</td>\n",
              "      <td>3.0</td>\n",
              "      <td>YouTube</td>\n",
              "      <td>No</td>\n",
              "      <td>7.0</td>\n",
              "      <td>7</td>\n",
              "      <td>Single</td>\n",
              "      <td>1</td>\n",
              "      <td>4</td>\n",
              "    </tr>\n",
              "    <tr>\n",
              "      <th>4</th>\n",
              "      <td>5</td>\n",
              "      <td>21</td>\n",
              "      <td>Male</td>\n",
              "      <td>Graduate</td>\n",
              "      <td>Canada</td>\n",
              "      <td>4.5</td>\n",
              "      <td>Facebook</td>\n",
              "      <td>Yes</td>\n",
              "      <td>6.0</td>\n",
              "      <td>6</td>\n",
              "      <td>In Relationship</td>\n",
              "      <td>2</td>\n",
              "      <td>7</td>\n",
              "    </tr>\n",
              "  </tbody>\n",
              "</table>\n",
              "</div>"
            ],
            "text/plain": [
              "   Student_ID  Age  Gender Academic_Level     Country Avg_Daily_Usage_Hours  \\\n",
              "0           1   19  Female  Undergraduate  Bangladesh                   5.2   \n",
              "1           2   22    Male       Graduate       India                   2.1   \n",
              "2           3   20  Female  Undergraduate         Usa                   6.0   \n",
              "3           4   18    Male    High school          Uk                   3.0   \n",
              "4           5   21    Male       Graduate      Canada                   4.5   \n",
              "\n",
              "  Most_Used_Platform Affects_Academic_Performance Sleep_Hours_Per_Night  \\\n",
              "0          Instagram                          Yes                   6.5   \n",
              "1            Twitter                           No                   7.5   \n",
              "2             TikTok                          Yes                   5.0   \n",
              "3            YouTube                           No                   7.0   \n",
              "4           Facebook                          Yes                   6.0   \n",
              "\n",
              "   Mental_Health_Score Relationship_Status  Conflicts_Over_Social_Media  \\\n",
              "0                    6     In Relationship                            3   \n",
              "1                    8              Single                            0   \n",
              "2                    5         Complicated                            4   \n",
              "3                    7              Single                            1   \n",
              "4                    6     In Relationship                            2   \n",
              "\n",
              "   Addicted_Score  \n",
              "0               8  \n",
              "1               3  \n",
              "2               9  \n",
              "3               4  \n",
              "4               7  "
            ]
          },
          "execution_count": 11,
          "metadata": {},
          "output_type": "execute_result"
        }
      ],
      "source": [
        "# 4. Poner todos los países en un mismo formato.\n",
        "df_excel[\"Country\"] = df_excel[\"Country\"].astype(str)\n",
        "# strip() elimina los espacios en blanco al principio y al final de la cadena\n",
        "# lower() convierte la cadena a minúsculas\n",
        "for i in range(len(df_excel)):\n",
        "    valor = df_excel.loc[i, \"Country\"].strip().lower()\n",
        "    df_excel.loc[i, \"Country\"] = valor.capitalize()\n",
        "\n",
        "df_excel.head()  # Verificar el tipo de datos después de la conversión"
      ]
    },
    {
      "cell_type": "markdown",
      "metadata": {},
      "source": [
        "5. Columna **Avg_Daily_Usage_Hours**:"
      ]
    },
    {
      "cell_type": "code",
      "execution_count": 12,
      "metadata": {},
      "outputs": [
        {
          "data": {
            "text/html": [
              "<div>\n",
              "<style scoped>\n",
              "    .dataframe tbody tr th:only-of-type {\n",
              "        vertical-align: middle;\n",
              "    }\n",
              "\n",
              "    .dataframe tbody tr th {\n",
              "        vertical-align: top;\n",
              "    }\n",
              "\n",
              "    .dataframe thead th {\n",
              "        text-align: right;\n",
              "    }\n",
              "</style>\n",
              "<table border=\"1\" class=\"dataframe\">\n",
              "  <thead>\n",
              "    <tr style=\"text-align: right;\">\n",
              "      <th></th>\n",
              "      <th>Student_ID</th>\n",
              "      <th>Age</th>\n",
              "      <th>Gender</th>\n",
              "      <th>Academic_Level</th>\n",
              "      <th>Country</th>\n",
              "      <th>Avg_Daily_Usage_Hours</th>\n",
              "      <th>Most_Used_Platform</th>\n",
              "      <th>Affects_Academic_Performance</th>\n",
              "      <th>Sleep_Hours_Per_Night</th>\n",
              "      <th>Mental_Health_Score</th>\n",
              "      <th>Relationship_Status</th>\n",
              "      <th>Conflicts_Over_Social_Media</th>\n",
              "      <th>Addicted_Score</th>\n",
              "    </tr>\n",
              "  </thead>\n",
              "  <tbody>\n",
              "    <tr>\n",
              "      <th>0</th>\n",
              "      <td>1</td>\n",
              "      <td>19</td>\n",
              "      <td>Female</td>\n",
              "      <td>Undergraduate</td>\n",
              "      <td>Bangladesh</td>\n",
              "      <td>5.2</td>\n",
              "      <td>Instagram</td>\n",
              "      <td>Yes</td>\n",
              "      <td>6.5</td>\n",
              "      <td>6</td>\n",
              "      <td>In Relationship</td>\n",
              "      <td>3</td>\n",
              "      <td>8</td>\n",
              "    </tr>\n",
              "    <tr>\n",
              "      <th>1</th>\n",
              "      <td>2</td>\n",
              "      <td>22</td>\n",
              "      <td>Male</td>\n",
              "      <td>Graduate</td>\n",
              "      <td>India</td>\n",
              "      <td>2.1</td>\n",
              "      <td>Twitter</td>\n",
              "      <td>No</td>\n",
              "      <td>7.5</td>\n",
              "      <td>8</td>\n",
              "      <td>Single</td>\n",
              "      <td>0</td>\n",
              "      <td>3</td>\n",
              "    </tr>\n",
              "    <tr>\n",
              "      <th>2</th>\n",
              "      <td>3</td>\n",
              "      <td>20</td>\n",
              "      <td>Female</td>\n",
              "      <td>Undergraduate</td>\n",
              "      <td>Usa</td>\n",
              "      <td>6.0</td>\n",
              "      <td>TikTok</td>\n",
              "      <td>Yes</td>\n",
              "      <td>5.0</td>\n",
              "      <td>5</td>\n",
              "      <td>Complicated</td>\n",
              "      <td>4</td>\n",
              "      <td>9</td>\n",
              "    </tr>\n",
              "    <tr>\n",
              "      <th>3</th>\n",
              "      <td>4</td>\n",
              "      <td>18</td>\n",
              "      <td>Male</td>\n",
              "      <td>High school</td>\n",
              "      <td>Uk</td>\n",
              "      <td>3.0</td>\n",
              "      <td>YouTube</td>\n",
              "      <td>No</td>\n",
              "      <td>7.0</td>\n",
              "      <td>7</td>\n",
              "      <td>Single</td>\n",
              "      <td>1</td>\n",
              "      <td>4</td>\n",
              "    </tr>\n",
              "    <tr>\n",
              "      <th>4</th>\n",
              "      <td>5</td>\n",
              "      <td>21</td>\n",
              "      <td>Male</td>\n",
              "      <td>Graduate</td>\n",
              "      <td>Canada</td>\n",
              "      <td>4.5</td>\n",
              "      <td>Facebook</td>\n",
              "      <td>Yes</td>\n",
              "      <td>6.0</td>\n",
              "      <td>6</td>\n",
              "      <td>In Relationship</td>\n",
              "      <td>2</td>\n",
              "      <td>7</td>\n",
              "    </tr>\n",
              "  </tbody>\n",
              "</table>\n",
              "</div>"
            ],
            "text/plain": [
              "   Student_ID  Age  Gender Academic_Level     Country Avg_Daily_Usage_Hours  \\\n",
              "0           1   19  Female  Undergraduate  Bangladesh                   5.2   \n",
              "1           2   22    Male       Graduate       India                   2.1   \n",
              "2           3   20  Female  Undergraduate         Usa                   6.0   \n",
              "3           4   18    Male    High school          Uk                   3.0   \n",
              "4           5   21    Male       Graduate      Canada                   4.5   \n",
              "\n",
              "  Most_Used_Platform Affects_Academic_Performance Sleep_Hours_Per_Night  \\\n",
              "0          Instagram                          Yes                   6.5   \n",
              "1            Twitter                           No                   7.5   \n",
              "2             TikTok                          Yes                   5.0   \n",
              "3            YouTube                           No                   7.0   \n",
              "4           Facebook                          Yes                   6.0   \n",
              "\n",
              "   Mental_Health_Score Relationship_Status  Conflicts_Over_Social_Media  \\\n",
              "0                    6     In Relationship                            3   \n",
              "1                    8              Single                            0   \n",
              "2                    5         Complicated                            4   \n",
              "3                    7              Single                            1   \n",
              "4                    6     In Relationship                            2   \n",
              "\n",
              "   Addicted_Score  \n",
              "0               8  \n",
              "1               3  \n",
              "2               9  \n",
              "3               4  \n",
              "4               7  "
            ]
          },
          "execution_count": 12,
          "metadata": {},
          "output_type": "execute_result"
        }
      ],
      "source": [
        "# 5. Poner todos los valores con el mismo formato decimal.\n",
        "df_excel[\"Avg_Daily_Usage_Hours\"] = df_excel[\"Avg_Daily_Usage_Hours\"].astype(str)\n",
        "# strip() elimina los espacios en blanco al principio y al final de la cadena\n",
        "for i in range(len(df_excel)):\n",
        "    valor = df_excel.loc[i, \"Avg_Daily_Usage_Hours\"].strip()\n",
        "    \n",
        "    try:\n",
        "        df_excel.loc[i, \"Avg_Daily_Usage_Hours\"] = df_excel.loc[i,\"Avg_Daily_Usage_Hours\"].replace(\",\", \".\")\n",
        "    except:\n",
        "        df_excel.loc[i, \"Avg_Daily_Usage_Hours\"] = None\n",
        "\n",
        "df_excel.head()  # Verificar el tipo de datos después de la conversión"
      ]
    },
    {
      "cell_type": "markdown",
      "metadata": {},
      "source": [
        "6. Columna **Most_Used_Platform**:"
      ]
    },
    {
      "cell_type": "code",
      "execution_count": 13,
      "metadata": {},
      "outputs": [
        {
          "data": {
            "text/html": [
              "<div>\n",
              "<style scoped>\n",
              "    .dataframe tbody tr th:only-of-type {\n",
              "        vertical-align: middle;\n",
              "    }\n",
              "\n",
              "    .dataframe tbody tr th {\n",
              "        vertical-align: top;\n",
              "    }\n",
              "\n",
              "    .dataframe thead th {\n",
              "        text-align: right;\n",
              "    }\n",
              "</style>\n",
              "<table border=\"1\" class=\"dataframe\">\n",
              "  <thead>\n",
              "    <tr style=\"text-align: right;\">\n",
              "      <th></th>\n",
              "      <th>Student_ID</th>\n",
              "      <th>Age</th>\n",
              "      <th>Gender</th>\n",
              "      <th>Academic_Level</th>\n",
              "      <th>Country</th>\n",
              "      <th>Avg_Daily_Usage_Hours</th>\n",
              "      <th>Most_Used_Platform</th>\n",
              "      <th>Affects_Academic_Performance</th>\n",
              "      <th>Sleep_Hours_Per_Night</th>\n",
              "      <th>Mental_Health_Score</th>\n",
              "      <th>Relationship_Status</th>\n",
              "      <th>Conflicts_Over_Social_Media</th>\n",
              "      <th>Addicted_Score</th>\n",
              "    </tr>\n",
              "  </thead>\n",
              "  <tbody>\n",
              "    <tr>\n",
              "      <th>0</th>\n",
              "      <td>1</td>\n",
              "      <td>19</td>\n",
              "      <td>Female</td>\n",
              "      <td>Undergraduate</td>\n",
              "      <td>Bangladesh</td>\n",
              "      <td>5.2</td>\n",
              "      <td>Instagram</td>\n",
              "      <td>Yes</td>\n",
              "      <td>6.5</td>\n",
              "      <td>6</td>\n",
              "      <td>In Relationship</td>\n",
              "      <td>3</td>\n",
              "      <td>8</td>\n",
              "    </tr>\n",
              "    <tr>\n",
              "      <th>1</th>\n",
              "      <td>2</td>\n",
              "      <td>22</td>\n",
              "      <td>Male</td>\n",
              "      <td>Graduate</td>\n",
              "      <td>India</td>\n",
              "      <td>2.1</td>\n",
              "      <td>Twitter</td>\n",
              "      <td>No</td>\n",
              "      <td>7.5</td>\n",
              "      <td>8</td>\n",
              "      <td>Single</td>\n",
              "      <td>0</td>\n",
              "      <td>3</td>\n",
              "    </tr>\n",
              "    <tr>\n",
              "      <th>2</th>\n",
              "      <td>3</td>\n",
              "      <td>20</td>\n",
              "      <td>Female</td>\n",
              "      <td>Undergraduate</td>\n",
              "      <td>Usa</td>\n",
              "      <td>6.0</td>\n",
              "      <td>Tiktok</td>\n",
              "      <td>Yes</td>\n",
              "      <td>5.0</td>\n",
              "      <td>5</td>\n",
              "      <td>Complicated</td>\n",
              "      <td>4</td>\n",
              "      <td>9</td>\n",
              "    </tr>\n",
              "    <tr>\n",
              "      <th>3</th>\n",
              "      <td>4</td>\n",
              "      <td>18</td>\n",
              "      <td>Male</td>\n",
              "      <td>High school</td>\n",
              "      <td>Uk</td>\n",
              "      <td>3.0</td>\n",
              "      <td>Youtube</td>\n",
              "      <td>No</td>\n",
              "      <td>7.0</td>\n",
              "      <td>7</td>\n",
              "      <td>Single</td>\n",
              "      <td>1</td>\n",
              "      <td>4</td>\n",
              "    </tr>\n",
              "    <tr>\n",
              "      <th>4</th>\n",
              "      <td>5</td>\n",
              "      <td>21</td>\n",
              "      <td>Male</td>\n",
              "      <td>Graduate</td>\n",
              "      <td>Canada</td>\n",
              "      <td>4.5</td>\n",
              "      <td>Facebook</td>\n",
              "      <td>Yes</td>\n",
              "      <td>6.0</td>\n",
              "      <td>6</td>\n",
              "      <td>In Relationship</td>\n",
              "      <td>2</td>\n",
              "      <td>7</td>\n",
              "    </tr>\n",
              "  </tbody>\n",
              "</table>\n",
              "</div>"
            ],
            "text/plain": [
              "   Student_ID  Age  Gender Academic_Level     Country Avg_Daily_Usage_Hours  \\\n",
              "0           1   19  Female  Undergraduate  Bangladesh                   5.2   \n",
              "1           2   22    Male       Graduate       India                   2.1   \n",
              "2           3   20  Female  Undergraduate         Usa                   6.0   \n",
              "3           4   18    Male    High school          Uk                   3.0   \n",
              "4           5   21    Male       Graduate      Canada                   4.5   \n",
              "\n",
              "  Most_Used_Platform Affects_Academic_Performance Sleep_Hours_Per_Night  \\\n",
              "0          Instagram                          Yes                   6.5   \n",
              "1            Twitter                           No                   7.5   \n",
              "2             Tiktok                          Yes                   5.0   \n",
              "3            Youtube                           No                   7.0   \n",
              "4           Facebook                          Yes                   6.0   \n",
              "\n",
              "   Mental_Health_Score Relationship_Status  Conflicts_Over_Social_Media  \\\n",
              "0                    6     In Relationship                            3   \n",
              "1                    8              Single                            0   \n",
              "2                    5         Complicated                            4   \n",
              "3                    7              Single                            1   \n",
              "4                    6     In Relationship                            2   \n",
              "\n",
              "   Addicted_Score  \n",
              "0               8  \n",
              "1               3  \n",
              "2               9  \n",
              "3               4  \n",
              "4               7  "
            ]
          },
          "execution_count": 13,
          "metadata": {},
          "output_type": "execute_result"
        }
      ],
      "source": [
        "# 6. Limpieza de la columna \"Most_Used_Platform\":\n",
        "# Poner todas las palabras con la primera letra en mayúscula\n",
        "\n",
        "df_excel[\"Most_Used_Platform\"] = df_excel[\"Most_Used_Platform\"].astype(str)\n",
        "# strip() elimina los espacios en blanco al principio y al final de la cadena\n",
        "# lower() convierte la cadena a minúsculas\n",
        "for i in range(len(df_excel)):\n",
        "    valor = df_excel.loc[i, \"Most_Used_Platform\"].strip().lower()\n",
        "    try:\n",
        "        df_excel.loc[i, \"Most_Used_Platform\"] = valor.capitalize()\n",
        "    except:\n",
        "        df_excel.loc[i, \"Most_Used_Platform\"] = None\n",
        "\n",
        "df_excel.head()  # Verificar el tipo de datos después de la conversión\n"
      ]
    },
    {
      "cell_type": "markdown",
      "metadata": {},
      "source": [
        "7. Columna **Affects_Academic_Performance**:"
      ]
    },
    {
      "cell_type": "code",
      "execution_count": 14,
      "metadata": {},
      "outputs": [
        {
          "data": {
            "text/html": [
              "<div>\n",
              "<style scoped>\n",
              "    .dataframe tbody tr th:only-of-type {\n",
              "        vertical-align: middle;\n",
              "    }\n",
              "\n",
              "    .dataframe tbody tr th {\n",
              "        vertical-align: top;\n",
              "    }\n",
              "\n",
              "    .dataframe thead th {\n",
              "        text-align: right;\n",
              "    }\n",
              "</style>\n",
              "<table border=\"1\" class=\"dataframe\">\n",
              "  <thead>\n",
              "    <tr style=\"text-align: right;\">\n",
              "      <th></th>\n",
              "      <th>Student_ID</th>\n",
              "      <th>Age</th>\n",
              "      <th>Gender</th>\n",
              "      <th>Academic_Level</th>\n",
              "      <th>Country</th>\n",
              "      <th>Avg_Daily_Usage_Hours</th>\n",
              "      <th>Most_Used_Platform</th>\n",
              "      <th>Affects_Academic_Performance</th>\n",
              "      <th>Sleep_Hours_Per_Night</th>\n",
              "      <th>Mental_Health_Score</th>\n",
              "      <th>Relationship_Status</th>\n",
              "      <th>Conflicts_Over_Social_Media</th>\n",
              "      <th>Addicted_Score</th>\n",
              "    </tr>\n",
              "  </thead>\n",
              "  <tbody>\n",
              "    <tr>\n",
              "      <th>0</th>\n",
              "      <td>1</td>\n",
              "      <td>19</td>\n",
              "      <td>Female</td>\n",
              "      <td>Undergraduate</td>\n",
              "      <td>Bangladesh</td>\n",
              "      <td>5.2</td>\n",
              "      <td>Instagram</td>\n",
              "      <td>Yes</td>\n",
              "      <td>6.5</td>\n",
              "      <td>6</td>\n",
              "      <td>In Relationship</td>\n",
              "      <td>3</td>\n",
              "      <td>8</td>\n",
              "    </tr>\n",
              "    <tr>\n",
              "      <th>1</th>\n",
              "      <td>2</td>\n",
              "      <td>22</td>\n",
              "      <td>Male</td>\n",
              "      <td>Graduate</td>\n",
              "      <td>India</td>\n",
              "      <td>2.1</td>\n",
              "      <td>Twitter</td>\n",
              "      <td>No</td>\n",
              "      <td>7.5</td>\n",
              "      <td>8</td>\n",
              "      <td>Single</td>\n",
              "      <td>0</td>\n",
              "      <td>3</td>\n",
              "    </tr>\n",
              "    <tr>\n",
              "      <th>2</th>\n",
              "      <td>3</td>\n",
              "      <td>20</td>\n",
              "      <td>Female</td>\n",
              "      <td>Undergraduate</td>\n",
              "      <td>Usa</td>\n",
              "      <td>6.0</td>\n",
              "      <td>Tiktok</td>\n",
              "      <td>Yes</td>\n",
              "      <td>5.0</td>\n",
              "      <td>5</td>\n",
              "      <td>Complicated</td>\n",
              "      <td>4</td>\n",
              "      <td>9</td>\n",
              "    </tr>\n",
              "    <tr>\n",
              "      <th>3</th>\n",
              "      <td>4</td>\n",
              "      <td>18</td>\n",
              "      <td>Male</td>\n",
              "      <td>High school</td>\n",
              "      <td>Uk</td>\n",
              "      <td>3.0</td>\n",
              "      <td>Youtube</td>\n",
              "      <td>No</td>\n",
              "      <td>7.0</td>\n",
              "      <td>7</td>\n",
              "      <td>Single</td>\n",
              "      <td>1</td>\n",
              "      <td>4</td>\n",
              "    </tr>\n",
              "    <tr>\n",
              "      <th>4</th>\n",
              "      <td>5</td>\n",
              "      <td>21</td>\n",
              "      <td>Male</td>\n",
              "      <td>Graduate</td>\n",
              "      <td>Canada</td>\n",
              "      <td>4.5</td>\n",
              "      <td>Facebook</td>\n",
              "      <td>Yes</td>\n",
              "      <td>6.0</td>\n",
              "      <td>6</td>\n",
              "      <td>In Relationship</td>\n",
              "      <td>2</td>\n",
              "      <td>7</td>\n",
              "    </tr>\n",
              "  </tbody>\n",
              "</table>\n",
              "</div>"
            ],
            "text/plain": [
              "   Student_ID  Age  Gender Academic_Level     Country Avg_Daily_Usage_Hours  \\\n",
              "0           1   19  Female  Undergraduate  Bangladesh                   5.2   \n",
              "1           2   22    Male       Graduate       India                   2.1   \n",
              "2           3   20  Female  Undergraduate         Usa                   6.0   \n",
              "3           4   18    Male    High school          Uk                   3.0   \n",
              "4           5   21    Male       Graduate      Canada                   4.5   \n",
              "\n",
              "  Most_Used_Platform Affects_Academic_Performance Sleep_Hours_Per_Night  \\\n",
              "0          Instagram                          Yes                   6.5   \n",
              "1            Twitter                           No                   7.5   \n",
              "2             Tiktok                          Yes                   5.0   \n",
              "3            Youtube                           No                   7.0   \n",
              "4           Facebook                          Yes                   6.0   \n",
              "\n",
              "   Mental_Health_Score Relationship_Status  Conflicts_Over_Social_Media  \\\n",
              "0                    6     In Relationship                            3   \n",
              "1                    8              Single                            0   \n",
              "2                    5         Complicated                            4   \n",
              "3                    7              Single                            1   \n",
              "4                    6     In Relationship                            2   \n",
              "\n",
              "   Addicted_Score  \n",
              "0               8  \n",
              "1               3  \n",
              "2               9  \n",
              "3               4  \n",
              "4               7  "
            ]
          },
          "execution_count": 14,
          "metadata": {},
          "output_type": "execute_result"
        }
      ],
      "source": [
        "# 7. Limpieza de la columna \"Affects_Academic_Performance\":\n",
        "# Indicar que solo esté escrito Yes o No\n",
        "df_excel[\"Affects_Academic_Performance\"] = df_excel[\"Affects_Academic_Performance\"].astype(str)\n",
        "# strip() elimina los espacios en blanco al principio y al final de la cadena\n",
        "# lower() convierte la cadena a minúsculas\n",
        "for i in range(len(df_excel)):\n",
        "    valor = df_excel.loc[i, \"Affects_Academic_Performance\"].strip().lower()\n",
        "    try:\n",
        "        df_excel.loc[i, \"Affects_Academic_Performance\"] = valor.capitalize()\n",
        "    except:\n",
        "        df_excel.loc[i, \"Affects_Academic_Performance\"] = None\n",
        "\n",
        "for i in range(len(df_excel)):\n",
        "    valor = df_excel.loc[i, \"Affects_Academic_Performance\"].strip().lower()\n",
        "    if valor == \"Si\" or valor == \"Sí\":\n",
        "        df_excel.loc[i, \"Affects_Academic_Performance\"] = valor.replace(\"Si\", \"Yes\").replace(\"Sí\", \"Yes\")\n",
        "\n",
        "df_excel.head()  # Verificar el tipo de datos después de la conversión\n"
      ]
    },
    {
      "cell_type": "markdown",
      "metadata": {},
      "source": [
        "8. Columna **Sleep_Hours_Per_Night**:"
      ]
    },
    {
      "cell_type": "code",
      "execution_count": 15,
      "metadata": {},
      "outputs": [
        {
          "data": {
            "text/html": [
              "<div>\n",
              "<style scoped>\n",
              "    .dataframe tbody tr th:only-of-type {\n",
              "        vertical-align: middle;\n",
              "    }\n",
              "\n",
              "    .dataframe tbody tr th {\n",
              "        vertical-align: top;\n",
              "    }\n",
              "\n",
              "    .dataframe thead th {\n",
              "        text-align: right;\n",
              "    }\n",
              "</style>\n",
              "<table border=\"1\" class=\"dataframe\">\n",
              "  <thead>\n",
              "    <tr style=\"text-align: right;\">\n",
              "      <th></th>\n",
              "      <th>Student_ID</th>\n",
              "      <th>Age</th>\n",
              "      <th>Gender</th>\n",
              "      <th>Academic_Level</th>\n",
              "      <th>Country</th>\n",
              "      <th>Avg_Daily_Usage_Hours</th>\n",
              "      <th>Most_Used_Platform</th>\n",
              "      <th>Affects_Academic_Performance</th>\n",
              "      <th>Sleep_Hours_Per_Night</th>\n",
              "      <th>Mental_Health_Score</th>\n",
              "      <th>Relationship_Status</th>\n",
              "      <th>Conflicts_Over_Social_Media</th>\n",
              "      <th>Addicted_Score</th>\n",
              "    </tr>\n",
              "  </thead>\n",
              "  <tbody>\n",
              "    <tr>\n",
              "      <th>0</th>\n",
              "      <td>1</td>\n",
              "      <td>19</td>\n",
              "      <td>Female</td>\n",
              "      <td>Undergraduate</td>\n",
              "      <td>Bangladesh</td>\n",
              "      <td>5.2</td>\n",
              "      <td>Instagram</td>\n",
              "      <td>Yes</td>\n",
              "      <td>6.5</td>\n",
              "      <td>6</td>\n",
              "      <td>In Relationship</td>\n",
              "      <td>3</td>\n",
              "      <td>8</td>\n",
              "    </tr>\n",
              "    <tr>\n",
              "      <th>1</th>\n",
              "      <td>2</td>\n",
              "      <td>22</td>\n",
              "      <td>Male</td>\n",
              "      <td>Graduate</td>\n",
              "      <td>India</td>\n",
              "      <td>2.1</td>\n",
              "      <td>Twitter</td>\n",
              "      <td>No</td>\n",
              "      <td>7.5</td>\n",
              "      <td>8</td>\n",
              "      <td>Single</td>\n",
              "      <td>0</td>\n",
              "      <td>3</td>\n",
              "    </tr>\n",
              "    <tr>\n",
              "      <th>2</th>\n",
              "      <td>3</td>\n",
              "      <td>20</td>\n",
              "      <td>Female</td>\n",
              "      <td>Undergraduate</td>\n",
              "      <td>Usa</td>\n",
              "      <td>6.0</td>\n",
              "      <td>Tiktok</td>\n",
              "      <td>Yes</td>\n",
              "      <td>5.0</td>\n",
              "      <td>5</td>\n",
              "      <td>Complicated</td>\n",
              "      <td>4</td>\n",
              "      <td>9</td>\n",
              "    </tr>\n",
              "    <tr>\n",
              "      <th>3</th>\n",
              "      <td>4</td>\n",
              "      <td>18</td>\n",
              "      <td>Male</td>\n",
              "      <td>High school</td>\n",
              "      <td>Uk</td>\n",
              "      <td>3.0</td>\n",
              "      <td>Youtube</td>\n",
              "      <td>No</td>\n",
              "      <td>7.0</td>\n",
              "      <td>7</td>\n",
              "      <td>Single</td>\n",
              "      <td>1</td>\n",
              "      <td>4</td>\n",
              "    </tr>\n",
              "    <tr>\n",
              "      <th>4</th>\n",
              "      <td>5</td>\n",
              "      <td>21</td>\n",
              "      <td>Male</td>\n",
              "      <td>Graduate</td>\n",
              "      <td>Canada</td>\n",
              "      <td>4.5</td>\n",
              "      <td>Facebook</td>\n",
              "      <td>Yes</td>\n",
              "      <td>6.0</td>\n",
              "      <td>6</td>\n",
              "      <td>In Relationship</td>\n",
              "      <td>2</td>\n",
              "      <td>7</td>\n",
              "    </tr>\n",
              "  </tbody>\n",
              "</table>\n",
              "</div>"
            ],
            "text/plain": [
              "   Student_ID  Age  Gender Academic_Level     Country Avg_Daily_Usage_Hours  \\\n",
              "0           1   19  Female  Undergraduate  Bangladesh                   5.2   \n",
              "1           2   22    Male       Graduate       India                   2.1   \n",
              "2           3   20  Female  Undergraduate         Usa                   6.0   \n",
              "3           4   18    Male    High school          Uk                   3.0   \n",
              "4           5   21    Male       Graduate      Canada                   4.5   \n",
              "\n",
              "  Most_Used_Platform Affects_Academic_Performance Sleep_Hours_Per_Night  \\\n",
              "0          Instagram                          Yes                   6.5   \n",
              "1            Twitter                           No                   7.5   \n",
              "2             Tiktok                          Yes                   5.0   \n",
              "3            Youtube                           No                   7.0   \n",
              "4           Facebook                          Yes                   6.0   \n",
              "\n",
              "   Mental_Health_Score Relationship_Status  Conflicts_Over_Social_Media  \\\n",
              "0                    6     In Relationship                            3   \n",
              "1                    8              Single                            0   \n",
              "2                    5         Complicated                            4   \n",
              "3                    7              Single                            1   \n",
              "4                    6     In Relationship                            2   \n",
              "\n",
              "   Addicted_Score  \n",
              "0               8  \n",
              "1               3  \n",
              "2               9  \n",
              "3               4  \n",
              "4               7  "
            ]
          },
          "execution_count": 15,
          "metadata": {},
          "output_type": "execute_result"
        }
      ],
      "source": [
        "# 8. Limpieza de la columna Sleep_Hours_Per_Night:\n",
        "# Poner todas las celdas en un mismo formato.\n",
        "df_excel[\"Sleep_Hours_Per_Night\"] = df_excel[\"Sleep_Hours_Per_Night\"].astype(str)\n",
        "# strip() elimina los espacios en blanco al principio y al final de la cadena\n",
        "for i in range(len(df_excel)):\n",
        "    valor = df_excel.loc[i, \"Sleep_Hours_Per_Night\"].strip()\n",
        "    \n",
        "    try:\n",
        "        df_excel.loc[i, \"Sleep_Hours_Per_Night\"] = df_excel.loc[i,\"Sleep_Hours_Per_Night\"].replace(\",\", \".\")\n",
        "    except:\n",
        "        df_excel.loc[i, \"Sleep_Hours_Per_Night\"] = None\n",
        "\n",
        "df_excel.head()  # Verificar el tipo de datos después de la conversión\n"
      ]
    },
    {
      "cell_type": "markdown",
      "metadata": {},
      "source": [
        "9. Tranformación del tipo de dato en algunas columnas ya transformadas:"
      ]
    },
    {
      "cell_type": "code",
      "execution_count": 17,
      "metadata": {},
      "outputs": [
        {
          "data": {
            "text/plain": [
              "Student_ID                        Int64\n",
              "Age                               Int64\n",
              "Gender                           object\n",
              "Academic_Level                   object\n",
              "Country                          object\n",
              "Avg_Daily_Usage_Hours           Float64\n",
              "Most_Used_Platform               object\n",
              "Affects_Academic_Performance     object\n",
              "Sleep_Hours_Per_Night           Float64\n",
              "Mental_Health_Score               Int64\n",
              "Relationship_Status              object\n",
              "Conflicts_Over_Social_Media       Int64\n",
              "Addicted_Score                    Int64\n",
              "dtype: object"
            ]
          },
          "execution_count": 17,
          "metadata": {},
          "output_type": "execute_result"
        }
      ],
      "source": [
        "# 9. En este apartado vamos a tranformar el formato de columna correspondiente a los valores introducidos. \n",
        "# Una vez que se ha limpiado las columnas.\n",
        "df_excel[\"Student_ID\"] = pd.Series(df_excel[\"Student_ID\"], dtype=\"Int64\")\n",
        "df_excel[\"Gender\"] = pd.Series(df_excel[\"Gender\"], dtype=\"str\")\n",
        "df_excel[\"Academic_Level\"] = pd.Series(df_excel[\"Academic_Level\"], dtype=\"str\")\n",
        "df_excel[\"Country\"] = pd.Series(df_excel[\"Country\"], dtype=\"str\")\n",
        "df_excel[\"Avg_Daily_Usage_Hours\"] = pd.Series(df_excel[\"Avg_Daily_Usage_Hours\"], dtype=\"Float64\")\n",
        "df_excel[\"Most_Used_Platform\"] = pd.Series(df_excel[\"Most_Used_Platform\"], dtype=\"str\")\n",
        "df_excel[\"Affects_Academic_Performance\"] = pd.Series(df_excel[\"Affects_Academic_Performance\"], dtype=\"str\")\n",
        "df_excel[\"Sleep_Hours_Per_Night\"] = pd.Series(df_excel[\"Sleep_Hours_Per_Night\"], dtype=\"Float64\")\n",
        "df_excel[\"Mental_Health_Score\"] = pd.Series(df_excel[\"Mental_Health_Score\"], dtype=\"Int64\")\n",
        "df_excel[\"Relationship_Status\"] = pd.Series(df_excel[\"Relationship_Status\"], dtype=\"str\")\n",
        "df_excel[\"Conflicts_Over_Social_Media\"] = pd.Series(df_excel[\"Conflicts_Over_Social_Media\"], dtype=\"Int64\")\n",
        "df_excel[\"Addicted_Score\"] = pd.Series(df_excel[\"Addicted_Score\"], dtype=\"Int64\")\n",
        "\n",
        "df_excel.dtypes  # Verificar el tipo de datos después de la conversión\n"
      ]
    },
    {
      "cell_type": "markdown",
      "metadata": {},
      "source": [
        "Otra verificación que vamos a añadir, es la comprobación de si hay valores nulos. Para ello, aplicamos la función **isnull()**. Además, descargaremos el archivo de datos ya depurados y limpios para aplicaciones posteriores."
      ]
    },
    {
      "cell_type": "code",
      "execution_count": 18,
      "metadata": {},
      "outputs": [
        {
          "data": {
            "text/plain": [
              "Student_ID                      0\n",
              "Age                             0\n",
              "Gender                          0\n",
              "Academic_Level                  0\n",
              "Country                         0\n",
              "Avg_Daily_Usage_Hours           0\n",
              "Most_Used_Platform              0\n",
              "Affects_Academic_Performance    0\n",
              "Sleep_Hours_Per_Night           0\n",
              "Mental_Health_Score             0\n",
              "Relationship_Status             0\n",
              "Conflicts_Over_Social_Media     0\n",
              "Addicted_Score                  0\n",
              "dtype: int64"
            ]
          },
          "execution_count": 18,
          "metadata": {},
          "output_type": "execute_result"
        }
      ],
      "source": [
        "# Verificar si hay valores nulos. En este caso comprobamos que no hay.\n",
        "df_excel.isnull().sum()"
      ]
    },
    {
      "cell_type": "code",
      "execution_count": 48,
      "metadata": {},
      "outputs": [],
      "source": [
        "# Descargar el archivo limpio\n",
        "df_excel.to_csv('StudentsSocialMediaAddiction_Clean.csv', index=False)  # Guardar el DataFrame limpio en un nuevo archivo CSV"
      ]
    },
    {
      "cell_type": "markdown",
      "metadata": {
        "id": "rYMlD7nw2QA4"
      },
      "source": [
        "### Análisis Estadístico\n",
        "\n",
        "A continuación se mostrará la realización de algunas hipótesis. El objetivo es realizar un análisis del archivo **StudentsSocialMediaAddiction_Bruto.csv**."
      ]
    },
    {
      "cell_type": "markdown",
      "metadata": {},
      "source": [
        "En principio podemos aplicar la función **describe()**, para obtener un resumen estadístico de los datos. Esto nos muestra la media, varianza, mínimo, máximo y cuantiles de cada columna. En este caso, tiene sentido mostrar aquellas columnas que son tipo *float* o *int*."
      ]
    },
    {
      "cell_type": "code",
      "execution_count": 19,
      "metadata": {},
      "outputs": [
        {
          "data": {
            "text/html": [
              "<div>\n",
              "<style scoped>\n",
              "    .dataframe tbody tr th:only-of-type {\n",
              "        vertical-align: middle;\n",
              "    }\n",
              "\n",
              "    .dataframe tbody tr th {\n",
              "        vertical-align: top;\n",
              "    }\n",
              "\n",
              "    .dataframe thead th {\n",
              "        text-align: right;\n",
              "    }\n",
              "</style>\n",
              "<table border=\"1\" class=\"dataframe\">\n",
              "  <thead>\n",
              "    <tr style=\"text-align: right;\">\n",
              "      <th></th>\n",
              "      <th>Age</th>\n",
              "      <th>Avg_Daily_Usage_Hours</th>\n",
              "      <th>Sleep_Hours_Per_Night</th>\n",
              "      <th>Mental_Health_Score</th>\n",
              "      <th>Conflicts_Over_Social_Media</th>\n",
              "      <th>Addicted_Score</th>\n",
              "    </tr>\n",
              "  </thead>\n",
              "  <tbody>\n",
              "    <tr>\n",
              "      <th>count</th>\n",
              "      <td>705.0</td>\n",
              "      <td>705.0</td>\n",
              "      <td>705.0</td>\n",
              "      <td>705.0</td>\n",
              "      <td>705.0</td>\n",
              "      <td>705.0</td>\n",
              "    </tr>\n",
              "    <tr>\n",
              "      <th>mean</th>\n",
              "      <td>20.659574</td>\n",
              "      <td>4.918723</td>\n",
              "      <td>6.868936</td>\n",
              "      <td>6.22695</td>\n",
              "      <td>2.849645</td>\n",
              "      <td>6.436879</td>\n",
              "    </tr>\n",
              "    <tr>\n",
              "      <th>std</th>\n",
              "      <td>1.399217</td>\n",
              "      <td>1.257395</td>\n",
              "      <td>1.126848</td>\n",
              "      <td>1.105055</td>\n",
              "      <td>0.957968</td>\n",
              "      <td>1.587165</td>\n",
              "    </tr>\n",
              "    <tr>\n",
              "      <th>min</th>\n",
              "      <td>18.0</td>\n",
              "      <td>1.5</td>\n",
              "      <td>3.8</td>\n",
              "      <td>4.0</td>\n",
              "      <td>0.0</td>\n",
              "      <td>2.0</td>\n",
              "    </tr>\n",
              "    <tr>\n",
              "      <th>25%</th>\n",
              "      <td>19.0</td>\n",
              "      <td>4.1</td>\n",
              "      <td>6.0</td>\n",
              "      <td>5.0</td>\n",
              "      <td>2.0</td>\n",
              "      <td>5.0</td>\n",
              "    </tr>\n",
              "    <tr>\n",
              "      <th>50%</th>\n",
              "      <td>21.0</td>\n",
              "      <td>4.8</td>\n",
              "      <td>6.9</td>\n",
              "      <td>6.0</td>\n",
              "      <td>3.0</td>\n",
              "      <td>7.0</td>\n",
              "    </tr>\n",
              "    <tr>\n",
              "      <th>75%</th>\n",
              "      <td>22.0</td>\n",
              "      <td>5.8</td>\n",
              "      <td>7.7</td>\n",
              "      <td>7.0</td>\n",
              "      <td>4.0</td>\n",
              "      <td>8.0</td>\n",
              "    </tr>\n",
              "    <tr>\n",
              "      <th>max</th>\n",
              "      <td>24.0</td>\n",
              "      <td>8.5</td>\n",
              "      <td>9.6</td>\n",
              "      <td>9.0</td>\n",
              "      <td>5.0</td>\n",
              "      <td>9.0</td>\n",
              "    </tr>\n",
              "  </tbody>\n",
              "</table>\n",
              "</div>"
            ],
            "text/plain": [
              "             Age  Avg_Daily_Usage_Hours  Sleep_Hours_Per_Night  \\\n",
              "count      705.0                  705.0                  705.0   \n",
              "mean   20.659574               4.918723               6.868936   \n",
              "std     1.399217               1.257395               1.126848   \n",
              "min         18.0                    1.5                    3.8   \n",
              "25%         19.0                    4.1                    6.0   \n",
              "50%         21.0                    4.8                    6.9   \n",
              "75%         22.0                    5.8                    7.7   \n",
              "max         24.0                    8.5                    9.6   \n",
              "\n",
              "       Mental_Health_Score  Conflicts_Over_Social_Media  Addicted_Score  \n",
              "count                705.0                        705.0           705.0  \n",
              "mean               6.22695                     2.849645        6.436879  \n",
              "std               1.105055                     0.957968        1.587165  \n",
              "min                    4.0                          0.0             2.0  \n",
              "25%                    5.0                          2.0             5.0  \n",
              "50%                    6.0                          3.0             7.0  \n",
              "75%                    7.0                          4.0             8.0  \n",
              "max                    9.0                          5.0             9.0  "
            ]
          },
          "execution_count": 19,
          "metadata": {},
          "output_type": "execute_result"
        }
      ],
      "source": [
        "df_excel[\n",
        "    ['Age', 'Avg_Daily_Usage_Hours', 'Sleep_Hours_Per_Night',\n",
        "     'Mental_Health_Score', 'Conflicts_Over_Social_Media', 'Addicted_Score']\n",
        "].describe()\n",
        "\n"
      ]
    },
    {
      "cell_type": "markdown",
      "metadata": {},
      "source": [
        "Seguidamente, vamos a realizar una serie de representaciones por generos y edad. Para ello, aplicaremos la función **groupby()**, la cual nos agrupa por edad y genero los datos, y **plot()**, la cual nos genera las gráficas. En consecuencia, obtenemos las siguientes representaciones, según:\n",
        "\n",
        "1. *Salud Mental:*"
      ]
    },
    {
      "cell_type": "code",
      "execution_count": 20,
      "metadata": {},
      "outputs": [
        {
          "data": {
            "image/png": "[encoded data removed]",
            "text/plain": [
              "<Figure size 640x480 with 1 Axes>"
            ]
          },
          "metadata": {},
          "output_type": "display_data"
        }
      ],
      "source": [
        "import seaborn as sns\n",
        "import matplotlib.pyplot as plt\n",
        "\n",
        "#Ignorar los warnings de seaborn\n",
        "import warnings\n",
        "warnings.filterwarnings(\"ignore\")\n",
        "\n",
        "# Gráfico de líneas con horas de sueño por grupo de edad y género\n",
        "sns.lineplot(data=df_excel, x=\"Age\", y=\"Mental_Health_Score\", hue=\"Gender\", marker=\"o\",\n",
        "                          palette={\"Female\":\"#C71585\",\"Male\": \"orange\"})\n",
        "\n",
        "\n",
        "plt.title(\"Salud mental promedio por grupo de edad y género\")\n",
        "plt.xlabel(\"Grupo de edad\")\n",
        "plt.ylabel(\"Horas promedio de sueño\")\n",
        "plt.grid(True)\n",
        "plt.tight_layout()\n",
        "plt.show()"
      ]
    },
    {
      "cell_type": "code",
      "execution_count": 21,
      "metadata": {},
      "outputs": [
        {
          "data": {
            "image/png": "[encoded data removed]",
            "text/plain": [
              "<Figure size 1000x600 with 1 Axes>"
            ]
          },
          "metadata": {},
          "output_type": "display_data"
        }
      ],
      "source": [
        "import matplotlib.pyplot as plt\n",
        "\n",
        "# Agrupar por edad y género y calcular el promedio\n",
        "grouped = df_excel.groupby([\"Age\", \"Gender\"])[\"Mental_Health_Score\"].mean()\n",
        "\n",
        "# Convertir el índice para que cada género sea una columna\n",
        "pivoted = grouped.unstack()  # Ahora tienes: Age como índice, Gender como columnas\n",
        "\n",
        "# Graficar\n",
        "pivoted.plot(kind=\"bar\", figsize=(10, 6))\n",
        "plt.title(\"Salud mental promedio por edad y género\")\n",
        "plt.xlabel(\"Grupo de edad\")\n",
        "plt.ylabel(\"Puntaje de Salud Mental\")\n",
        "plt.legend(title=\"Género\")\n",
        "plt.xticks(rotation=0)\n",
        "plt.tight_layout()\n",
        "plt.show()\n"
      ]
    },
    {
      "cell_type": "markdown",
      "metadata": {},
      "source": [
        "En estas representaciones, podemos observar como los estudiantes de 18 años muestran una salud mental no muy buena con respecto al resto de grupos. Además, observamos que las mujeres poseen una salud mental más baja que los hombres en grupos de edad de 18, 21, 22 y 24.\n",
        "\n",
        "En general, se evalúan con una salud mental alta, con respecto al resto, los estudiantes de 23 años y con una salud mental baja los estudiantes de 18 años."
      ]
    },
    {
      "cell_type": "markdown",
      "metadata": {},
      "source": [
        "2. *Horas medias de uso diario:*"
      ]
    },
    {
      "cell_type": "code",
      "execution_count": 41,
      "metadata": {},
      "outputs": [
        {
          "data": {
            "image/png": "[encoded data removed]",
            "text/plain": [
              "<Figure size 640x480 with 1 Axes>"
            ]
          },
          "metadata": {},
          "output_type": "display_data"
        }
      ],
      "source": [
        "import seaborn as sns\n",
        "import matplotlib.pyplot as plt\n",
        "\n",
        "#Ignorar los warnings de seaborn\n",
        "import warnings\n",
        "warnings.filterwarnings(\"ignore\")\n",
        "\n",
        "# Gráfico de líneas con horas de sueño por grupo de edad y género\n",
        "sns.lineplot(data=df_excel, x=\"Age\", y=\"Avg_Daily_Usage_Hours\", hue=\"Gender\", marker=\"o\",\n",
        "             palette={\"Female\":\"#C71585\",\"Male\": \"blue\"})\n",
        "\n",
        "plt.title(\"Horas medias de uso por grupo de edad y género\")\n",
        "plt.xlabel(\"Grupo de edad\")\n",
        "plt.ylabel(\"Horas de uso medio\")\n",
        "plt.grid(True)\n",
        "plt.tight_layout()\n",
        "plt.show()\n"
      ]
    },
    {
      "cell_type": "code",
      "execution_count": 23,
      "metadata": {},
      "outputs": [
        {
          "data": {
            "image/png": "[encoded data removed]",
            "text/plain": [
              "<Figure size 1000x600 with 1 Axes>"
            ]
          },
          "metadata": {},
          "output_type": "display_data"
        }
      ],
      "source": [
        "# Agrupar por edad y género y calcular el promedio\n",
        "grouped = df_excel.groupby([\"Age\", \"Gender\"])[\"Avg_Daily_Usage_Hours\"].mean()\n",
        "\n",
        "# Convertir el índice para que cada género sea una columna\n",
        "pivoted = grouped.unstack()  # Ahora tienes: Age como índice, Gender como columnas\n",
        "\n",
        "# Graficar\n",
        "colores = [\"#1fb4b2\", \"#56ff0e\"]\n",
        "pivoted.plot(kind=\"bar\", figsize=(10, 6), color=colores)\n",
        "plt.title(\"Uso medio de las redes por edad y género\")\n",
        "plt.xlabel(\"Grupo de edad\")\n",
        "plt.ylabel(\"Horas de uso medio\")\n",
        "plt.legend(title=\"Género\")\n",
        "plt.xticks(rotation=0)\n",
        "plt.tight_layout()\n",
        "plt.show()\n"
      ]
    },
    {
      "cell_type": "markdown",
      "metadata": {},
      "source": [
        "En estas representaciones, podemos observar como los estudiantes de 18 años muestran un alto uso de las redes sociales, siendo más alto  en mujeres.\n",
        "\n",
        "En general, se puede observar que hay un alto uso de las redes sociales en todos los grupos de edad, rondando entre 4 y 6 horas de uso."
      ]
    },
    {
      "cell_type": "markdown",
      "metadata": {},
      "source": [
        "3. *Calificación de adicción:*"
      ]
    },
    {
      "cell_type": "code",
      "execution_count": 24,
      "metadata": {},
      "outputs": [
        {
          "data": {
            "image/png": "[encoded data removed]",
            "text/plain": [
              "<Figure size 640x480 with 1 Axes>"
            ]
          },
          "metadata": {},
          "output_type": "display_data"
        }
      ],
      "source": [
        "import seaborn as sns\n",
        "import matplotlib.pyplot as plt\n",
        "\n",
        "#Ignorar los warnings de seaborn\n",
        "import warnings\n",
        "warnings.filterwarnings(\"ignore\")\n",
        "\n",
        "# Gráfico de líneas con horas de sueño por grupo de edad y género\n",
        "sns.lineplot(data=df_excel, x=\"Age\", y=\"Addicted_Score\", hue=\"Gender\", marker=\"o\",\n",
        "                          palette={\"Female\":\"#C71585\",\"Male\": \"blue\"})\n",
        "\n",
        "plt.title(\"Calificación de adicción por grupo de edad y género\")\n",
        "plt.xlabel(\"Grupo de edad\")\n",
        "plt.ylabel(\"Horas promedio de sueño\")\n",
        "plt.grid(True)\n",
        "plt.tight_layout()\n",
        "plt.show()\n"
      ]
    },
    {
      "cell_type": "code",
      "execution_count": 25,
      "metadata": {},
      "outputs": [
        {
          "data": {
            "image/png": "[encoded data removed]",
            "text/plain": [
              "<Figure size 1000x600 with 1 Axes>"
            ]
          },
          "metadata": {},
          "output_type": "display_data"
        }
      ],
      "source": [
        "# Agrupar por edad y género y calcular el promedio\n",
        "grouped = df_excel.groupby([\"Age\", \"Gender\"])[\"Addicted_Score\"].mean()\n",
        "\n",
        "# Convertir el índice para que cada género sea una columna\n",
        "pivoted = grouped.unstack()  # Ahora tienes: Age como índice, Gender como columnas\n",
        "\n",
        "# Graficar\n",
        "colores = [\"#b41fa3\", \"#0e0eff\"]\n",
        "pivoted.plot(kind=\"bar\", figsize=(10, 6), color=colores)\n",
        "plt.title(\"Calificación de adicción a las redes por edad y género\")\n",
        "plt.xlabel(\"Grupo de edad\")\n",
        "plt.ylabel(\"Nota de adicción\")\n",
        "plt.legend(title=\"Género\")\n",
        "plt.xticks(rotation=0)\n",
        "plt.tight_layout()\n",
        "plt.show()"
      ]
    },
    {
      "cell_type": "markdown",
      "metadata": {},
      "source": [
        "En estas representaciones, podemos observar como los estudiantes de 18 años se muestran con una alta adicción a las redes sociales, siendo más alto en el caso de las mujeres.\n",
        "\n",
        "En general, se puede observar que los estudiantes se valoran con una calificación de adicción en un rango de 5 a 8, menos en el caso de las mujeres de 18 años."
      ]
    },
    {
      "cell_type": "markdown",
      "metadata": {},
      "source": [
        "Observado las representaciones anteriores, vamos a explorar distintos aspectos del comportamiento y bienestar digital de los estudiantes agrupados por la columna *Country*. Para ello, vamos a realizar un conteo de estudiates que hay en cada país y que haya más de diez estudiante en ese país. Además, calcularemos sus promedios."
      ]
    },
    {
      "cell_type": "code",
      "execution_count": 26,
      "metadata": {},
      "outputs": [
        {
          "data": {
            "text/plain": [
              "Country\n",
              "India          53\n",
              "Usa            40\n",
              "Canada         34\n",
              "France         27\n",
              "Mexico         27\n",
              "Spain          27\n",
              "Turkey         27\n",
              "Ireland        27\n",
              "Denmark        27\n",
              "Switzerland    27\n",
              "Uk             22\n",
              "Japan          21\n",
              "Italy          21\n",
              "Russia         21\n",
              "Bangladesh     20\n",
              "Maldives       19\n",
              "Sri lanka      19\n",
              "Nepal          19\n",
              "Pakistan       19\n",
              "China          16\n",
              "Poland         16\n",
              "Germany        14\n",
              "Australia      14\n",
              "South korea    13\n",
              "Name: count, dtype: int64"
            ]
          },
          "execution_count": 26,
          "metadata": {},
          "output_type": "execute_result"
        }
      ],
      "source": [
        "# Cuenta de estudiantes por país\n",
        "df_excel['Country'].value_counts()[df_excel['Country'].value_counts() > 10]\n"
      ]
    },
    {
      "cell_type": "code",
      "execution_count": 27,
      "metadata": {},
      "outputs": [
        {
          "data": {
            "text/html": [
              "<div>\n",
              "<style scoped>\n",
              "    .dataframe tbody tr th:only-of-type {\n",
              "        vertical-align: middle;\n",
              "    }\n",
              "\n",
              "    .dataframe tbody tr th {\n",
              "        vertical-align: top;\n",
              "    }\n",
              "\n",
              "    .dataframe thead th {\n",
              "        text-align: right;\n",
              "    }\n",
              "</style>\n",
              "<table border=\"1\" class=\"dataframe\">\n",
              "  <thead>\n",
              "    <tr style=\"text-align: right;\">\n",
              "      <th></th>\n",
              "      <th>Age</th>\n",
              "      <th>Avg_Daily_Usage_Hours</th>\n",
              "      <th>Sleep_Hours_Per_Night</th>\n",
              "      <th>Mental_Health_Score</th>\n",
              "      <th>Conflicts_Over_Social_Media</th>\n",
              "      <th>Addicted_Score</th>\n",
              "    </tr>\n",
              "    <tr>\n",
              "      <th>Country</th>\n",
              "      <th></th>\n",
              "      <th></th>\n",
              "      <th></th>\n",
              "      <th></th>\n",
              "      <th></th>\n",
              "      <th></th>\n",
              "    </tr>\n",
              "  </thead>\n",
              "  <tbody>\n",
              "    <tr>\n",
              "      <th>Afghanistan</th>\n",
              "      <td>22.0</td>\n",
              "      <td>2.9</td>\n",
              "      <td>7.0</td>\n",
              "      <td>7.0</td>\n",
              "      <td>2.0</td>\n",
              "      <td>5.0</td>\n",
              "    </tr>\n",
              "    <tr>\n",
              "      <th>Albania</th>\n",
              "      <td>19.0</td>\n",
              "      <td>4.7</td>\n",
              "      <td>5.8</td>\n",
              "      <td>6.0</td>\n",
              "      <td>3.0</td>\n",
              "      <td>7.0</td>\n",
              "    </tr>\n",
              "    <tr>\n",
              "      <th>Andorra</th>\n",
              "      <td>19.0</td>\n",
              "      <td>5.3</td>\n",
              "      <td>5.5</td>\n",
              "      <td>5.0</td>\n",
              "      <td>4.0</td>\n",
              "      <td>8.0</td>\n",
              "    </tr>\n",
              "    <tr>\n",
              "      <th>Argentina</th>\n",
              "      <td>18.0</td>\n",
              "      <td>5.5</td>\n",
              "      <td>5.3</td>\n",
              "      <td>5.0</td>\n",
              "      <td>4.0</td>\n",
              "      <td>8.0</td>\n",
              "    </tr>\n",
              "    <tr>\n",
              "      <th>Armenia</th>\n",
              "      <td>18.0</td>\n",
              "      <td>5.9</td>\n",
              "      <td>5.2</td>\n",
              "      <td>5.0</td>\n",
              "      <td>4.0</td>\n",
              "      <td>9.0</td>\n",
              "    </tr>\n",
              "    <tr>\n",
              "      <th>...</th>\n",
              "      <td>...</td>\n",
              "      <td>...</td>\n",
              "      <td>...</td>\n",
              "      <td>...</td>\n",
              "      <td>...</td>\n",
              "      <td>...</td>\n",
              "    </tr>\n",
              "    <tr>\n",
              "      <th>Uzbekistan</th>\n",
              "      <td>19.0</td>\n",
              "      <td>5.5</td>\n",
              "      <td>5.4</td>\n",
              "      <td>5.0</td>\n",
              "      <td>4.0</td>\n",
              "      <td>8.0</td>\n",
              "    </tr>\n",
              "    <tr>\n",
              "      <th>Vatican city</th>\n",
              "      <td>20.0</td>\n",
              "      <td>4.4</td>\n",
              "      <td>6.0</td>\n",
              "      <td>6.0</td>\n",
              "      <td>3.0</td>\n",
              "      <td>7.0</td>\n",
              "    </tr>\n",
              "    <tr>\n",
              "      <th>Venezuela</th>\n",
              "      <td>22.0</td>\n",
              "      <td>3.3</td>\n",
              "      <td>6.7</td>\n",
              "      <td>7.0</td>\n",
              "      <td>2.0</td>\n",
              "      <td>5.0</td>\n",
              "    </tr>\n",
              "    <tr>\n",
              "      <th>Vietnam</th>\n",
              "      <td>21.0</td>\n",
              "      <td>3.6</td>\n",
              "      <td>6.7</td>\n",
              "      <td>7.0</td>\n",
              "      <td>1.0</td>\n",
              "      <td>5.0</td>\n",
              "    </tr>\n",
              "    <tr>\n",
              "      <th>Yemen</th>\n",
              "      <td>20.0</td>\n",
              "      <td>4.7</td>\n",
              "      <td>5.8</td>\n",
              "      <td>6.0</td>\n",
              "      <td>3.0</td>\n",
              "      <td>7.0</td>\n",
              "    </tr>\n",
              "  </tbody>\n",
              "</table>\n",
              "<p>110 rows × 6 columns</p>\n",
              "</div>"
            ],
            "text/plain": [
              "               Age  Avg_Daily_Usage_Hours  Sleep_Hours_Per_Night  \\\n",
              "Country                                                            \n",
              "Afghanistan   22.0                    2.9                    7.0   \n",
              "Albania       19.0                    4.7                    5.8   \n",
              "Andorra       19.0                    5.3                    5.5   \n",
              "Argentina     18.0                    5.5                    5.3   \n",
              "Armenia       18.0                    5.9                    5.2   \n",
              "...            ...                    ...                    ...   \n",
              "Uzbekistan    19.0                    5.5                    5.4   \n",
              "Vatican city  20.0                    4.4                    6.0   \n",
              "Venezuela     22.0                    3.3                    6.7   \n",
              "Vietnam       21.0                    3.6                    6.7   \n",
              "Yemen         20.0                    4.7                    5.8   \n",
              "\n",
              "              Mental_Health_Score  Conflicts_Over_Social_Media  Addicted_Score  \n",
              "Country                                                                         \n",
              "Afghanistan                   7.0                          2.0             5.0  \n",
              "Albania                       6.0                          3.0             7.0  \n",
              "Andorra                       5.0                          4.0             8.0  \n",
              "Argentina                     5.0                          4.0             8.0  \n",
              "Armenia                       5.0                          4.0             9.0  \n",
              "...                           ...                          ...             ...  \n",
              "Uzbekistan                    5.0                          4.0             8.0  \n",
              "Vatican city                  6.0                          3.0             7.0  \n",
              "Venezuela                     7.0                          2.0             5.0  \n",
              "Vietnam                       7.0                          1.0             5.0  \n",
              "Yemen                         6.0                          3.0             7.0  \n",
              "\n",
              "[110 rows x 6 columns]"
            ]
          },
          "execution_count": 27,
          "metadata": {},
          "output_type": "execute_result"
        }
      ],
      "source": [
        "# Promedios por país\n",
        "promedios = df_excel.groupby('Country')[[\n",
        "    'Age', \n",
        "    'Avg_Daily_Usage_Hours', \n",
        "    'Sleep_Hours_Per_Night', \n",
        "    'Mental_Health_Score', \n",
        "    'Conflicts_Over_Social_Media', \n",
        "    'Addicted_Score'\n",
        "]].mean().round(2)\n",
        "promedios"
      ]
    },
    {
      "cell_type": "markdown",
      "metadata": {},
      "source": [
        "Hecho esto, veremos que país presenta mayor adicción a las redes sociales, por parte de los estudiantes."
      ]
    },
    {
      "cell_type": "code",
      "execution_count": 28,
      "metadata": {},
      "outputs": [
        {
          "data": {
            "text/plain": [
              "Age                            18.0\n",
              "Avg_Daily_Usage_Hours           5.9\n",
              "Sleep_Hours_Per_Night           5.2\n",
              "Mental_Health_Score             5.0\n",
              "Conflicts_Over_Social_Media     4.0\n",
              "Addicted_Score                  9.0\n",
              "Name: Armenia, dtype: Float64"
            ]
          },
          "execution_count": 28,
          "metadata": {},
          "output_type": "execute_result"
        }
      ],
      "source": [
        "promedios.loc[promedios['Addicted_Score'].idxmax()]"
      ]
    },
    {
      "cell_type": "markdown",
      "metadata": {},
      "source": [
        "Otro resultado útil, es saber que plataformas son las más usadas por parte de los estudiantes. Siendo la más usada *Instagram* entre los estudiantes."
      ]
    },
    {
      "cell_type": "code",
      "execution_count": 29,
      "metadata": {},
      "outputs": [
        {
          "data": {
            "text/plain": [
              "'Instagram'"
            ]
          },
          "execution_count": 29,
          "metadata": {},
          "output_type": "execute_result"
        }
      ],
      "source": [
        "# Plataforma más usada por los estudiantes\n",
        "df_excel['Most_Used_Platform'].agg(lambda x: x.value_counts().index[0])"
      ]
    },
    {
      "cell_type": "markdown",
      "metadata": {},
      "source": [
        "Pero por género podemos observar que los hombres prefieren *Facebook*."
      ]
    },
    {
      "cell_type": "code",
      "execution_count": 30,
      "metadata": {},
      "outputs": [
        {
          "data": {
            "text/plain": [
              "Gender\n",
              "Female    Instagram\n",
              "Male       Facebook\n",
              "Name: Most_Used_Platform, dtype: object"
            ]
          },
          "execution_count": 30,
          "metadata": {},
          "output_type": "execute_result"
        }
      ],
      "source": [
        "# Plataformas más usadas por estudiantes y genero\n",
        "df_excel.groupby('Gender')['Most_Used_Platform'].agg(lambda x: x.value_counts().index[0])"
      ]
    },
    {
      "cell_type": "markdown",
      "metadata": {},
      "source": [
        "Además, podemos observar en el siguiente ranking de estudiantes las plataformas más usadas."
      ]
    },
    {
      "cell_type": "code",
      "execution_count": 31,
      "metadata": {},
      "outputs": [
        {
          "data": {
            "text/plain": [
              "Gender  Most_Used_Platform\n",
              "Female  Instagram             172\n",
              "        Tiktok                 86\n",
              "        Facebook               24\n",
              "        Twitter                16\n",
              "        Kakaotalk              12\n",
              "        Line                   12\n",
              "        Whatsapp               11\n",
              "        Linkedin                8\n",
              "        Snapchat                8\n",
              "        Wechat                  4\n",
              "Male    Facebook               99\n",
              "        Instagram              77\n",
              "        Tiktok                 68\n",
              "        Whatsapp               43\n",
              "        Twitter                14\n",
              "        Linkedin               13\n",
              "        Vkontakte              12\n",
              "        Wechat                 11\n",
              "        Youtube                10\n",
              "        Snapchat                5\n",
              "Name: count, dtype: int64"
            ]
          },
          "execution_count": 31,
          "metadata": {},
          "output_type": "execute_result"
        }
      ],
      "source": [
        "df_excel.groupby('Gender')['Most_Used_Platform'].value_counts()"
      ]
    },
    {
      "cell_type": "markdown",
      "metadata": {},
      "source": [
        "En esta tabla podemos observar como la más usada por las mujeres y los hombres son Instagram y Facebook, respectivamente. De igual manera, observamos que las menos usadas por mujeres y hombres son Wechat y Snapchat, respectivamente."
      ]
    },
    {
      "cell_type": "markdown",
      "metadata": {},
      "source": [
        "Seguidamente, mediremos si los estudiantes opinan si esta adicción afecta al rendimiento académico o no."
      ]
    },
    {
      "cell_type": "code",
      "execution_count": 32,
      "metadata": {},
      "outputs": [
        {
          "data": {
            "text/plain": [
              "Affects_Academic_Performance\n",
              "Yes    453\n",
              "No     252\n",
              "Name: count, dtype: int64"
            ]
          },
          "execution_count": 32,
          "metadata": {},
          "output_type": "execute_result"
        }
      ],
      "source": [
        "df_excel['Affects_Academic_Performance'].value_counts()"
      ]
    },
    {
      "cell_type": "code",
      "execution_count": 33,
      "metadata": {},
      "outputs": [
        {
          "data": {
            "text/plain": [
              "Affects_Academic_Performance\n",
              "Yes    64.255319\n",
              "No     35.744681\n",
              "Name: proportion, dtype: float64"
            ]
          },
          "execution_count": 33,
          "metadata": {},
          "output_type": "execute_result"
        }
      ],
      "source": [
        "# Calcular el porcentaje\n",
        "porcentaje = df_excel['Affects_Academic_Performance'].value_counts(normalize=True) * 100\n",
        "porcentaje"
      ]
    },
    {
      "cell_type": "markdown",
      "metadata": {},
      "source": [
        "Observamos como el 64,25% opinan que si afecta al rendimiento académico. Siendo más visual gracias al siguiente gráfico:"
      ]
    },
    {
      "cell_type": "code",
      "execution_count": 34,
      "metadata": {},
      "outputs": [
        {
          "data": {
            "image/png": "[encoded data removed]",
            "text/plain": [
              "<Figure size 640x480 with 1 Axes>"
            ]
          },
          "metadata": {},
          "output_type": "display_data"
        }
      ],
      "source": [
        "# Graficamos la representación de los valores por porcentaje\n",
        "df_excel['Affects_Academic_Performance'].value_counts().plot(kind='bar', color=['salmon', 'skyblue'])\n",
        "plt.title(\"¿Las redes sociales afectan el rendimiento académico?\")\n",
        "plt.xlabel(\"Respuesta\")\n",
        "plt.ylabel(\"Número de estudiantes\")\n",
        "plt.xticks(rotation=0)\n",
        "plt.tight_layout()\n",
        "plt.show()"
      ]
    },
    {
      "cell_type": "markdown",
      "metadata": {},
      "source": [
        "Se puede observar como la mayoría de los estudiantes piensan  que las redes sociales afectan al rendimiento académico. Además, si observamos  la media de adicción por nivel académico:"
      ]
    },
    {
      "cell_type": "code",
      "execution_count": 35,
      "metadata": {},
      "outputs": [
        {
          "data": {
            "text/plain": [
              "Academic_Level\n",
              "Graduate         6.243077\n",
              "Undergraduate    6.492918\n",
              "High school      8.037037\n",
              "Name: Addicted_Score, dtype: Float64"
            ]
          },
          "execution_count": 35,
          "metadata": {},
          "output_type": "execute_result"
        }
      ],
      "source": [
        "# Agrupar por nivel académico y calcular el promedio del puntaje de adicción\n",
        "avg_addiction_by_level = df_excel.groupby(\"Academic_Level\")[\"Addicted_Score\"].mean().sort_values()\n",
        "avg_addiction_by_level"
      ]
    },
    {
      "cell_type": "markdown",
      "metadata": {},
      "source": [
        "Se puede observar que el caso más alto se da en los estudiantes de instituto. Por tanto, si realizamos su representación gráfica correspondiente observaremos claramente este resultado.\n"
      ]
    },
    {
      "cell_type": "code",
      "execution_count": 36,
      "metadata": {},
      "outputs": [
        {
          "data": {
            "image/png": "[encoded data removed]",
            "text/plain": [
              "<Figure size 640x480 with 1 Axes>"
            ]
          },
          "metadata": {},
          "output_type": "display_data"
        }
      ],
      "source": [
        "import matplotlib.pyplot as plt\n",
        "\n",
        "# Agrupar y calcular la media de adicción\n",
        "avg_addiction_by_level = df_excel.groupby(\"Academic_Level\")[\"Addicted_Score\"].mean()\n",
        "\n",
        "# Graficar\n",
        "avg_addiction_by_level.plot(kind=\"bar\", color=\"red\")\n",
        "plt.title(\"Nivel de adicción por nivel académico\")\n",
        "plt.xlabel(\"Nivel académico\")\n",
        "plt.ylabel(\"Puntaje promedio de adicción\")\n",
        "plt.xticks(rotation=45)\n",
        "plt.tight_layout()\n",
        "plt.show()"
      ]
    },
    {
      "cell_type": "markdown",
      "metadata": {},
      "source": [
        "Resumidamente, observamos que contra menos nivel académico más adicción tienen los estudiantes a las redes sociales. Además, los estudiantes de Universidad (Graduate) son los que menos adicción tienen."
      ]
    },
    {
      "cell_type": "markdown",
      "metadata": {},
      "source": [
        "Finalmente, observaremos qué plataformas son usadas según su vida amorosa. En este caso, es importante para observar que plataformas usan para ligar."
      ]
    },
    {
      "cell_type": "code",
      "execution_count": 37,
      "metadata": {},
      "outputs": [
        {
          "data": {
            "image/png": "[encoded data removed]",
            "text/plain": [
              "<Figure size 1000x600 with 1 Axes>"
            ]
          },
          "metadata": {},
          "output_type": "display_data"
        }
      ],
      "source": [
        "import pandas as pd\n",
        "import seaborn as sns\n",
        "import matplotlib.pyplot as plt\n",
        "\n",
        "# Si hay espacios en los nombres, hay que corregirlos\n",
        "df_excel.columns = df_excel.columns.str.strip().str.replace(\" \", \"_\")\n",
        "\n",
        "# Crear gráfico de barras agrupadas\n",
        "plt.figure(figsize=(10, 6))\n",
        "sns.countplot(data=df_excel, x='Relationship_Status', hue='Most_Used_Platform')\n",
        "\n",
        "plt.title('Relación entre Estado Sentimental y Plataforma Más Usada')\n",
        "plt.xlabel('Estado Sentimental')\n",
        "plt.ylabel('Cantidad de Personas')\n",
        "plt.legend(title='Plataforma Más Usada', bbox_to_anchor=(1.05, 1), loc='upper left')\n",
        "plt.xticks(rotation=45)\n",
        "plt.tight_layout()\n",
        "plt.show()\n"
      ]
    },
    {
      "cell_type": "markdown",
      "metadata": {},
      "source": [
        "Los estudiantes que están en una relación suelen usar más Instagram y Facebook, pero no es tan elevado como en el caso de los estudiantes que están solteros. En este caso, los estudiantes utilizan Instagram por encima del resto de las redes sociales seguida de Tiktok."
      ]
    },
    {
      "cell_type": "markdown",
      "metadata": {},
      "source": [
        "Sabemos que las redes sociales son parte esencial de la vida diaria, pero su uso también puede generar conflictos interpersonales. Este análisis explora la relación entre la plataforma más utilizada por los usuarios y la presencia de conflictos relacionados con redes sociales, con el fin de identificar si ciertas plataformas están más asociadas a situaciones problemáticas en la vida social o personal."
      ]
    },
    {
      "cell_type": "markdown",
      "metadata": {},
      "source": [
        "Para ello, vamos a clasificar en intervalos el número de conflictos, creando una función que nos clasifique la cantidades de conflictos. En consecuencia obtenemos:"
      ]
    },
    {
      "cell_type": "code",
      "execution_count": 38,
      "metadata": {},
      "outputs": [],
      "source": [
        "def clasificar_conflicto(valor):\n",
        "    if valor <= 2:\n",
        "        return 'Bajo (0–2)'\n",
        "    else:\n",
        "        return 'Alto (3–5)'\n",
        "\n",
        "df_excel['Nivel_Conflicto'] = df_excel['Conflicts_Over_Social_Media'].apply(clasificar_conflicto)\n",
        "\n"
      ]
    },
    {
      "cell_type": "markdown",
      "metadata": {},
      "source": [
        "Una vez clasificado el número de conflictos, generamos la representación."
      ]
    },
    {
      "cell_type": "code",
      "execution_count": 39,
      "metadata": {},
      "outputs": [
        {
          "data": {
            "image/png": "[encoded data removed]",
            "text/plain": [
              "<Figure size 1000x600 with 1 Axes>"
            ]
          },
          "metadata": {},
          "output_type": "display_data"
        }
      ],
      "source": [
        "plt.figure(figsize=(10, 6))\n",
        "sns.countplot(data=df_excel, x='Most_Used_Platform', hue='Nivel_Conflicto')\n",
        "plt.title('Niveles de Conflicto según Plataforma Más Usada')\n",
        "plt.xlabel('Plataforma Más Usada')\n",
        "plt.ylabel('Cantidad de Personas')\n",
        "plt.legend(title='Nivel de Conflicto')\n",
        "plt.xticks(rotation=45)\n",
        "plt.tight_layout()\n",
        "plt.show()\n"
      ]
    },
    {
      "cell_type": "markdown",
      "metadata": {},
      "source": [
        "Podemos concluir, que las redes sociales que presentan un conflicto alto son Instagram seguida de Tiktok. Además, las que representan un bajo conflicto son LinkedIn, Line y Vkontakte."
      ]
    },
    {
      "cell_type": "markdown",
      "metadata": {},
      "source": [
        "## Análisis más en profundidad\n",
        "En este apartado veremos las relaciones existentes entre variables, aplicando librerías como *heatmap()*.\n",
        "\n",
        "En este método, **heatmap** de la librería Seaborn, podemos realizar una visualización muy efectiva para representar matrices de datos. La matriz de correlación, permite identificar relaciones lineales entre múltiples variables numéricas de forma rápida e intuitiva."
      ]
    },
    {
      "cell_type": "code",
      "execution_count": 40,
      "metadata": {},
      "outputs": [
        {
          "data": {
            "text/plain": [
              "<Axes: >"
            ]
          },
          "execution_count": 40,
          "metadata": {},
          "output_type": "execute_result"
        },
        {
          "data": {
            "image/png": "[encoded data removed]",
            "text/plain": [
              "<Figure size 640x480 with 2 Axes>"
            ]
          },
          "metadata": {},
          "output_type": "display_data"
        }
      ],
      "source": [
        "sns.heatmap(df_excel.corr(numeric_only=True), cmap=\"coolwarm\")"
      ]
    },
    {
      "cell_type": "markdown",
      "metadata": {},
      "source": [
        "Este gráfico muestra la matriz de correlación entre variables numéricas de mi conjunto de datos, donde:\n",
        "\n",
        "- Colores rojos: correlaciones positivas (a mayor una variable, mayor la otra).\n",
        "\n",
        "- Colores azules: correlaciones negativas (a mayor una variable, menor la otra).\n",
        "\n",
        "- Valores cercanos a 0: poca o ninguna correlación."
      ]
    },
    {
      "cell_type": "markdown",
      "metadata": {},
      "source": [
        "Resumidamente podemos observar de esta representación:\n",
        "\n",
        "1. *Más adicción* → menos horas de sueño  implica una peor salud mental. \n",
        "2. *Más uso diario de redes sociales* → da lugar a una mayor adicción.\n",
        "3. *Más conflictos en redes sociales* → mayor adicción implica una peor salud mental. "
      ]
    },
    {
      "cell_type": "markdown",
      "metadata": {},
      "source": [
        "## Conclusiones:\n",
        "En este documento se ha realizado un análisis sobre el conjunto de datos\n",
        "**StudentsSocialMediaAddiction_Bruto.csv**, el cual contiene datos sobre la adicción a las redes sociales de estudiantes según sus niveles de estudio. Para el estudio se ha recogido la información de 705 estudiantes.\n",
        "\n",
        "\n",
        "Los datos se dividen en las siguientes columnas: Student_ID, Age, Gender, Academic_Level, Country, Avg_Daily_Usage_Hours, Most_Used_Platform, Affects_Academic_Performance, Sleep_Hours_Per_Night, Mental_Health_Score,Relationship_Status,Conflicts_Over_Social_Media, Addicted_Score. \n",
        "\n",
        "Para este estudio, se ha evaluado si afecta el uso de las redes sociales en el nivel académico, en las horas de sueño y en la salud mental.\n",
        " En consecuencia, obtenemos las siguientes claves más relevantes:\n",
        "\n",
        "- La media de edad de los estudiantes que han participado en el estudio es de 20 años.\n",
        "- La media de uso diario de las redes sociales entre los estudiantes es de 4 horas.\n",
        "- La media de horas de descanso de los estudiantes es de 6 horas y 51 minutos.\n",
        "- La media de conflictos causados en las redes sociales es de 3.\n",
        "- La salud mental es evaluada más baja por los estudiantes de 18 años. En caso contrario, se evalúa más positivamente en los estudiantes de 23 años.\n",
        "- El uso de las redes sociales es mayor en edades de 18 años, con respecto al resto. En concreto, las muejeres hacen más uso.\n",
        "- El país donde se presenta más adicción a las redes sociales es Armenia. La causa es debida a que la edad media de los estudiantes que han participado en el estudio, en este país, tienen 18 años.\n",
        "- En Armenia, la evaluación media de los estudiantes sobre la adicción a las redes sociales es de un 9 y de salud mental de un 5.\n",
        "- Las plataformas más utilizadas por los estudiantes son Instagram (Mujeres) y Facebook (Hombres). En caso contrario, las menos utilizadas son Wechat (Mujeres) y Snapchat (Hombres).\n",
        "- Los estudiantes reconocen en un 64.26% que si afecta a sus estudios la adicción.\n",
        "- La adicción a las redes sociales es mayor en estudiantes de instituto (High School).\n",
        "- La red social que utilizan los estudiantes que no están en una relación es Instagram, siendo también la favorita entre los estudiantes que están en una relación.\n",
        "- Las redes sociales que presentan más conflictos son Instagram y Tiktok.\n",
        "\n",
        "Resumidamente, podemos indicar que la adicción a las redes sociales viene dada cuando se produce un uso no regulado de las redes sociales. Esto da lugar, a descansar menos y a tener conflictos con otras personas, además de proporcionar una mala salud mental y mal rendimiento académico."
      ]
    }
  ],
  "metadata": {
    "colab": {
      "provenance": []
    },
    "kernelspec": {
      "display_name": "Python 3",
      "language": "python",
      "name": "python3"
    },
    "language_info": {
      "codemirror_mode": {
        "name": "ipython",
        "version": 3
      },
      "file_extension": ".py",
      "mimetype": "text/x-python",
      "name": "python",
      "nbconvert_exporter": "python",
      "pygments_lexer": "ipython3",
      "version": "3.12.8"
    }
  },
  "nbformat": 4,
  "nbformat_minor": 0
}
